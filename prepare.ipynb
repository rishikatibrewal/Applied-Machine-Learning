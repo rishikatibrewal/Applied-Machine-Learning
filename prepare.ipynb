{
 "cells": [
  {
   "attachments": {},
   "cell_type": "markdown",
   "metadata": {
    "id": "tK8B_ebJ71NT"
   },
   "source": [
    "# Assignment 2 : SMS Spam Classification\n",
    "# Rishika Tibrewal, MDS202135"
   ]
  },
  {
   "cell_type": "markdown",
   "metadata": {
    "id": "z7899tkOy6vA"
   },
   "source": [
    "## Importing Libraries"
   ]
  },
  {
   "cell_type": "code",
   "execution_count": 1,
   "metadata": {
    "colab": {
     "base_uri": "https://localhost:8080/"
    },
    "id": "GeizOeKqnAzS",
    "outputId": "61bc5282-d29e-4255-dc31-bb145fa56dde"
   },
   "outputs": [],
   "source": [
    "import matplotlib.pyplot as plt\n",
    "import pandas as pd\n",
    "import numpy as np\n",
    "from sklearn.model_selection import train_test_split"
   ]
  },
  {
   "cell_type": "markdown",
   "metadata": {
    "id": "LEoeWL0cy-qt"
   },
   "source": [
    "## Looking into the Data"
   ]
  },
  {
   "cell_type": "code",
   "execution_count": 8,
   "metadata": {
    "colab": {
     "base_uri": "https://localhost:8080/",
     "height": 206
    },
    "id": "oOfQfwYVoOvO",
    "outputId": "450b42ac-3a68-4285-ae06-99a0379a4edd",
    "scrolled": true
   },
   "outputs": [
    {
     "name": "stderr",
     "output_type": "stream",
     "text": [
      "C:\\Users\\Rishika Tibrewal\\AppData\\Local\\Temp\\ipykernel_10204\\2275730191.py:1: ParserWarning: Falling back to the 'python' engine because the 'c' engine does not support regex separators (separators > 1 char and different from '\\s+' are interpreted as regex); you can avoid this warning by specifying engine='python'.\n",
      "  raw_data = pd.read_csv(\"SMSSpamCollection\",sep='/t',header=None,names=['Label','Text'])\n"
     ]
    },
    {
     "data": {
      "text/html": [
       "<div>\n",
       "<style scoped>\n",
       "    .dataframe tbody tr th:only-of-type {\n",
       "        vertical-align: middle;\n",
       "    }\n",
       "\n",
       "    .dataframe tbody tr th {\n",
       "        vertical-align: top;\n",
       "    }\n",
       "\n",
       "    .dataframe thead th {\n",
       "        text-align: right;\n",
       "    }\n",
       "</style>\n",
       "<table border=\"1\" class=\"dataframe\">\n",
       "  <thead>\n",
       "    <tr style=\"text-align: right;\">\n",
       "      <th></th>\n",
       "      <th>Label</th>\n",
       "      <th>Text</th>\n",
       "    </tr>\n",
       "  </thead>\n",
       "  <tbody>\n",
       "    <tr>\n",
       "      <th>0</th>\n",
       "      <td>ham\\tGo until jurong point, crazy.. Available ...</td>\n",
       "      <td>None</td>\n",
       "    </tr>\n",
       "    <tr>\n",
       "      <th>1</th>\n",
       "      <td>ham\\tOk lar... Joking wif u oni...</td>\n",
       "      <td>None</td>\n",
       "    </tr>\n",
       "    <tr>\n",
       "      <th>2</th>\n",
       "      <td>spam\\tFree entry in 2 a wkly comp to win FA Cu...</td>\n",
       "      <td>None</td>\n",
       "    </tr>\n",
       "    <tr>\n",
       "      <th>3</th>\n",
       "      <td>ham\\tU dun say so early hor... U c already the...</td>\n",
       "      <td>None</td>\n",
       "    </tr>\n",
       "    <tr>\n",
       "      <th>4</th>\n",
       "      <td>ham\\tNah I don't think he goes to usf, he live...</td>\n",
       "      <td>None</td>\n",
       "    </tr>\n",
       "  </tbody>\n",
       "</table>\n",
       "</div>"
      ],
      "text/plain": [
       "                                               Label  Text\n",
       "0  ham\\tGo until jurong point, crazy.. Available ...  None\n",
       "1                 ham\\tOk lar... Joking wif u oni...  None\n",
       "2  spam\\tFree entry in 2 a wkly comp to win FA Cu...  None\n",
       "3  ham\\tU dun say so early hor... U c already the...  None\n",
       "4  ham\\tNah I don't think he goes to usf, he live...  None"
      ]
     },
     "execution_count": 8,
     "metadata": {},
     "output_type": "execute_result"
    }
   ],
   "source": [
    "raw_data = pd.read_csv(\"SMSSpamCollection\",sep='/t',header=None,names=['Label','Text'])\n",
    "raw_data.head()"
   ]
  },
  {
   "cell_type": "code",
   "execution_count": 9,
   "metadata": {
    "colab": {
     "base_uri": "https://localhost:8080/"
    },
    "id": "TIQGXnCVv1dy",
    "outputId": "98ffd73d-cad2-4173-f34f-bfa88ac78c41"
   },
   "outputs": [
    {
     "data": {
      "text/plain": [
       "Label       0\n",
       "Text     5550\n",
       "dtype: int64"
      ]
     },
     "execution_count": 9,
     "metadata": {},
     "output_type": "execute_result"
    }
   ],
   "source": [
    "raw_data.isna().sum()"
   ]
  },
  {
   "cell_type": "code",
   "execution_count": 10,
   "metadata": {
    "colab": {
     "base_uri": "https://localhost:8080/",
     "height": 174
    },
    "id": "WxZHXc_7r6Z9",
    "outputId": "c639ce01-2490-4be5-a061-da644e5b16bd"
   },
   "outputs": [
    {
     "data": {
      "text/html": [
       "<div>\n",
       "<style scoped>\n",
       "    .dataframe tbody tr th:only-of-type {\n",
       "        vertical-align: middle;\n",
       "    }\n",
       "\n",
       "    .dataframe tbody tr th {\n",
       "        vertical-align: top;\n",
       "    }\n",
       "\n",
       "    .dataframe thead tr th {\n",
       "        text-align: left;\n",
       "    }\n",
       "\n",
       "    .dataframe thead tr:last-of-type th {\n",
       "        text-align: right;\n",
       "    }\n",
       "</style>\n",
       "<table border=\"1\" class=\"dataframe\">\n",
       "  <thead>\n",
       "    <tr>\n",
       "      <th></th>\n",
       "      <th colspan=\"4\" halign=\"left\">Text</th>\n",
       "    </tr>\n",
       "    <tr>\n",
       "      <th></th>\n",
       "      <th>count</th>\n",
       "      <th>unique</th>\n",
       "      <th>top</th>\n",
       "      <th>freq</th>\n",
       "    </tr>\n",
       "    <tr>\n",
       "      <th>Label</th>\n",
       "      <th></th>\n",
       "      <th></th>\n",
       "      <th></th>\n",
       "      <th></th>\n",
       "    </tr>\n",
       "  </thead>\n",
       "  <tbody>\n",
       "    <tr>\n",
       "      <th>ham\\t &amp;lt;#&amp;gt;  in mca. But not conform.</th>\n",
       "      <td>0</td>\n",
       "      <td>0</td>\n",
       "      <td>NaN</td>\n",
       "      <td>NaN</td>\n",
       "    </tr>\n",
       "    <tr>\n",
       "      <th>ham\\t &amp;lt;#&amp;gt;  mins but i had to stop somewhere first.</th>\n",
       "      <td>0</td>\n",
       "      <td>0</td>\n",
       "      <td>NaN</td>\n",
       "      <td>NaN</td>\n",
       "    </tr>\n",
       "    <tr>\n",
       "      <th>ham\\t &amp;lt;DECIMAL&amp;gt; m but its not a common car here so its better to buy from china or asia. Or if i find it less expensive. I.ll holla</th>\n",
       "      <td>0</td>\n",
       "      <td>0</td>\n",
       "      <td>NaN</td>\n",
       "      <td>NaN</td>\n",
       "    </tr>\n",
       "    <tr>\n",
       "      <th>ham\\t and  picking them up from various points</th>\n",
       "      <td>0</td>\n",
       "      <td>0</td>\n",
       "      <td>NaN</td>\n",
       "      <td>NaN</td>\n",
       "    </tr>\n",
       "    <tr>\n",
       "      <th>ham\\t came to look at the flat, seems ok, in his 50s? * Is away alot wiv work. Got woman coming at 6.30 too.</th>\n",
       "      <td>0</td>\n",
       "      <td>0</td>\n",
       "      <td>NaN</td>\n",
       "      <td>NaN</td>\n",
       "    </tr>\n",
       "    <tr>\n",
       "      <th>...</th>\n",
       "      <td>...</td>\n",
       "      <td>...</td>\n",
       "      <td>...</td>\n",
       "      <td>...</td>\n",
       "    </tr>\n",
       "    <tr>\n",
       "      <th>spam\\ttodays vodafone numbers ending with 0089(my last four digits) are selected to received a £350 award. If your number matches please call 09063442151 to claim your £350 award</th>\n",
       "      <td>0</td>\n",
       "      <td>0</td>\n",
       "      <td>NaN</td>\n",
       "      <td>NaN</td>\n",
       "    </tr>\n",
       "    <tr>\n",
       "      <th>spam\\tu r a winner U ave been specially selected 2 receive £1000 cash or a 4* holiday (flights inc) speak to a live operator 2 claim 0871277810710p/min (18 )</th>\n",
       "      <td>0</td>\n",
       "      <td>0</td>\n",
       "      <td>NaN</td>\n",
       "      <td>NaN</td>\n",
       "    </tr>\n",
       "    <tr>\n",
       "      <th>spam\\tu r subscribed 2 TEXTCOMP 250 wkly comp. 1st wk?s free question follows, subsequent wks charged@150p/msg.2 unsubscribe txt STOP 2 84128,custcare 08712405020</th>\n",
       "      <td>0</td>\n",
       "      <td>0</td>\n",
       "      <td>NaN</td>\n",
       "      <td>NaN</td>\n",
       "    </tr>\n",
       "    <tr>\n",
       "      <th>spam\\twamma get laid?want real doggin locations sent direct to your mobile? join the UKs largest dogging network. txt dogs to 69696 now!nyt. ec2a. 3lp £1.50/msg.</th>\n",
       "      <td>0</td>\n",
       "      <td>0</td>\n",
       "      <td>NaN</td>\n",
       "      <td>NaN</td>\n",
       "    </tr>\n",
       "    <tr>\n",
       "      <th>spam\\twe tried to contact you re your response to our offer of a new nokia fone and camcorder hit reply or call 08000930705 for delivery</th>\n",
       "      <td>0</td>\n",
       "      <td>0</td>\n",
       "      <td>NaN</td>\n",
       "      <td>NaN</td>\n",
       "    </tr>\n",
       "  </tbody>\n",
       "</table>\n",
       "<p>5160 rows × 4 columns</p>\n",
       "</div>"
      ],
      "text/plain": [
       "                                                    Text                 \n",
       "                                                   count unique  top freq\n",
       "Label                                                                    \n",
       "ham\\t &lt;#&gt;  in mca. But not conform.              0      0  NaN  NaN\n",
       "ham\\t &lt;#&gt;  mins but i had to stop somewhe...     0      0  NaN  NaN\n",
       "ham\\t &lt;DECIMAL&gt; m but its not a common ca...     0      0  NaN  NaN\n",
       "ham\\t and  picking them up from various points         0      0  NaN  NaN\n",
       "ham\\t came to look at the flat, seems ok, in hi...     0      0  NaN  NaN\n",
       "...                                                  ...    ...  ...  ...\n",
       "spam\\ttodays vodafone numbers ending with 0089(...     0      0  NaN  NaN\n",
       "spam\\tu r a winner U ave been specially selecte...     0      0  NaN  NaN\n",
       "spam\\tu r subscribed 2 TEXTCOMP 250 wkly comp. ...     0      0  NaN  NaN\n",
       "spam\\twamma get laid?want real doggin locations...     0      0  NaN  NaN\n",
       "spam\\twe tried to contact you re your response ...     0      0  NaN  NaN\n",
       "\n",
       "[5160 rows x 4 columns]"
      ]
     },
     "execution_count": 10,
     "metadata": {},
     "output_type": "execute_result"
    }
   ],
   "source": [
    "raw_data.groupby('Label').describe()"
   ]
  },
  {
   "cell_type": "markdown",
   "metadata": {
    "id": "QOgD76pr2UtC"
   },
   "source": [
    "Assigning the label 'spam' as 1 and 'ham' as 0"
   ]
  },
  {
   "cell_type": "code",
   "execution_count": 11,
   "metadata": {
    "id": "_T7CKl4v1nBq"
   },
   "outputs": [],
   "source": [
    "raw_data.loc[raw_data.Label == 'spam', 'Label'] = 1\n",
    "raw_data.loc[raw_data.Label == 'ham', 'Label'] = 0"
   ]
  },
  {
   "cell_type": "markdown",
   "metadata": {
    "id": "bT9cPFh37jYC"
   },
   "source": [
    "## Splitting data into Training, Validation and Test Set and saving them as csv"
   ]
  },
  {
   "cell_type": "code",
   "execution_count": 12,
   "metadata": {
    "id": "UjjPaW9c4C9e"
   },
   "outputs": [],
   "source": [
    "X_train, X_test, y_train, y_test = train_test_split(raw_data.Text, raw_data['Label'], test_size=0.15, random_state=42)\n",
    "X_train, X_val, y_train, y_val = train_test_split(X_train, y_train, test_size=0.15, random_state=42)"
   ]
  },
  {
   "cell_type": "code",
   "execution_count": 13,
   "metadata": {
    "colab": {
     "base_uri": "https://localhost:8080/"
    },
    "id": "MsWpnD-8KxD0",
    "outputId": "db79bc24-fc1b-45c7-b667-acee5648024c"
   },
   "outputs": [
    {
     "data": {
      "text/plain": [
       "(4026, 4026)"
      ]
     },
     "execution_count": 13,
     "metadata": {},
     "output_type": "execute_result"
    }
   ],
   "source": [
    "len(X_train),len(y_train)"
   ]
  },
  {
   "cell_type": "code",
   "execution_count": 14,
   "metadata": {
    "colab": {
     "base_uri": "https://localhost:8080/"
    },
    "id": "qSIOObM5KMGA",
    "outputId": "bfae8889-bd1a-45d7-a3a3-629321293a89"
   },
   "outputs": [
    {
     "data": {
      "text/plain": [
       "1131    None\n",
       "3306    None\n",
       "3491    None\n",
       "2217    None\n",
       "942     None\n",
       "Name: Text, dtype: object"
      ]
     },
     "execution_count": 14,
     "metadata": {},
     "output_type": "execute_result"
    }
   ],
   "source": [
    "X_train.head()"
   ]
  },
  {
   "cell_type": "code",
   "execution_count": 15,
   "metadata": {
    "colab": {
     "base_uri": "https://localhost:8080/"
    },
    "id": "hoFQTgoJKOIH",
    "outputId": "e47e067d-ed63-4285-a9ef-b8ebddfe4820"
   },
   "outputs": [
    {
     "data": {
      "text/plain": [
       "1131                       ham\\tHowz pain?hope u r fine..\n",
       "3306    ham\\tEe msg na poortiyagi odalebeku: Hanumanji...\n",
       "3491    ham\\tHuh but i got lesson at 4 lei n i was thi...\n",
       "2217    ham\\tOK i'm waliking ard now... Do u wan me 2 ...\n",
       "942     ham\\tTheyre doing it to lots of places. Only h...\n",
       "Name: Label, dtype: object"
      ]
     },
     "execution_count": 15,
     "metadata": {},
     "output_type": "execute_result"
    }
   ],
   "source": [
    "y_train.head()"
   ]
  },
  {
   "cell_type": "code",
   "execution_count": 16,
   "metadata": {},
   "outputs": [
    {
     "data": {
      "text/plain": [
       "ham\\tSorry, I'll call later                                                                                                                                     24\n",
       "ham\\tI cant pick the phone right now. Pls send a message                                                                                                        11\n",
       "ham\\tOk...                                                                                                                                                      10\n",
       "ham\\tOk.                                                                                                                                                         4\n",
       "ham\\tOkie                                                                                                                                                        4\n",
       "                                                                                                                                                                ..\n",
       "ham\\tSac will score big hundred.he is set batsman:-)                                                                                                             1\n",
       "ham\\ton hen night. Going with a swing                                                                                                                            1\n",
       "ham\\tK.:)you are the only girl waiting in reception ah?                                                                                                          1\n",
       "ham\\tBeautiful tomorrow never comes.. When it comes, it's already TODAY.. In the hunt of beautiful tomorrow don't waste your wonderful TODAY.. GOODMORNING:)     1\n",
       "ham\\tWe live in the next  &lt;#&gt; mins                                                                                                                         1\n",
       "Name: Label, Length: 3786, dtype: int64"
      ]
     },
     "execution_count": 16,
     "metadata": {},
     "output_type": "execute_result"
    }
   ],
   "source": [
    "y_train.value_counts()"
   ]
  },
  {
   "cell_type": "code",
   "execution_count": 17,
   "metadata": {},
   "outputs": [
    {
     "data": {
      "text/plain": [
       "ham\\tSorry, I'll call later                                                                                                                                                3\n",
       "spam\\tWan2 win a Meet+Greet with Westlife 4 U or a m8? They are currently on what tour? 1)Unbreakable, 2)Untamed, 3)Unkempt. Text 1,2 or 3 to 83049. Cost 50p +std text    2\n",
       "ham\\tPrabha..i'm soryda..realy..frm heart i'm sory                                                                                                                         2\n",
       "ham\\tSingle line with a big meaning::::: \"Miss anything 4 ur \"Best Life\" but, don't miss ur best life for anything... Gud nyt...                                           2\n",
       "ham\\tGod picked up a flower and dippeditinaDEW, lovingly touched itwhichturnedinto u, and the he gifted tomeandsaid,THIS FRIEND IS 4U                                      2\n",
       "                                                                                                                                                                          ..\n",
       "ham\\tI accidentally brought em home in the box                                                                                                                             1\n",
       "ham\\tU too...                                                                                                                                                              1\n",
       "ham\\tHaha... Where got so fast lose weight, thk muz go 4 a month den got effect... Gee,later we go aust put bk e weight.                                                   1\n",
       "ham\\tAlright omw, gotta change my order to a half8th                                                                                                                       1\n",
       "ham\\tHi baby ive just got back from work and i was wanting to see u allday! I hope i didnt piss u off on the phone today. If u are up give me a call xxx                   1\n",
       "Name: Label, Length: 703, dtype: int64"
      ]
     },
     "execution_count": 17,
     "metadata": {},
     "output_type": "execute_result"
    }
   ],
   "source": [
    "y_val.value_counts()"
   ]
  },
  {
   "cell_type": "code",
   "execution_count": 18,
   "metadata": {},
   "outputs": [
    {
     "data": {
      "text/plain": [
       "ham\\tSorry, I'll call later                                                                                                                                                 3\n",
       "ham\\tOk                                                                                                                                                                     2\n",
       "spam\\tURGENT!! Your 4* Costa Del Sol Holiday or £5000 await collection. Call 09050090044 Now toClaim. SAE, TC s, POBox334, Stockport, SK38xh, Cost£1.50/pm, Max10mins       2\n",
       "ham\\tWhatsup there. Dont u want to sleep                                                                                                                                    2\n",
       "ham\\tOh ho. Is this the first time u use these type of words                                                                                                                2\n",
       "                                                                                                                                                                           ..\n",
       "ham\\t\"Gimme a few\" was  &lt;#&gt;  minutes ago                                                                                                                              1\n",
       "spam\\tYou have an important customer service announcement. Call FREEPHONE 0800 542 0825 now!                                                                                1\n",
       "ham\\tJust sent it. So what type of food do you like?                                                                                                                        1\n",
       "spam\\tWant 2 get laid tonight? Want real Dogging locations sent direct 2 ur mob? Join the UK's largest Dogging Network bt Txting GRAVEL to 69888! Nt. ec2a. 31p.msg@150p    1\n",
       "spam\\tMissed call alert. These numbers called but left no message. 07008009200                                                                                              1\n",
       "Name: Label, Length: 824, dtype: int64"
      ]
     },
     "execution_count": 18,
     "metadata": {},
     "output_type": "execute_result"
    }
   ],
   "source": [
    "y_test.value_counts()"
   ]
  },
  {
   "cell_type": "code",
   "execution_count": 19,
   "metadata": {
    "id": "C_zmtDkL5WqB"
   },
   "outputs": [],
   "source": [
    "df_train = pd.DataFrame(list(zip(X_train,y_train)),columns=[\"Text\",'Label'])\n",
    "df_train.to_csv('Training Data.csv',index=False) "
   ]
  },
  {
   "cell_type": "code",
   "execution_count": 20,
   "metadata": {
    "colab": {
     "base_uri": "https://localhost:8080/"
    },
    "id": "BQRDq5sWK2gE",
    "outputId": "9e45f45b-f007-4cfe-a69a-247710e10f8e"
   },
   "outputs": [
    {
     "data": {
      "text/plain": [
       "(711, 711)"
      ]
     },
     "execution_count": 20,
     "metadata": {},
     "output_type": "execute_result"
    }
   ],
   "source": [
    "len(X_val),len(y_val)"
   ]
  },
  {
   "cell_type": "code",
   "execution_count": 21,
   "metadata": {
    "colab": {
     "base_uri": "https://localhost:8080/"
    },
    "id": "nfhdI0DzKSYD",
    "outputId": "ce8a4b1d-d702-4e89-c7ea-2bf14c24563c"
   },
   "outputs": [
    {
     "data": {
      "text/plain": [
       "855     None\n",
       "75      None\n",
       "3550    None\n",
       "2803    None\n",
       "232     None\n",
       "Name: Text, dtype: object"
      ]
     },
     "execution_count": 21,
     "metadata": {},
     "output_type": "execute_result"
    }
   ],
   "source": [
    "X_val.head()"
   ]
  },
  {
   "cell_type": "code",
   "execution_count": 22,
   "metadata": {
    "colab": {
     "base_uri": "https://localhost:8080/"
    },
    "id": "uR3ZMc8J5IiU",
    "outputId": "3fb92519-53ee-43f5-b3d8-f4735598af4c"
   },
   "outputs": [
    {
     "data": {
      "text/plain": [
       "855     ham\\tStop the story. I've told him i've return...\n",
       "75       ham\\tI am waiting machan. Call me once you free.\n",
       "3550    ham\\tI got like $ &lt;#&gt; , I can get some m...\n",
       "2803    ham\\tAnd smile for me right now as you go and ...\n",
       "232            ham\\tDear we are going to our rubber place\n",
       "Name: Label, dtype: object"
      ]
     },
     "execution_count": 22,
     "metadata": {},
     "output_type": "execute_result"
    }
   ],
   "source": [
    "y_val.head()"
   ]
  },
  {
   "cell_type": "code",
   "execution_count": 23,
   "metadata": {
    "id": "vhBjLqAc5l9w"
   },
   "outputs": [],
   "source": [
    "df_val = pd.DataFrame(list(zip(X_val,y_val)),columns=[\"Message\",'Label'])\n",
    "df_val.to_csv('Validation Data.csv',index=False) "
   ]
  },
  {
   "cell_type": "code",
   "execution_count": 24,
   "metadata": {
    "colab": {
     "base_uri": "https://localhost:8080/"
    },
    "id": "weDwgS1N5Lmw",
    "outputId": "f6bd097d-1990-49f8-e958-589c402f9b19"
   },
   "outputs": [
    {
     "data": {
      "text/plain": [
       "(837, 837)"
      ]
     },
     "execution_count": 24,
     "metadata": {},
     "output_type": "execute_result"
    }
   ],
   "source": [
    "len(X_test),len(y_test)"
   ]
  },
  {
   "cell_type": "code",
   "execution_count": 25,
   "metadata": {
    "colab": {
     "base_uri": "https://localhost:8080/"
    },
    "id": "uOA8N8t35NUa",
    "outputId": "4f09fd53-e875-4524-de3b-cef76143065e"
   },
   "outputs": [
    {
     "data": {
      "text/plain": [
       "3690    None\n",
       "3527    None\n",
       "724     None\n",
       "3370    None\n",
       "468     None\n",
       "Name: Text, dtype: object"
      ]
     },
     "execution_count": 25,
     "metadata": {},
     "output_type": "execute_result"
    }
   ],
   "source": [
    "X_test.head()"
   ]
  },
  {
   "cell_type": "code",
   "execution_count": 26,
   "metadata": {
    "colab": {
     "base_uri": "https://localhost:8080/"
    },
    "id": "56S6Wmyz5QEe",
    "outputId": "45a04a9e-2977-4488-950b-80bf61f5b4fa"
   },
   "outputs": [
    {
     "data": {
      "text/plain": [
       "3690                       ham\\tYou still coming tonight?\n",
       "3527    ham\\t\"HEY BABE! FAR 2 SPUN-OUT 2 SPK AT DA MO....\n",
       "724         ham\\tYa even those cookies have jelly on them\n",
       "3370    ham\\tSorry i've not gone to that place. I.ll d...\n",
       "468            ham\\tWhen are you going to ride your bike?\n",
       "Name: Label, dtype: object"
      ]
     },
     "execution_count": 26,
     "metadata": {},
     "output_type": "execute_result"
    }
   ],
   "source": [
    "y_test.head()"
   ]
  },
  {
   "cell_type": "code",
   "execution_count": 27,
   "metadata": {
    "id": "EGh5PNys5c9D"
   },
   "outputs": [],
   "source": [
    "df_test = pd.DataFrame(list(zip(X_test,y_test)),columns=[\"Message\",'Label'])\n",
    "df_test.to_csv('Test Data.csv',index=False) "
   ]
  }
 ],
 "metadata": {
  "colab": {
   "provenance": []
  },
  "kernelspec": {
   "display_name": "base",
   "language": "python",
   "name": "python3"
  },
  "language_info": {
   "codemirror_mode": {
    "name": "ipython",
    "version": 3
   },
   "file_extension": ".py",
   "mimetype": "text/x-python",
   "name": "python",
   "nbconvert_exporter": "python",
   "pygments_lexer": "ipython3",
   "version": "3.9.13"
  },
  "vscode": {
   "interpreter": {
    "hash": "ece77b0843db71273538cad857e71b598e540eebce8583a3625d9bb208bd9e1f"
   }
  }
 },
 "nbformat": 4,
 "nbformat_minor": 1
}
