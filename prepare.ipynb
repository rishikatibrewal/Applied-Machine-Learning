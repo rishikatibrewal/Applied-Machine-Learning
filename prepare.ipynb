{
 "cells": [
  {
   "attachments": {},
   "cell_type": "markdown",
   "metadata": {
    "id": "tK8B_ebJ71NT"
   },
   "source": [
    "# Assignment 2 : SMS Spam Classification\n",
    "# Rishika Tibrewal, MDS202135"
   ]
  },
  {
   "cell_type": "markdown",
   "metadata": {
    "id": "z7899tkOy6vA"
   },
   "source": [
    "## Importing Libraries"
   ]
  },
  {
   "cell_type": "code",
   "execution_count": 22,
   "metadata": {
    "colab": {
     "base_uri": "https://localhost:8080/"
    },
    "id": "GeizOeKqnAzS",
    "outputId": "61bc5282-d29e-4255-dc31-bb145fa56dde"
   },
   "outputs": [],
   "source": [
    "import matplotlib.pyplot as plt\n",
    "import pandas as pd\n",
    "import numpy as np\n",
    "from sklearn.model_selection import train_test_split"
   ]
  },
  {
   "cell_type": "markdown",
   "metadata": {
    "id": "LEoeWL0cy-qt"
   },
   "source": [
    "## Looking into the Data"
   ]
  },
  {
   "cell_type": "code",
   "execution_count": 23,
   "metadata": {
    "colab": {
     "base_uri": "https://localhost:8080/",
     "height": 206
    },
    "id": "oOfQfwYVoOvO",
    "outputId": "450b42ac-3a68-4285-ae06-99a0379a4edd",
    "scrolled": true
   },
   "outputs": [
    {
     "name": "stderr",
     "output_type": "stream",
     "text": [
      "C:\\Users\\Rishika Tibrewal\\AppData\\Local\\Temp\\ipykernel_17880\\3153979692.py:1: ParserWarning: Falling back to the 'python' engine because the 'c' engine does not support regex separators (separators > 1 char and different from '\\s+' are interpreted as regex); you can avoid this warning by specifying engine='python'.\n",
      "  raw_data = pd.read_csv(\"SMSSpamCollection\",sep='/t',header=None,names=['Label','Text'])\n"
     ]
    },
    {
     "data": {
      "text/html": [
       "<div>\n",
       "<style scoped>\n",
       "    .dataframe tbody tr th:only-of-type {\n",
       "        vertical-align: middle;\n",
       "    }\n",
       "\n",
       "    .dataframe tbody tr th {\n",
       "        vertical-align: top;\n",
       "    }\n",
       "\n",
       "    .dataframe thead th {\n",
       "        text-align: right;\n",
       "    }\n",
       "</style>\n",
       "<table border=\"1\" class=\"dataframe\">\n",
       "  <thead>\n",
       "    <tr style=\"text-align: right;\">\n",
       "      <th></th>\n",
       "      <th>Label</th>\n",
       "      <th>Text</th>\n",
       "    </tr>\n",
       "  </thead>\n",
       "  <tbody>\n",
       "    <tr>\n",
       "      <th>0</th>\n",
       "      <td>ham\\tGo until jurong point, crazy.. Available ...</td>\n",
       "      <td>None</td>\n",
       "    </tr>\n",
       "    <tr>\n",
       "      <th>1</th>\n",
       "      <td>ham\\tOk lar... Joking wif u oni...</td>\n",
       "      <td>None</td>\n",
       "    </tr>\n",
       "    <tr>\n",
       "      <th>2</th>\n",
       "      <td>spam\\tFree entry in 2 a wkly comp to win FA Cu...</td>\n",
       "      <td>None</td>\n",
       "    </tr>\n",
       "    <tr>\n",
       "      <th>3</th>\n",
       "      <td>ham\\tU dun say so early hor... U c already the...</td>\n",
       "      <td>None</td>\n",
       "    </tr>\n",
       "    <tr>\n",
       "      <th>4</th>\n",
       "      <td>ham\\tNah I don't think he goes to usf, he live...</td>\n",
       "      <td>None</td>\n",
       "    </tr>\n",
       "  </tbody>\n",
       "</table>\n",
       "</div>"
      ],
      "text/plain": [
       "                                               Label  Text\n",
       "0  ham\\tGo until jurong point, crazy.. Available ...  None\n",
       "1                 ham\\tOk lar... Joking wif u oni...  None\n",
       "2  spam\\tFree entry in 2 a wkly comp to win FA Cu...  None\n",
       "3  ham\\tU dun say so early hor... U c already the...  None\n",
       "4  ham\\tNah I don't think he goes to usf, he live...  None"
      ]
     },
     "execution_count": 23,
     "metadata": {},
     "output_type": "execute_result"
    }
   ],
   "source": [
    "raw_data = pd.read_csv(\"SMSSpamCollection\",sep='/t',header=None,names=['Label','Text'])\n",
    "raw_data.head()"
   ]
  },
  {
   "cell_type": "code",
   "execution_count": 24,
   "metadata": {
    "colab": {
     "base_uri": "https://localhost:8080/"
    },
    "id": "TIQGXnCVv1dy",
    "outputId": "98ffd73d-cad2-4173-f34f-bfa88ac78c41"
   },
   "outputs": [
    {
     "data": {
      "text/plain": [
       "Label       0\n",
       "Text     5550\n",
       "dtype: int64"
      ]
     },
     "execution_count": 24,
     "metadata": {},
     "output_type": "execute_result"
    }
   ],
   "source": [
    "raw_data.isna().sum()"
   ]
  },
  {
   "cell_type": "code",
   "execution_count": 25,
   "metadata": {
    "colab": {
     "base_uri": "https://localhost:8080/",
     "height": 174
    },
    "id": "WxZHXc_7r6Z9",
    "outputId": "c639ce01-2490-4be5-a061-da644e5b16bd"
   },
   "outputs": [
    {
     "data": {
      "text/html": [
       "<div>\n",
       "<style scoped>\n",
       "    .dataframe tbody tr th:only-of-type {\n",
       "        vertical-align: middle;\n",
       "    }\n",
       "\n",
       "    .dataframe tbody tr th {\n",
       "        vertical-align: top;\n",
       "    }\n",
       "\n",
       "    .dataframe thead tr th {\n",
       "        text-align: left;\n",
       "    }\n",
       "\n",
       "    .dataframe thead tr:last-of-type th {\n",
       "        text-align: right;\n",
       "    }\n",
       "</style>\n",
       "<table border=\"1\" class=\"dataframe\">\n",
       "  <thead>\n",
       "    <tr>\n",
       "      <th></th>\n",
       "      <th colspan=\"4\" halign=\"left\">Text</th>\n",
       "    </tr>\n",
       "    <tr>\n",
       "      <th></th>\n",
       "      <th>count</th>\n",
       "      <th>unique</th>\n",
       "      <th>top</th>\n",
       "      <th>freq</th>\n",
       "    </tr>\n",
       "    <tr>\n",
       "      <th>Label</th>\n",
       "      <th></th>\n",
       "      <th></th>\n",
       "      <th></th>\n",
       "      <th></th>\n",
       "    </tr>\n",
       "  </thead>\n",
       "  <tbody>\n",
       "    <tr>\n",
       "      <th>ham\\t &amp;lt;#&amp;gt;  in mca. But not conform.</th>\n",
       "      <td>0</td>\n",
       "      <td>0</td>\n",
       "      <td>NaN</td>\n",
       "      <td>NaN</td>\n",
       "    </tr>\n",
       "    <tr>\n",
       "      <th>ham\\t &amp;lt;#&amp;gt;  mins but i had to stop somewhere first.</th>\n",
       "      <td>0</td>\n",
       "      <td>0</td>\n",
       "      <td>NaN</td>\n",
       "      <td>NaN</td>\n",
       "    </tr>\n",
       "    <tr>\n",
       "      <th>ham\\t &amp;lt;DECIMAL&amp;gt; m but its not a common car here so its better to buy from china or asia. Or if i find it less expensive. I.ll holla</th>\n",
       "      <td>0</td>\n",
       "      <td>0</td>\n",
       "      <td>NaN</td>\n",
       "      <td>NaN</td>\n",
       "    </tr>\n",
       "    <tr>\n",
       "      <th>ham\\t and  picking them up from various points</th>\n",
       "      <td>0</td>\n",
       "      <td>0</td>\n",
       "      <td>NaN</td>\n",
       "      <td>NaN</td>\n",
       "    </tr>\n",
       "    <tr>\n",
       "      <th>ham\\t came to look at the flat, seems ok, in his 50s? * Is away alot wiv work. Got woman coming at 6.30 too.</th>\n",
       "      <td>0</td>\n",
       "      <td>0</td>\n",
       "      <td>NaN</td>\n",
       "      <td>NaN</td>\n",
       "    </tr>\n",
       "    <tr>\n",
       "      <th>...</th>\n",
       "      <td>...</td>\n",
       "      <td>...</td>\n",
       "      <td>...</td>\n",
       "      <td>...</td>\n",
       "    </tr>\n",
       "    <tr>\n",
       "      <th>spam\\ttodays vodafone numbers ending with 0089(my last four digits) are selected to received a £350 award. If your number matches please call 09063442151 to claim your £350 award</th>\n",
       "      <td>0</td>\n",
       "      <td>0</td>\n",
       "      <td>NaN</td>\n",
       "      <td>NaN</td>\n",
       "    </tr>\n",
       "    <tr>\n",
       "      <th>spam\\tu r a winner U ave been specially selected 2 receive £1000 cash or a 4* holiday (flights inc) speak to a live operator 2 claim 0871277810710p/min (18 )</th>\n",
       "      <td>0</td>\n",
       "      <td>0</td>\n",
       "      <td>NaN</td>\n",
       "      <td>NaN</td>\n",
       "    </tr>\n",
       "    <tr>\n",
       "      <th>spam\\tu r subscribed 2 TEXTCOMP 250 wkly comp. 1st wk?s free question follows, subsequent wks charged@150p/msg.2 unsubscribe txt STOP 2 84128,custcare 08712405020</th>\n",
       "      <td>0</td>\n",
       "      <td>0</td>\n",
       "      <td>NaN</td>\n",
       "      <td>NaN</td>\n",
       "    </tr>\n",
       "    <tr>\n",
       "      <th>spam\\twamma get laid?want real doggin locations sent direct to your mobile? join the UKs largest dogging network. txt dogs to 69696 now!nyt. ec2a. 3lp £1.50/msg.</th>\n",
       "      <td>0</td>\n",
       "      <td>0</td>\n",
       "      <td>NaN</td>\n",
       "      <td>NaN</td>\n",
       "    </tr>\n",
       "    <tr>\n",
       "      <th>spam\\twe tried to contact you re your response to our offer of a new nokia fone and camcorder hit reply or call 08000930705 for delivery</th>\n",
       "      <td>0</td>\n",
       "      <td>0</td>\n",
       "      <td>NaN</td>\n",
       "      <td>NaN</td>\n",
       "    </tr>\n",
       "  </tbody>\n",
       "</table>\n",
       "<p>5160 rows × 4 columns</p>\n",
       "</div>"
      ],
      "text/plain": [
       "                                                    Text                 \n",
       "                                                   count unique  top freq\n",
       "Label                                                                    \n",
       "ham\\t &lt;#&gt;  in mca. But not conform.              0      0  NaN  NaN\n",
       "ham\\t &lt;#&gt;  mins but i had to stop somewhe...     0      0  NaN  NaN\n",
       "ham\\t &lt;DECIMAL&gt; m but its not a common ca...     0      0  NaN  NaN\n",
       "ham\\t and  picking them up from various points         0      0  NaN  NaN\n",
       "ham\\t came to look at the flat, seems ok, in hi...     0      0  NaN  NaN\n",
       "...                                                  ...    ...  ...  ...\n",
       "spam\\ttodays vodafone numbers ending with 0089(...     0      0  NaN  NaN\n",
       "spam\\tu r a winner U ave been specially selecte...     0      0  NaN  NaN\n",
       "spam\\tu r subscribed 2 TEXTCOMP 250 wkly comp. ...     0      0  NaN  NaN\n",
       "spam\\twamma get laid?want real doggin locations...     0      0  NaN  NaN\n",
       "spam\\twe tried to contact you re your response ...     0      0  NaN  NaN\n",
       "\n",
       "[5160 rows x 4 columns]"
      ]
     },
     "execution_count": 25,
     "metadata": {},
     "output_type": "execute_result"
    }
   ],
   "source": [
    "raw_data.groupby('Label').describe()"
   ]
  },
  {
   "cell_type": "markdown",
   "metadata": {
    "id": "QOgD76pr2UtC"
   },
   "source": [
    "Assigning the label 'spam' as 1 and 'ham' as 0"
   ]
  },
  {
   "cell_type": "code",
   "execution_count": 26,
   "metadata": {
    "id": "_T7CKl4v1nBq"
   },
   "outputs": [],
   "source": [
    "raw_data.loc[raw_data.Label == 'spam', 'Label'] = 1\n",
    "raw_data.loc[raw_data.Label == 'ham', 'Label'] = 0"
   ]
  },
  {
   "cell_type": "markdown",
   "metadata": {
    "id": "bT9cPFh37jYC"
   },
   "source": [
    "## Splitting data into Training, Validation and Test Set and saving them as csv"
   ]
  },
  {
   "cell_type": "code",
   "execution_count": 27,
   "metadata": {
    "id": "UjjPaW9c4C9e"
   },
   "outputs": [],
   "source": [
    "X_train, X_test, y_train, y_test = train_test_split(raw_data.Text, raw_data['Label'], test_size=0.15, random_state=101)\n",
    "X_train, X_val, y_train, y_val = train_test_split(X_train, y_train, test_size=0.15, random_state=101)"
   ]
  },
  {
   "cell_type": "code",
   "execution_count": 28,
   "metadata": {
    "colab": {
     "base_uri": "https://localhost:8080/"
    },
    "id": "MsWpnD-8KxD0",
    "outputId": "db79bc24-fc1b-45c7-b667-acee5648024c"
   },
   "outputs": [
    {
     "data": {
      "text/plain": [
       "(4026, 4026)"
      ]
     },
     "execution_count": 28,
     "metadata": {},
     "output_type": "execute_result"
    }
   ],
   "source": [
    "len(X_train),len(y_train)"
   ]
  },
  {
   "cell_type": "code",
   "execution_count": 29,
   "metadata": {
    "colab": {
     "base_uri": "https://localhost:8080/"
    },
    "id": "qSIOObM5KMGA",
    "outputId": "bfae8889-bd1a-45d7-a3a3-629321293a89"
   },
   "outputs": [
    {
     "data": {
      "text/plain": [
       "4303    None\n",
       "576     None\n",
       "2950    None\n",
       "5465    None\n",
       "2219    None\n",
       "Name: Text, dtype: object"
      ]
     },
     "execution_count": 29,
     "metadata": {},
     "output_type": "execute_result"
    }
   ],
   "source": [
    "X_train.head()"
   ]
  },
  {
   "cell_type": "code",
   "execution_count": 30,
   "metadata": {
    "colab": {
     "base_uri": "https://localhost:8080/"
    },
    "id": "hoFQTgoJKOIH",
    "outputId": "e47e067d-ed63-4285-a9ef-b8ebddfe4820"
   },
   "outputs": [
    {
     "data": {
      "text/plain": [
       "4303    ham\\tAiyar hard 2 type. U later free then tell...\n",
       "576     spam\\tYou have won ?1,000 cash or a ?2,000 pri...\n",
       "2950             ham\\tat bruce b downs &amp; fletcher now\n",
       "5465                               ham\\tU GOIN OUT 2NITE?\n",
       "2219    ham\\tNice talking to you! please dont forget m...\n",
       "Name: Label, dtype: object"
      ]
     },
     "execution_count": 30,
     "metadata": {},
     "output_type": "execute_result"
    }
   ],
   "source": [
    "y_train.head()"
   ]
  },
  {
   "cell_type": "code",
   "execution_count": 31,
   "metadata": {},
   "outputs": [
    {
     "data": {
      "text/plain": [
       "ham\\tSorry, I'll call later                                                                                                                                               21\n",
       "ham\\tI cant pick the phone right now. Pls send a message                                                                                                                   6\n",
       "ham\\tOk...                                                                                                                                                                 5\n",
       "ham\\tOk.                                                                                                                                                                   4\n",
       "ham\\tAs I entered my cabin my PA said, '' Happy B'day Boss !!''. I felt special. She askd me 4 lunch. After lunch she invited me to her apartment. We went there.          3\n",
       "                                                                                                                                                                          ..\n",
       "ham\\tI'm in office now . I will call you  &lt;#&gt;  min:)                                                                                                                 1\n",
       "ham\\tK.k:)when are you going?                                                                                                                                              1\n",
       "ham\\tWell if I'm that desperate I'll just call armand again                                                                                                                1\n",
       "ham\\tUgh y can't u just apologize, admit u were wrong and ask me to take u back?                                                                                           1\n",
       "ham\\tThere is os called ubandu which will run without installing in hard disk...you can use that os to copy the important files in system and give it to repair shop..     1\n",
       "Name: Label, Length: 3802, dtype: int64"
      ]
     },
     "execution_count": 31,
     "metadata": {},
     "output_type": "execute_result"
    }
   ],
   "source": [
    "y_train.value_counts()"
   ]
  },
  {
   "cell_type": "code",
   "execution_count": 32,
   "metadata": {},
   "outputs": [
    {
     "data": {
      "text/plain": [
       "ham\\tSorry, I'll call later                                                                                                                                    5\n",
       "ham\\tI am not having her number sir                                                                                                                            2\n",
       "ham\\taathi..where are you dear..                                                                                                                               2\n",
       "ham\\tI cant pick the phone right now. Pls send a message                                                                                                       2\n",
       "spam\\tSpook up your mob with a Halloween collection of a logo & pic message plus a free eerie tone, txt CARD SPOOK to 8007 zed 08701417012150p per logo/pic    2\n",
       "                                                                                                                                                              ..\n",
       "ham\\tDont pack what you can buy at any store.like cereals. If you must pack food, pack gari or something 9ja that you will miss.                               1\n",
       "ham\\tYeah I don't see why not                                                                                                                                  1\n",
       "ham\\tI will come with karnan car. Please wait till 6pm will directly goto doctor.                                                                              1\n",
       "ham\\tÜ thk of wat to eat tonight.                                                                                                                              1\n",
       "ham\\tjay says he'll put in  &lt;#&gt;                                                                                                                          1\n",
       "Name: Label, Length: 697, dtype: int64"
      ]
     },
     "execution_count": 32,
     "metadata": {},
     "output_type": "execute_result"
    }
   ],
   "source": [
    "y_val.value_counts()"
   ]
  },
  {
   "cell_type": "code",
   "execution_count": 33,
   "metadata": {},
   "outputs": [
    {
     "data": {
      "text/plain": [
       "ham\\tSorry, I'll call later                                                                                                                                               4\n",
       "ham\\tI cant pick the phone right now. Pls send a message                                                                                                                  4\n",
       "ham\\tOk...                                                                                                                                                                3\n",
       "spam\\tCongrats 2 mobile 3G Videophones R yours. call 09063458130 now! videochat wid ur mates, play java games, Dload polypH music, noline rentl. bx420. ip4. 5we. 150p    2\n",
       "spam\\tUrgent! call 09066350750 from your landline. Your complimentary 4* Ibiza Holiday or 10,000 cash await collection SAE T&Cs PO BOX 434 SK3 8WP 150 ppm 18+            2\n",
       "                                                                                                                                                                         ..\n",
       "ham\\tWhy nothing. Ok anyway give me treat                                                                                                                                 1\n",
       "ham\\tLeave it. U will always be ignorant.                                                                                                                                 1\n",
       "ham\\tGoing to take your babe out ?                                                                                                                                        1\n",
       "spam\\tGet 3 Lions England tone, reply lionm 4 mono or lionp 4 poly. 4 more go 2 www.ringtones.co.uk, the original n best. Tones 3GBP network operator rates apply.        1\n",
       "ham\\tTa-Daaaaa! I am home babe, are you still up ?                                                                                                                        1\n",
       "Name: Label, Length: 818, dtype: int64"
      ]
     },
     "execution_count": 33,
     "metadata": {},
     "output_type": "execute_result"
    }
   ],
   "source": [
    "y_test.value_counts()"
   ]
  },
  {
   "cell_type": "code",
   "execution_count": 34,
   "metadata": {
    "id": "C_zmtDkL5WqB"
   },
   "outputs": [],
   "source": [
    "df_train = pd.DataFrame(list(zip(X_train,y_train)),columns=[\"Text\",'Label'])\n",
    "df_train.to_csv('Training Data.csv',index=False) "
   ]
  },
  {
   "cell_type": "code",
   "execution_count": 35,
   "metadata": {
    "colab": {
     "base_uri": "https://localhost:8080/"
    },
    "id": "BQRDq5sWK2gE",
    "outputId": "9e45f45b-f007-4cfe-a69a-247710e10f8e"
   },
   "outputs": [
    {
     "data": {
      "text/plain": [
       "(711, 711)"
      ]
     },
     "execution_count": 35,
     "metadata": {},
     "output_type": "execute_result"
    }
   ],
   "source": [
    "len(X_val),len(y_val)"
   ]
  },
  {
   "cell_type": "code",
   "execution_count": 36,
   "metadata": {
    "colab": {
     "base_uri": "https://localhost:8080/"
    },
    "id": "nfhdI0DzKSYD",
    "outputId": "ce8a4b1d-d702-4e89-c7ea-2bf14c24563c"
   },
   "outputs": [
    {
     "data": {
      "text/plain": [
       "3803    None\n",
       "5078    None\n",
       "3076    None\n",
       "1547    None\n",
       "5274    None\n",
       "Name: Text, dtype: object"
      ]
     },
     "execution_count": 36,
     "metadata": {},
     "output_type": "execute_result"
    }
   ],
   "source": [
    "X_val.head()"
   ]
  },
  {
   "cell_type": "code",
   "execution_count": 37,
   "metadata": {
    "colab": {
     "base_uri": "https://localhost:8080/"
    },
    "id": "uR3ZMc8J5IiU",
    "outputId": "3fb92519-53ee-43f5-b3d8-f4735598af4c"
   },
   "outputs": [
    {
     "data": {
      "text/plain": [
       "3803       ham\\tNo da. I am happy that we sit together na\n",
       "5078    ham\\tGuy, no flash me now. If you go call me, ...\n",
       "3076    ham\\tTake us out shopping and Mark will distra...\n",
       "1547           ham\\tShant disturb u anymore... Jia you...\n",
       "5274    ham\\tHello.How u doing?What u been up 2?When w...\n",
       "Name: Label, dtype: object"
      ]
     },
     "execution_count": 37,
     "metadata": {},
     "output_type": "execute_result"
    }
   ],
   "source": [
    "y_val.head()"
   ]
  },
  {
   "cell_type": "code",
   "execution_count": 38,
   "metadata": {
    "id": "vhBjLqAc5l9w"
   },
   "outputs": [],
   "source": [
    "df_val = pd.DataFrame(list(zip(X_val,y_val)),columns=[\"Text\",'Label'])\n",
    "df_val.to_csv('Validation Data.csv',index=False) "
   ]
  },
  {
   "cell_type": "code",
   "execution_count": 39,
   "metadata": {
    "colab": {
     "base_uri": "https://localhost:8080/"
    },
    "id": "weDwgS1N5Lmw",
    "outputId": "f6bd097d-1990-49f8-e958-589c402f9b19"
   },
   "outputs": [
    {
     "data": {
      "text/plain": [
       "(837, 837)"
      ]
     },
     "execution_count": 39,
     "metadata": {},
     "output_type": "execute_result"
    }
   ],
   "source": [
    "len(X_test),len(y_test)"
   ]
  },
  {
   "cell_type": "code",
   "execution_count": 40,
   "metadata": {
    "colab": {
     "base_uri": "https://localhost:8080/"
    },
    "id": "uOA8N8t35NUa",
    "outputId": "4f09fd53-e875-4524-de3b-cef76143065e"
   },
   "outputs": [
    {
     "data": {
      "text/plain": [
       "2374    None\n",
       "3482    None\n",
       "54      None\n",
       "4188    None\n",
       "1564    None\n",
       "Name: Text, dtype: object"
      ]
     },
     "execution_count": 40,
     "metadata": {},
     "output_type": "execute_result"
    }
   ],
   "source": [
    "X_test.head()"
   ]
  },
  {
   "cell_type": "code",
   "execution_count": 41,
   "metadata": {
    "colab": {
     "base_uri": "https://localhost:8080/"
    },
    "id": "56S6Wmyz5QEe",
    "outputId": "45a04a9e-2977-4488-950b-80bf61f5b4fa"
   },
   "outputs": [
    {
     "data": {
      "text/plain": [
       "2374    spam\\tXMAS Prize draws! We are trying to conta...\n",
       "3482                        ham\\tWherre's my boytoy ? :-(\n",
       "54      spam\\tSMS. ac Sptv: The New Jersey Devils and ...\n",
       "4188                ham\\tDear got bus directly to calicut\n",
       "1564    ham\\tGet ready to put on your excellent sub fa...\n",
       "Name: Label, dtype: object"
      ]
     },
     "execution_count": 41,
     "metadata": {},
     "output_type": "execute_result"
    }
   ],
   "source": [
    "y_test.head()"
   ]
  },
  {
   "cell_type": "code",
   "execution_count": 42,
   "metadata": {
    "id": "EGh5PNys5c9D"
   },
   "outputs": [],
   "source": [
    "df_test = pd.DataFrame(list(zip(X_test,y_test)),columns=[\"Text\",'Label'])\n",
    "df_test.to_csv('Test Data.csv',index=False) "
   ]
  }
 ],
 "metadata": {
  "colab": {
   "provenance": []
  },
  "kernelspec": {
   "display_name": "base",
   "language": "python",
   "name": "python3"
  },
  "language_info": {
   "codemirror_mode": {
    "name": "ipython",
    "version": 3
   },
   "file_extension": ".py",
   "mimetype": "text/x-python",
   "name": "python",
   "nbconvert_exporter": "python",
   "pygments_lexer": "ipython3",
   "version": "3.9.13"
  },
  "vscode": {
   "interpreter": {
    "hash": "ece77b0843db71273538cad857e71b598e540eebce8583a3625d9bb208bd9e1f"
   }
  }
 },
 "nbformat": 4,
 "nbformat_minor": 1
}
