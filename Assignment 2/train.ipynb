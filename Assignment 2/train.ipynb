{
  "cells": [
    {
      "cell_type": "markdown",
      "metadata": {
        "id": "7E6irwvNwfYq"
      },
      "source": [
        "# Assignment 2 : SMS Spam Classification\n",
        "# Rishika Tibrewal, MDS202135"
      ]
    },
    {
      "cell_type": "markdown",
      "metadata": {
        "id": "BnM_abBAwarO"
      },
      "source": [
        "## Importing Libraries"
      ]
    },
    {
      "cell_type": "code",
      "execution_count": null,
      "metadata": {
        "colab": {
          "base_uri": "https://localhost:8080/"
        },
        "id": "ce4PfAlK0UYC",
        "outputId": "8c501f76-27cb-4ef5-d36d-b3f7b3061ecf"
      },
      "outputs": [],
      "source": [
        "# ! pip install mlflow"
      ]
    },
    {
      "cell_type": "code",
      "execution_count": null,
      "metadata": {},
      "outputs": [],
      "source": [
        "# ! pip install jinja2==3.0.3"
      ]
    },
    {
      "cell_type": "code",
      "execution_count": 1,
      "metadata": {
        "id": "l4b3EZxi6W2l"
      },
      "outputs": [],
      "source": [
        "%matplotlib inline\n",
        "import mlflow\n",
        "import logging\n",
        "import pandas as pd\n",
        "import numpy as np\n",
        "from urllib.parse import urlparse\n",
        "from markupsafe import escape\n",
        "import matplotlib.pyplot as plt\n",
        "\n",
        "logging.basicConfig(level=logging.WARN)\n",
        "logger = logging.getLogger(__name__)\n",
        "\n",
        "from sklearn.feature_extraction.text import TfidfTransformer,CountVectorizer\n",
        "from sklearn.naive_bayes import MultinomialNB\n",
        "from sklearn.neural_network import MLPClassifier\n",
        "from sklearn.metrics import classification_report, confusion_matrix,accuracy_score,precision_recall_curve,auc\n",
        "from sklearn.ensemble import RandomForestClassifier"
      ]
    },
    {
      "cell_type": "markdown",
      "metadata": {
        "id": "iU4OeFANwmws"
      },
      "source": [
        "## Loading training, validation, test data"
      ]
    },
    {
      "cell_type": "code",
      "execution_count": 2,
      "metadata": {
        "id": "D2YgvPlXqCij"
      },
      "outputs": [],
      "source": [
        "train=pd.read_csv(\"Data/Training Data.csv\")\n",
        "val=pd.read_csv(\"Data/Validation Data.csv\")\n",
        "test=pd.read_csv(\"Data/Test Data.csv\")"
      ]
    },
    {
      "cell_type": "code",
      "execution_count": 3,
      "metadata": {
        "colab": {
          "base_uri": "https://localhost:8080/",
          "height": 206
        },
        "id": "vruRCffoqTI5",
        "outputId": "de6417d0-a66d-4fb1-c70b-4672572e28c6"
      },
      "outputs": [
        {
          "data": {
            "text/html": [
              "<div>\n",
              "<style scoped>\n",
              "    .dataframe tbody tr th:only-of-type {\n",
              "        vertical-align: middle;\n",
              "    }\n",
              "\n",
              "    .dataframe tbody tr th {\n",
              "        vertical-align: top;\n",
              "    }\n",
              "\n",
              "    .dataframe thead th {\n",
              "        text-align: right;\n",
              "    }\n",
              "</style>\n",
              "<table border=\"1\" class=\"dataframe\">\n",
              "  <thead>\n",
              "    <tr style=\"text-align: right;\">\n",
              "      <th></th>\n",
              "      <th>Text</th>\n",
              "      <th>Label</th>\n",
              "    </tr>\n",
              "  </thead>\n",
              "  <tbody>\n",
              "    <tr>\n",
              "      <th>0</th>\n",
              "      <td>Hey gorgeous man. My work mobile number is. Ha...</td>\n",
              "      <td>0</td>\n",
              "    </tr>\n",
              "    <tr>\n",
              "      <th>1</th>\n",
              "      <td>IM GONNAMISSU SO MUCH!!I WOULD SAY IL SEND U A...</td>\n",
              "      <td>0</td>\n",
              "    </tr>\n",
              "    <tr>\n",
              "      <th>2</th>\n",
              "      <td>I thk ü gotta go home by urself. Cos i'll b go...</td>\n",
              "      <td>0</td>\n",
              "    </tr>\n",
              "    <tr>\n",
              "      <th>3</th>\n",
              "      <td>OK i'm waliking ard now... Do u wan me 2 buy a...</td>\n",
              "      <td>0</td>\n",
              "    </tr>\n",
              "    <tr>\n",
              "      <th>4</th>\n",
              "      <td>Come to medical college at 7pm ......forward i...</td>\n",
              "      <td>0</td>\n",
              "    </tr>\n",
              "  </tbody>\n",
              "</table>\n",
              "</div>"
            ],
            "text/plain": [
              "                                                Text  Label\n",
              "0  Hey gorgeous man. My work mobile number is. Ha...      0\n",
              "1  IM GONNAMISSU SO MUCH!!I WOULD SAY IL SEND U A...      0\n",
              "2  I thk ü gotta go home by urself. Cos i'll b go...      0\n",
              "3  OK i'm waliking ard now... Do u wan me 2 buy a...      0\n",
              "4  Come to medical college at 7pm ......forward i...      0"
            ]
          },
          "execution_count": 3,
          "metadata": {},
          "output_type": "execute_result"
        }
      ],
      "source": [
        "train.head()"
      ]
    },
    {
      "cell_type": "code",
      "execution_count": 4,
      "metadata": {
        "colab": {
          "base_uri": "https://localhost:8080/",
          "height": 206
        },
        "id": "NPIZekE0qVUS",
        "outputId": "78a83e85-d914-44c9-a765-d7d9518602e0"
      },
      "outputs": [
        {
          "data": {
            "text/html": [
              "<div>\n",
              "<style scoped>\n",
              "    .dataframe tbody tr th:only-of-type {\n",
              "        vertical-align: middle;\n",
              "    }\n",
              "\n",
              "    .dataframe tbody tr th {\n",
              "        vertical-align: top;\n",
              "    }\n",
              "\n",
              "    .dataframe thead th {\n",
              "        text-align: right;\n",
              "    }\n",
              "</style>\n",
              "<table border=\"1\" class=\"dataframe\">\n",
              "  <thead>\n",
              "    <tr style=\"text-align: right;\">\n",
              "      <th></th>\n",
              "      <th>Text</th>\n",
              "      <th>Label</th>\n",
              "    </tr>\n",
              "  </thead>\n",
              "  <tbody>\n",
              "    <tr>\n",
              "      <th>0</th>\n",
              "      <td>Just finished eating. Got u a plate. NOT lefto...</td>\n",
              "      <td>0</td>\n",
              "    </tr>\n",
              "    <tr>\n",
              "      <th>1</th>\n",
              "      <td>Sorry, got a late start, we're on the way</td>\n",
              "      <td>0</td>\n",
              "    </tr>\n",
              "    <tr>\n",
              "      <th>2</th>\n",
              "      <td>If you don't, your prize will go to another cu...</td>\n",
              "      <td>1</td>\n",
              "    </tr>\n",
              "    <tr>\n",
              "      <th>3</th>\n",
              "      <td>I can't make it tonight</td>\n",
              "      <td>0</td>\n",
              "    </tr>\n",
              "    <tr>\n",
              "      <th>4</th>\n",
              "      <td>I don't want you to leave. But i'm barely doin...</td>\n",
              "      <td>0</td>\n",
              "    </tr>\n",
              "  </tbody>\n",
              "</table>\n",
              "</div>"
            ],
            "text/plain": [
              "                                                Text  Label\n",
              "0  Just finished eating. Got u a plate. NOT lefto...      0\n",
              "1          Sorry, got a late start, we're on the way      0\n",
              "2  If you don't, your prize will go to another cu...      1\n",
              "3                            I can't make it tonight      0\n",
              "4  I don't want you to leave. But i'm barely doin...      0"
            ]
          },
          "execution_count": 4,
          "metadata": {},
          "output_type": "execute_result"
        }
      ],
      "source": [
        "val.head()"
      ]
    },
    {
      "cell_type": "code",
      "execution_count": 5,
      "metadata": {
        "colab": {
          "base_uri": "https://localhost:8080/",
          "height": 206
        },
        "id": "70O7Zmn9qWko",
        "outputId": "572134be-3da9-4bbf-879d-788daca83130"
      },
      "outputs": [
        {
          "data": {
            "text/html": [
              "<div>\n",
              "<style scoped>\n",
              "    .dataframe tbody tr th:only-of-type {\n",
              "        vertical-align: middle;\n",
              "    }\n",
              "\n",
              "    .dataframe tbody tr th {\n",
              "        vertical-align: top;\n",
              "    }\n",
              "\n",
              "    .dataframe thead th {\n",
              "        text-align: right;\n",
              "    }\n",
              "</style>\n",
              "<table border=\"1\" class=\"dataframe\">\n",
              "  <thead>\n",
              "    <tr style=\"text-align: right;\">\n",
              "      <th></th>\n",
              "      <th>Text</th>\n",
              "      <th>Label</th>\n",
              "    </tr>\n",
              "  </thead>\n",
              "  <tbody>\n",
              "    <tr>\n",
              "      <th>0</th>\n",
              "      <td>Squeeeeeze!! This is christmas hug.. If u lik ...</td>\n",
              "      <td>0</td>\n",
              "    </tr>\n",
              "    <tr>\n",
              "      <th>1</th>\n",
              "      <td>And also I've sorta blown him off a couple tim...</td>\n",
              "      <td>0</td>\n",
              "    </tr>\n",
              "    <tr>\n",
              "      <th>2</th>\n",
              "      <td>Mmm thats better now i got a roast down me! i...</td>\n",
              "      <td>0</td>\n",
              "    </tr>\n",
              "    <tr>\n",
              "      <th>3</th>\n",
              "      <td>Mm have some kanji dont eat anything heavy ok</td>\n",
              "      <td>0</td>\n",
              "    </tr>\n",
              "    <tr>\n",
              "      <th>4</th>\n",
              "      <td>So there's a ring that comes with the guys cos...</td>\n",
              "      <td>0</td>\n",
              "    </tr>\n",
              "  </tbody>\n",
              "</table>\n",
              "</div>"
            ],
            "text/plain": [
              "                                                Text  Label\n",
              "0  Squeeeeeze!! This is christmas hug.. If u lik ...      0\n",
              "1  And also I've sorta blown him off a couple tim...      0\n",
              "2  Mmm thats better now i got a roast down me! i...      0\n",
              "3      Mm have some kanji dont eat anything heavy ok      0\n",
              "4  So there's a ring that comes with the guys cos...      0"
            ]
          },
          "execution_count": 5,
          "metadata": {},
          "output_type": "execute_result"
        }
      ],
      "source": [
        "test.head()"
      ]
    },
    {
      "cell_type": "code",
      "execution_count": 6,
      "metadata": {
        "id": "T3GwBPTCq9Mh"
      },
      "outputs": [],
      "source": [
        "y_train,X_train=train[\"Label\"],train[\"Text\"]\n",
        "y_val,X_val=val[\"Label\"],val[\"Text\"]\n",
        "y_test,X_test=test[\"Label\"],test[\"Text\"]"
      ]
    },
    {
      "cell_type": "markdown",
      "metadata": {
        "id": "4ioyO-p5w0_V"
      },
      "source": [
        "## Converting string to vectors, to give as input to the models"
      ]
    },
    {
      "cell_type": "code",
      "execution_count": 7,
      "metadata": {
        "id": "Po9sk9V9uyhD"
      },
      "outputs": [],
      "source": [
        "# replacing NAN entries by empty string\n",
        "X_train = X_train.replace(np.nan, '', regex=True)\n",
        "X_val = X_val.replace(np.nan, '', regex=True)\n",
        "X_test = X_test.replace(np.nan, '', regex=True)"
      ]
    },
    {
      "cell_type": "code",
      "execution_count": 8,
      "metadata": {
        "id": "hNZBH3seMgMa"
      },
      "outputs": [],
      "source": [
        "count = CountVectorizer().fit(X_train)\n",
        "X_train = count.transform(X_train)\n",
        "X_val = count.transform(X_val)\n",
        "X_test = count.transform(X_test)"
      ]
    },
    {
      "cell_type": "code",
      "execution_count": 9,
      "metadata": {
        "id": "cN-u6hq66Iro"
      },
      "outputs": [],
      "source": [
        "tfidf_transformer = TfidfTransformer()\n",
        "tfidf_train = tfidf_transformer.fit_transform(X_train)\n",
        "tfidf_val = tfidf_transformer.fit_transform(X_val)\n",
        "tfidf_test = tfidf_transformer.fit_transform(X_test)"
      ]
    },
    {
      "cell_type": "code",
      "execution_count": 10,
      "metadata": {
        "colab": {
          "base_uri": "https://localhost:8080/"
        },
        "id": "wemn-yWV6KUp",
        "outputId": "c479f757-06cb-4320-ee90-fac5294eba0c"
      },
      "outputs": [
        {
          "data": {
            "text/plain": [
              "((4025, 7286), (711, 7286), (836, 7286))"
            ]
          },
          "execution_count": 10,
          "metadata": {},
          "output_type": "execute_result"
        }
      ],
      "source": [
        "tfidf_train.shape,tfidf_val.shape,tfidf_test.shape"
      ]
    },
    {
      "cell_type": "markdown",
      "metadata": {
        "id": "4vX-z4Xkw7QU"
      },
      "source": [
        "## Training Models"
      ]
    },
    {
      "cell_type": "code",
      "execution_count": 11,
      "metadata": {
        "id": "6XvUnZX-AyV0"
      },
      "outputs": [],
      "source": [
        "def eval_metrics(actual, pred):\n",
        "    precision, recall, thresholds = precision_recall_curve(actual, pred)\n",
        "    auc_precision_recall = auc(recall, precision)\n",
        "    return (auc_precision_recall)"
      ]
    },
    {
      "cell_type": "code",
      "execution_count": 12,
      "metadata": {
        "colab": {
          "base_uri": "https://localhost:8080/"
        },
        "id": "vdn8dwBlC7QF",
        "outputId": "54afa4df-455d-42dc-eda7-c491820a0cc9"
      },
      "outputs": [
        {
          "name": "stderr",
          "output_type": "stream",
          "text": [
            "2023/02/26 16:28:54 INFO mlflow.utils.autologging_utils: Created MLflow autologging run with ID '2dde5d31e9e742349d5cae9e9aceb656', which will track hyperparameters, performance metrics, model artifacts, and lineage information for the current sklearn workflow\n",
            "2023/02/26 16:29:03 WARNING mlflow.utils.autologging_utils: MLflow autologging encountered a warning: \"c:\\Users\\Rishika Tibrewal\\anaconda3\\lib\\site-packages\\_distutils_hack\\__init__.py:33: UserWarning: Setuptools is replacing distutils.\"\n"
          ]
        },
        {
          "name": "stdout",
          "output_type": "stream",
          "text": [
            "\n",
            "Random Classifier Model (no_of_estimator=200.000000, max_depth=5.000000):\n",
            "Accuracy: 0.8720095693779905\n",
            "AUCPR: 0.5639952153110048 \n",
            "Confusion Matrix: [[729   0]\n",
            " [107   0]] \n",
            " \n",
            "\n"
          ]
        },
        {
          "name": "stderr",
          "output_type": "stream",
          "text": [
            "Successfully registered model 'random-forest-classification-model'.\n",
            "2023/02/26 16:29:14 INFO mlflow.tracking._model_registry.client: Waiting up to 300 seconds for model version to finish creation.                     Model name: random-forest-classification-model, version 1\n",
            "Created version '1' of model 'random-forest-classification-model'.\n"
          ]
        }
      ],
      "source": [
        "mlflow.sklearn.autolog()\n",
        "\n",
        "n_estimators = 200\n",
        "max_depth = 5\n",
        "clf = RandomForestClassifier(n_estimators = n_estimators, max_depth = max_depth,random_state=101)\n",
        "clf.fit(tfidf_train, y_train)\n",
        "\n",
        "y_pred = clf.predict(tfidf_test)\n",
        "aucpr = eval_metrics(y_test, y_pred)\n",
        "acc = accuracy_score(y_test, y_pred)\n",
        "conf_1=confusion_matrix(y_test, y_pred)\n",
        "\n",
        "with mlflow.start_run(run_name=f\"n_estimators : {n_estimators}, max_depth : {max_depth}\"):\n",
        "  \n",
        "    mlflow.log_param(\"n_estimators\", n_estimators)\n",
        "    mlflow.log_param(\"max_depth\", max_depth)\n",
        "    mlflow.log_metric(\"accuracy\", acc)\n",
        "    mlflow.log_metric(\"AUCPR\",aucpr)\n",
        "    mlflow.log_dict(np.array(conf_1).tolist(), \"confusion_matrix.json\")\n",
        "    mlflow.sklearn.log_model(clf, \"model\")\n",
        "\n",
        "    print(\"\\nRandom Classifier Model (no_of_estimator={:f}, max_depth={:f}):\".format(n_estimators, max_depth))\n",
        "    print(f\"Accuracy: {acc}\")\n",
        "    print(f\"AUCPR: {aucpr} \")\n",
        "    print(f\"Confusion Matrix: {conf_1} \\n \\n\")\n",
        "    \n",
        "\n",
        "    tracking_url_type_store = urlparse(mlflow.get_tracking_uri()).scheme\n",
        "    mlflow.sklearn.log_model(\n",
        "        sk_model=clf,\n",
        "        artifact_path=\"sklearn-model\",\n",
        "        registered_model_name=\"random-forest-classification-model\"\n",
        "    )\n",
        "    if tracking_url_type_store != \"file\":\n",
        "      mlflow.sklearn.log_model(clf, \"model\", registered_model_name=\"Randomclassifier\")\n",
        "    else:\n",
        "      mlflow.sklearn.log_model(clf, \"model\")\n"
      ]
    },
    {
      "cell_type": "code",
      "execution_count": 13,
      "metadata": {
        "colab": {
          "base_uri": "https://localhost:8080/"
        },
        "id": "zlOs5HShCHMs",
        "outputId": "7ee17f46-c2ac-4994-e487-b7b5ee38c6ad"
      },
      "outputs": [
        {
          "data": {
            "text/plain": [
              "<ModelVersion: creation_timestamp=1677409154130, current_stage='None', description=None, last_updated_timestamp=1677409154130, name='random-forest-classification-model', run_id='cc2d239d41a0441592169baf307f5d34', run_link=None, source='file:///c:/Users/Rishika%20Tibrewal/OneDrive/Desktop/AML/Applied-Machine-Learning/Assignment%202/mlruns/0/cc2d239d41a0441592169baf307f5d34/artifacts/sklearn-model', status='READY', status_message=None, tags={}, user_id=None, version=1>"
            ]
          },
          "execution_count": 13,
          "metadata": {},
          "output_type": "execute_result"
        }
      ],
      "source": [
        "mlflow.tracking.MlflowClient().get_model_version(\"random-forest-classification-model\",\"1\")"
      ]
    },
    {
      "cell_type": "code",
      "execution_count": 14,
      "metadata": {},
      "outputs": [],
      "source": [
        "# ! mlflow ui"
      ]
    },
    {
      "cell_type": "markdown",
      "metadata": {
        "id": "CuuIcCqS-XT1"
      },
      "source": [
        "### Model 2: Multinomial Naive Bayes"
      ]
    },
    {
      "cell_type": "code",
      "execution_count": 15,
      "metadata": {
        "colab": {
          "base_uri": "https://localhost:8080/"
        },
        "id": "1DNCjPmc8HFb",
        "outputId": "e587bd3d-ceff-4972-aa33-d67ef51467f1"
      },
      "outputs": [
        {
          "name": "stderr",
          "output_type": "stream",
          "text": [
            "2023/02/26 16:29:57 INFO mlflow.utils.autologging_utils: Created MLflow autologging run with ID '28a3eb85cd1c46969108edfe804a2365', which will track hyperparameters, performance metrics, model artifacts, and lineage information for the current sklearn workflow\n"
          ]
        },
        {
          "name": "stdout",
          "output_type": "stream",
          "text": [
            "\n",
            "Multinomial Naive Bayes\n",
            "Accuracy: 0.9617224880382775\n",
            "AUCPR: 0.8696060457004874\n",
            "Confusion Matrix: [[729   0]\n",
            " [ 32  75]] \n",
            "\n",
            "\n"
          ]
        },
        {
          "name": "stderr",
          "output_type": "stream",
          "text": [
            "Successfully registered model 'multinomial-nb-model'.\n",
            "2023/02/26 16:30:14 INFO mlflow.tracking._model_registry.client: Waiting up to 300 seconds for model version to finish creation.                     Model name: multinomial-nb-model, version 1\n",
            "Created version '1' of model 'multinomial-nb-model'.\n"
          ]
        }
      ],
      "source": [
        "mlflow.sklearn.autolog()\n",
        "\n",
        "clf = MultinomialNB()\n",
        "clf.fit(tfidf_train, y_train)\n",
        "\n",
        "y_pred = clf.predict(tfidf_test)\n",
        "aucpr = eval_metrics(y_test, y_pred)\n",
        "acc = accuracy_score(y_test, y_pred)\n",
        "conf_2=confusion_matrix(y_test, y_pred)\n",
        "\n",
        "with mlflow.start_run(run_name=\"Multinomial Naive Bayes\"):\n",
        "\n",
        "    mlflow.log_metric(\"accuracy\", acc)\n",
        "    mlflow.log_metric(\"AUCPR\",aucpr)\n",
        "    mlflow.sklearn.log_model(clf, \"model\")\n",
        "    mlflow.log_dict(np.array(conf_2).tolist(), \"confusion_matrix.json\")\n",
        "\n",
        "    print(\"\\nMultinomial Naive Bayes\")\n",
        "    print(f\"Accuracy: {acc}\")\n",
        "    print(f\"AUCPR: {aucpr}\")\n",
        "    print(f\"Confusion Matrix: {conf_2} \\n\\n\")\n",
        "    \n",
        "\n",
        "    tracking_url_type_store = urlparse(mlflow.get_tracking_uri()).scheme\n",
        "    mlflow.sklearn.log_model(\n",
        "        sk_model=clf,\n",
        "        artifact_path=\"sklearn-model\",\n",
        "        registered_model_name=\"multinomial-nb-model\"\n",
        "    )\n",
        "    if tracking_url_type_store != \"file\":\n",
        "      mlflow.sklearn.log_model(clf, \"model\", registered_model_name=\"multinomial-nb-model\")\n",
        "    else:\n",
        "      mlflow.sklearn.log_model(clf, \"model\")\n"
      ]
    },
    {
      "cell_type": "code",
      "execution_count": 16,
      "metadata": {
        "colab": {
          "base_uri": "https://localhost:8080/"
        },
        "id": "P4P1NIkrIA40",
        "outputId": "0ede5b99-1390-44fb-8058-4f39e792d525"
      },
      "outputs": [
        {
          "name": "stdout",
          "output_type": "stream",
          "text": [
            "<ModelVersion: creation_timestamp=1677409214424, current_stage='None', description=None, last_updated_timestamp=1677409214424, name='multinomial-nb-model', run_id='b7fed7e2214445e4abd2b61575801177', run_link=None, source='file:///c:/Users/Rishika%20Tibrewal/OneDrive/Desktop/AML/Applied-Machine-Learning/Assignment%202/mlruns/0/b7fed7e2214445e4abd2b61575801177/artifacts/sklearn-model', status='READY', status_message=None, tags={}, user_id=None, version=1>\n"
          ]
        }
      ],
      "source": [
        "print(mlflow.tracking.MlflowClient().get_model_version(\"multinomial-nb-model\", '1'))"
      ]
    },
    {
      "attachments": {},
      "cell_type": "markdown",
      "metadata": {
        "id": "0PlnnwdtIj7d"
      },
      "source": [
        "### Model 3: MLP Classifier"
      ]
    },
    {
      "cell_type": "code",
      "execution_count": 17,
      "metadata": {
        "colab": {
          "base_uri": "https://localhost:8080/"
        },
        "id": "si9FH6G8IL5k",
        "outputId": "053987ab-6e3e-421a-a3b9-6eaa47091a23"
      },
      "outputs": [
        {
          "name": "stderr",
          "output_type": "stream",
          "text": [
            "2023/02/26 16:30:59 INFO mlflow.utils.autologging_utils: Created MLflow autologging run with ID 'f0a22e2f42e14db68f6865bcfd6a50b2', which will track hyperparameters, performance metrics, model artifacts, and lineage information for the current sklearn workflow\n"
          ]
        },
        {
          "name": "stdout",
          "output_type": "stream",
          "text": [
            "\n",
            "Multilayer Perceptron\n",
            "Accuracy: 0.9904306220095693\n",
            "AUCPR: 0.9674015114251219\n",
            "Confusion Matrix [[729   0]\n",
            " [  8  99]] \n",
            "\n",
            "\n"
          ]
        },
        {
          "name": "stderr",
          "output_type": "stream",
          "text": [
            "Successfully registered model 'multilayer-perceptron-model'.\n",
            "2023/02/26 16:31:49 INFO mlflow.tracking._model_registry.client: Waiting up to 300 seconds for model version to finish creation.                     Model name: multilayer-perceptron-model, version 1\n",
            "Created version '1' of model 'multilayer-perceptron-model'.\n"
          ]
        }
      ],
      "source": [
        "mlflow.sklearn.autolog()\n",
        "\n",
        "clf = MLPClassifier(random_state=101,learning_rate='adaptive')\n",
        "clf.fit(tfidf_train, y_train)\n",
        "\n",
        "y_pred = clf.predict(tfidf_test)\n",
        "aucpr = eval_metrics(y_test, y_pred)\n",
        "acc = accuracy_score(y_test, y_pred)\n",
        "conf_3=confusion_matrix(y_test, y_pred)\n",
        "\n",
        "with mlflow.start_run(run_name=\"Multilayer Perceptron\"):\n",
        "\n",
        "    mlflow.log_metric(\"accuracy\", acc)\n",
        "    mlflow.log_metric(\"AUCPR\",aucpr)\n",
        "    mlflow.sklearn.log_model(clf, \"model\")\n",
        "    \n",
        "    print(\"\\nMultilayer Perceptron\")\n",
        "    print(f\"Accuracy: {acc}\")\n",
        "    print(f\"AUCPR: {aucpr}\")\n",
        "    print(f\"Confusion Matrix {conf_3} \\n\\n\")\n",
        "    \n",
        "\n",
        "    tracking_url_type_store = urlparse(mlflow.get_tracking_uri()).scheme\n",
        "    mlflow.sklearn.log_model(\n",
        "        sk_model=clf,\n",
        "        artifact_path=\"sklearn-model\",\n",
        "        registered_model_name=\"multilayer-perceptron-model\"\n",
        "    )\n",
        "    if tracking_url_type_store != \"file\":\n",
        "      mlflow.sklearn.log_model(clf, \"model\", registered_model_name=\"multilayer-perceptron-model\")\n",
        "    else:\n",
        "      mlflow.sklearn.log_model(clf, \"model\")\n"
      ]
    },
    {
      "cell_type": "code",
      "execution_count": 18,
      "metadata": {
        "id": "js2AXmn2LM5V"
      },
      "outputs": [
        {
          "name": "stdout",
          "output_type": "stream",
          "text": [
            "<ModelVersion: creation_timestamp=1677409309928, current_stage='None', description=None, last_updated_timestamp=1677409309928, name='multilayer-perceptron-model', run_id='33f7f5d350354ebbb3825e475e905b05', run_link=None, source='file:///c:/Users/Rishika%20Tibrewal/OneDrive/Desktop/AML/Applied-Machine-Learning/Assignment%202/mlruns/0/33f7f5d350354ebbb3825e475e905b05/artifacts/sklearn-model', status='READY', status_message=None, tags={}, user_id=None, version=1>\n"
          ]
        }
      ],
      "source": [
        "print(mlflow.tracking.MlflowClient().get_model_version(\"multilayer-perceptron-model\", '1'))"
      ]
    },
    {
      "attachments": {},
      "cell_type": "markdown",
      "metadata": {},
      "source": [
        "The MLP Classifier performs the best among the three used models."
      ]
    }
  ],
  "metadata": {
    "colab": {
      "provenance": []
    },
    "kernelspec": {
      "display_name": "base",
      "language": "python",
      "name": "python3"
    },
    "language_info": {
      "codemirror_mode": {
        "name": "ipython",
        "version": 3
      },
      "file_extension": ".py",
      "mimetype": "text/x-python",
      "name": "python",
      "nbconvert_exporter": "python",
      "pygments_lexer": "ipython3",
      "version": "3.9.13"
    },
    "vscode": {
      "interpreter": {
        "hash": "ece77b0843db71273538cad857e71b598e540eebce8583a3625d9bb208bd9e1f"
      }
    }
  },
  "nbformat": 4,
  "nbformat_minor": 0
}
