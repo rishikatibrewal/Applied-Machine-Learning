{
  "nbformat": 4,
  "nbformat_minor": 0,
  "metadata": {
    "colab": {
      "provenance": []
    },
    "kernelspec": {
      "name": "python3",
      "display_name": "Python 3"
    },
    "language_info": {
      "name": "python"
    }
  },
  "cells": [
    {
      "cell_type": "markdown",
      "source": [
        "# Assignment 2 : SMS Spam Classification\n",
        "# Rishika Tibrewal, MDS202135"
      ],
      "metadata": {
        "id": "7E6irwvNwfYq"
      }
    },
    {
      "cell_type": "markdown",
      "source": [
        "## Importing Libraries"
      ],
      "metadata": {
        "id": "BnM_abBAwarO"
      }
    },
    {
      "cell_type": "code",
      "source": [
        "! pip install mlflow"
      ],
      "metadata": {
        "colab": {
          "base_uri": "https://localhost:8080/"
        },
        "id": "ce4PfAlK0UYC",
        "outputId": "8c501f76-27cb-4ef5-d36d-b3f7b3061ecf"
      },
      "execution_count": null,
      "outputs": [
        {
          "output_type": "stream",
          "name": "stdout",
          "text": [
            "Looking in indexes: https://pypi.org/simple, https://us-python.pkg.dev/colab-wheels/public/simple/\n",
            "Collecting mlflow\n",
            "  Downloading mlflow-2.1.1-py3-none-any.whl (16.7 MB)\n",
            "\u001b[2K     \u001b[90m━━━━━━━━━━━━━━━━━━━━━━━━━━━━━━━━━━━━━━━━\u001b[0m \u001b[32m16.7/16.7 MB\u001b[0m \u001b[31m51.8 MB/s\u001b[0m eta \u001b[36m0:00:00\u001b[0m\n",
            "\u001b[?25hRequirement already satisfied: matplotlib<4 in /usr/local/lib/python3.8/dist-packages (from mlflow) (3.5.3)\n",
            "Collecting shap<1,>=0.40\n",
            "  Downloading shap-0.41.0-cp38-cp38-manylinux_2_12_x86_64.manylinux2010_x86_64.whl (575 kB)\n",
            "\u001b[2K     \u001b[90m━━━━━━━━━━━━━━━━━━━━━━━━━━━━━━━━━━━━━━\u001b[0m \u001b[32m575.9/575.9 KB\u001b[0m \u001b[31m45.3 MB/s\u001b[0m eta \u001b[36m0:00:00\u001b[0m\n",
            "\u001b[?25hRequirement already satisfied: protobuf<5,>=3.12.0 in /usr/local/lib/python3.8/dist-packages (from mlflow) (3.19.6)\n",
            "Requirement already satisfied: scikit-learn<2 in /usr/local/lib/python3.8/dist-packages (from mlflow) (1.0.2)\n",
            "Requirement already satisfied: pandas<2 in /usr/local/lib/python3.8/dist-packages (from mlflow) (1.3.5)\n",
            "Collecting gunicorn<21\n",
            "  Downloading gunicorn-20.1.0-py3-none-any.whl (79 kB)\n",
            "\u001b[2K     \u001b[90m━━━━━━━━━━━━━━━━━━━━━━━━━━━━━━━━━━━━━━━━\u001b[0m \u001b[32m79.5/79.5 KB\u001b[0m \u001b[31m8.6 MB/s\u001b[0m eta \u001b[36m0:00:00\u001b[0m\n",
            "\u001b[?25hCollecting querystring-parser<2\n",
            "  Downloading querystring_parser-1.2.4-py2.py3-none-any.whl (7.9 kB)\n",
            "Collecting importlib-metadata!=4.7.0,<6,>=3.7.0\n",
            "  Downloading importlib_metadata-5.2.0-py3-none-any.whl (21 kB)\n",
            "Requirement already satisfied: Jinja2<4,>=2.11 in /usr/local/lib/python3.8/dist-packages (from mlflow) (2.11.3)\n",
            "Requirement already satisfied: cloudpickle<3 in /usr/local/lib/python3.8/dist-packages (from mlflow) (2.2.1)\n",
            "Requirement already satisfied: pytz<2023 in /usr/local/lib/python3.8/dist-packages (from mlflow) (2022.7.1)\n",
            "Requirement already satisfied: pyarrow<11,>=4.0.0 in /usr/local/lib/python3.8/dist-packages (from mlflow) (9.0.0)\n",
            "Collecting docker<7,>=4.0.0\n",
            "  Downloading docker-6.0.1-py3-none-any.whl (147 kB)\n",
            "\u001b[2K     \u001b[90m━━━━━━━━━━━━━━━━━━━━━━━━━━━━━━━━━━━━━━\u001b[0m \u001b[32m147.5/147.5 KB\u001b[0m \u001b[31m16.7 MB/s\u001b[0m eta \u001b[36m0:00:00\u001b[0m\n",
            "\u001b[?25hRequirement already satisfied: markdown<4,>=3.3 in /usr/local/lib/python3.8/dist-packages (from mlflow) (3.4.1)\n",
            "Requirement already satisfied: scipy<2 in /usr/local/lib/python3.8/dist-packages (from mlflow) (1.7.3)\n",
            "Requirement already satisfied: sqlalchemy<2,>=1.4.0 in /usr/local/lib/python3.8/dist-packages (from mlflow) (1.4.46)\n",
            "Collecting alembic<2\n",
            "  Downloading alembic-1.9.4-py3-none-any.whl (210 kB)\n",
            "\u001b[2K     \u001b[90m━━━━━━━━━━━━━━━━━━━━━━━━━━━━━━━━━━━━━━\u001b[0m \u001b[32m210.5/210.5 KB\u001b[0m \u001b[31m19.9 MB/s\u001b[0m eta \u001b[36m0:00:00\u001b[0m\n",
            "\u001b[?25hCollecting gitpython<4,>=2.1.0\n",
            "  Downloading GitPython-3.1.31-py3-none-any.whl (184 kB)\n",
            "\u001b[2K     \u001b[90m━━━━━━━━━━━━━━━━━━━━━━━━━━━━━━━━━━━━━━\u001b[0m \u001b[32m184.3/184.3 KB\u001b[0m \u001b[31m18.3 MB/s\u001b[0m eta \u001b[36m0:00:00\u001b[0m\n",
            "\u001b[?25hRequirement already satisfied: requests<3,>=2.17.3 in /usr/local/lib/python3.8/dist-packages (from mlflow) (2.25.1)\n",
            "Collecting databricks-cli<1,>=0.8.7\n",
            "  Downloading databricks-cli-0.17.4.tar.gz (82 kB)\n",
            "\u001b[2K     \u001b[90m━━━━━━━━━━━━━━━━━━━━━━━━━━━━━━━━━━━━━━━━\u001b[0m \u001b[32m82.3/82.3 KB\u001b[0m \u001b[31m9.1 MB/s\u001b[0m eta \u001b[36m0:00:00\u001b[0m\n",
            "\u001b[?25h  Preparing metadata (setup.py) ... \u001b[?25l\u001b[?25hdone\n",
            "Requirement already satisfied: pyyaml<7,>=5.1 in /usr/local/lib/python3.8/dist-packages (from mlflow) (6.0)\n",
            "Requirement already satisfied: click<9,>=7.0 in /usr/local/lib/python3.8/dist-packages (from mlflow) (7.1.2)\n",
            "Requirement already satisfied: entrypoints<1 in /usr/local/lib/python3.8/dist-packages (from mlflow) (0.4)\n",
            "Requirement already satisfied: Flask<3 in /usr/local/lib/python3.8/dist-packages (from mlflow) (1.1.4)\n",
            "Requirement already satisfied: sqlparse<1,>=0.4.0 in /usr/local/lib/python3.8/dist-packages (from mlflow) (0.4.3)\n",
            "Requirement already satisfied: numpy<2 in /usr/local/lib/python3.8/dist-packages (from mlflow) (1.22.4)\n",
            "Collecting packaging<23\n",
            "  Downloading packaging-22.0-py3-none-any.whl (42 kB)\n",
            "\u001b[2K     \u001b[90m━━━━━━━━━━━━━━━━━━━━━━━━━━━━━━━━━━━━━━━━\u001b[0m \u001b[32m42.6/42.6 KB\u001b[0m \u001b[31m4.4 MB/s\u001b[0m eta \u001b[36m0:00:00\u001b[0m\n",
            "\u001b[?25hCollecting Mako\n",
            "  Downloading Mako-1.2.4-py3-none-any.whl (78 kB)\n",
            "\u001b[2K     \u001b[90m━━━━━━━━━━━━━━━━━━━━━━━━━━━━━━━━━━━━━━━━\u001b[0m \u001b[32m78.7/78.7 KB\u001b[0m \u001b[31m9.0 MB/s\u001b[0m eta \u001b[36m0:00:00\u001b[0m\n",
            "\u001b[?25hRequirement already satisfied: importlib-resources in /usr/local/lib/python3.8/dist-packages (from alembic<2->mlflow) (5.12.0)\n",
            "Collecting pyjwt>=1.7.0\n",
            "  Downloading PyJWT-2.6.0-py3-none-any.whl (20 kB)\n",
            "Requirement already satisfied: oauthlib>=3.1.0 in /usr/local/lib/python3.8/dist-packages (from databricks-cli<1,>=0.8.7->mlflow) (3.2.2)\n",
            "Requirement already satisfied: tabulate>=0.7.7 in /usr/local/lib/python3.8/dist-packages (from databricks-cli<1,>=0.8.7->mlflow) (0.8.10)\n",
            "Requirement already satisfied: six>=1.10.0 in /usr/local/lib/python3.8/dist-packages (from databricks-cli<1,>=0.8.7->mlflow) (1.15.0)\n",
            "Collecting websocket-client>=0.32.0\n",
            "  Downloading websocket_client-1.5.1-py3-none-any.whl (55 kB)\n",
            "\u001b[2K     \u001b[90m━━━━━━━━━━━━━━━━━━━━━━━━━━━━━━━━━━━━━━━━\u001b[0m \u001b[32m55.9/55.9 KB\u001b[0m \u001b[31m5.1 MB/s\u001b[0m eta \u001b[36m0:00:00\u001b[0m\n",
            "\u001b[?25hCollecting requests<3,>=2.17.3\n",
            "  Downloading requests-2.28.2-py3-none-any.whl (62 kB)\n",
            "\u001b[2K     \u001b[90m━━━━━━━━━━━━━━━━━━━━━━━━━━━━━━━━━━━━━━━━\u001b[0m \u001b[32m62.8/62.8 KB\u001b[0m \u001b[31m7.0 MB/s\u001b[0m eta \u001b[36m0:00:00\u001b[0m\n",
            "\u001b[?25hCollecting urllib3>=1.26.0\n",
            "  Downloading urllib3-1.26.14-py2.py3-none-any.whl (140 kB)\n",
            "\u001b[2K     \u001b[90m━━━━━━━━━━━━━━━━━━━━━━━━━━━━━━━━━━━━━━\u001b[0m \u001b[32m140.6/140.6 KB\u001b[0m \u001b[31m13.5 MB/s\u001b[0m eta \u001b[36m0:00:00\u001b[0m\n",
            "\u001b[?25hRequirement already satisfied: itsdangerous<2.0,>=0.24 in /usr/local/lib/python3.8/dist-packages (from Flask<3->mlflow) (1.1.0)\n",
            "Requirement already satisfied: Werkzeug<2.0,>=0.15 in /usr/local/lib/python3.8/dist-packages (from Flask<3->mlflow) (1.0.1)\n",
            "Collecting gitdb<5,>=4.0.1\n",
            "  Downloading gitdb-4.0.10-py3-none-any.whl (62 kB)\n",
            "\u001b[2K     \u001b[90m━━━━━━━━━━━━━━━━━━━━━━━━━━━━━━━━━━━━━━━━\u001b[0m \u001b[32m62.7/62.7 KB\u001b[0m \u001b[31m6.7 MB/s\u001b[0m eta \u001b[36m0:00:00\u001b[0m\n",
            "\u001b[?25hRequirement already satisfied: setuptools>=3.0 in /usr/local/lib/python3.8/dist-packages (from gunicorn<21->mlflow) (57.4.0)\n",
            "Requirement already satisfied: zipp>=0.5 in /usr/local/lib/python3.8/dist-packages (from importlib-metadata!=4.7.0,<6,>=3.7.0->mlflow) (3.14.0)\n",
            "Requirement already satisfied: MarkupSafe>=0.23 in /usr/local/lib/python3.8/dist-packages (from Jinja2<4,>=2.11->mlflow) (2.0.1)\n",
            "Requirement already satisfied: python-dateutil>=2.7 in /usr/local/lib/python3.8/dist-packages (from matplotlib<4->mlflow) (2.8.2)\n",
            "Requirement already satisfied: cycler>=0.10 in /usr/local/lib/python3.8/dist-packages (from matplotlib<4->mlflow) (0.11.0)\n",
            "Requirement already satisfied: pillow>=6.2.0 in /usr/local/lib/python3.8/dist-packages (from matplotlib<4->mlflow) (7.1.2)\n",
            "Requirement already satisfied: fonttools>=4.22.0 in /usr/local/lib/python3.8/dist-packages (from matplotlib<4->mlflow) (4.38.0)\n",
            "Requirement already satisfied: kiwisolver>=1.0.1 in /usr/local/lib/python3.8/dist-packages (from matplotlib<4->mlflow) (1.4.4)\n",
            "Requirement already satisfied: pyparsing>=2.2.1 in /usr/local/lib/python3.8/dist-packages (from matplotlib<4->mlflow) (3.0.9)\n",
            "Requirement already satisfied: certifi>=2017.4.17 in /usr/local/lib/python3.8/dist-packages (from requests<3,>=2.17.3->mlflow) (2022.12.7)\n",
            "Requirement already satisfied: idna<4,>=2.5 in /usr/local/lib/python3.8/dist-packages (from requests<3,>=2.17.3->mlflow) (2.10)\n",
            "Requirement already satisfied: charset-normalizer<4,>=2 in /usr/local/lib/python3.8/dist-packages (from requests<3,>=2.17.3->mlflow) (3.0.1)\n",
            "Requirement already satisfied: joblib>=0.11 in /usr/local/lib/python3.8/dist-packages (from scikit-learn<2->mlflow) (1.2.0)\n",
            "Requirement already satisfied: threadpoolctl>=2.0.0 in /usr/local/lib/python3.8/dist-packages (from scikit-learn<2->mlflow) (3.1.0)\n",
            "Collecting slicer==0.0.7\n",
            "  Downloading slicer-0.0.7-py3-none-any.whl (14 kB)\n",
            "Requirement already satisfied: tqdm>4.25.0 in /usr/local/lib/python3.8/dist-packages (from shap<1,>=0.40->mlflow) (4.64.1)\n",
            "Requirement already satisfied: numba in /usr/local/lib/python3.8/dist-packages (from shap<1,>=0.40->mlflow) (0.56.4)\n",
            "Requirement already satisfied: greenlet!=0.4.17 in /usr/local/lib/python3.8/dist-packages (from sqlalchemy<2,>=1.4.0->mlflow) (2.0.2)\n",
            "Collecting smmap<6,>=3.0.1\n",
            "  Downloading smmap-5.0.0-py3-none-any.whl (24 kB)\n",
            "Requirement already satisfied: llvmlite<0.40,>=0.39.0dev0 in /usr/local/lib/python3.8/dist-packages (from numba->shap<1,>=0.40->mlflow) (0.39.1)\n",
            "Building wheels for collected packages: databricks-cli\n",
            "  Building wheel for databricks-cli (setup.py) ... \u001b[?25l\u001b[?25hdone\n",
            "  Created wheel for databricks-cli: filename=databricks_cli-0.17.4-py3-none-any.whl size=142894 sha256=b88cad1133021681f749a8ee2aeb4bd5256b59c45c5a1571c96ca66b2b06d4ed\n",
            "  Stored in directory: /root/.cache/pip/wheels/48/7c/6e/4bf2c1748c7ecf994ca951591de81674ed6bf633e1e337d873\n",
            "Successfully built databricks-cli\n",
            "Installing collected packages: websocket-client, urllib3, smmap, slicer, querystring-parser, pyjwt, packaging, Mako, importlib-metadata, gunicorn, requests, gitdb, alembic, shap, gitpython, docker, databricks-cli, mlflow\n",
            "  Attempting uninstall: urllib3\n",
            "    Found existing installation: urllib3 1.24.3\n",
            "    Uninstalling urllib3-1.24.3:\n",
            "      Successfully uninstalled urllib3-1.24.3\n",
            "  Attempting uninstall: packaging\n",
            "    Found existing installation: packaging 23.0\n",
            "    Uninstalling packaging-23.0:\n",
            "      Successfully uninstalled packaging-23.0\n",
            "  Attempting uninstall: importlib-metadata\n",
            "    Found existing installation: importlib-metadata 6.0.0\n",
            "    Uninstalling importlib-metadata-6.0.0:\n",
            "      Successfully uninstalled importlib-metadata-6.0.0\n",
            "  Attempting uninstall: requests\n",
            "    Found existing installation: requests 2.25.1\n",
            "    Uninstalling requests-2.25.1:\n",
            "      Successfully uninstalled requests-2.25.1\n",
            "Successfully installed Mako-1.2.4 alembic-1.9.4 databricks-cli-0.17.4 docker-6.0.1 gitdb-4.0.10 gitpython-3.1.31 gunicorn-20.1.0 importlib-metadata-5.2.0 mlflow-2.1.1 packaging-22.0 pyjwt-2.6.0 querystring-parser-1.2.4 requests-2.28.2 shap-0.41.0 slicer-0.0.7 smmap-5.0.0 urllib3-1.26.14 websocket-client-1.5.1\n"
          ]
        }
      ]
    },
    {
      "cell_type": "code",
      "source": [
        "! pip install mlflow --quiet"
      ],
      "metadata": {
        "id": "4CuTximyM5Eu"
      },
      "execution_count": null,
      "outputs": []
    },
    {
      "cell_type": "code",
      "source": [
        "! pip install pyngrok --quiet"
      ],
      "metadata": {
        "colab": {
          "base_uri": "https://localhost:8080/"
        },
        "id": "rrwqOHMYM8Rp",
        "outputId": "c5a44be1-052a-46d0-99a1-aa7da2cf98f9"
      },
      "execution_count": null,
      "outputs": [
        {
          "output_type": "stream",
          "name": "stdout",
          "text": [
            "\u001b[?25l     \u001b[90m━━━━━━━━━━━━━━━━━━━━━━━━━━━━━━━━━━━━━━━━\u001b[0m \u001b[32m0.0/761.3 KB\u001b[0m \u001b[31m?\u001b[0m eta \u001b[36m-:--:--\u001b[0m\r\u001b[2K     \u001b[91m━━━━━━━━\u001b[0m\u001b[91m╸\u001b[0m\u001b[90m━━━━━━━━━━━━━━━━━━━━━━━━━━━━━━\u001b[0m \u001b[32m174.1/761.3 KB\u001b[0m \u001b[31m5.4 MB/s\u001b[0m eta \u001b[36m0:00:01\u001b[0m\r\u001b[2K     \u001b[90m━━━━━━━━━━━━━━━━━━━━━━━━━━━━━━━━━━━━━━\u001b[0m \u001b[32m761.3/761.3 KB\u001b[0m \u001b[31m10.4 MB/s\u001b[0m eta \u001b[36m0:00:00\u001b[0m\n",
            "\u001b[?25h  Preparing metadata (setup.py) ... \u001b[?25l\u001b[?25hdone\n",
            "  Building wheel for pyngrok (setup.py) ... \u001b[?25l\u001b[?25hdone\n"
          ]
        }
      ]
    },
    {
      "cell_type": "code",
      "source": [
        "%matplotlib inline\n",
        "import matplotlib.pyplot as plt\n",
        "import pandas as pd\n",
        "import numpy as np\n",
        "import mlflow\n",
        "\n",
        "from pyngrok import ngrok\n",
        "from sklearn.feature_extraction.text import TfidfTransformer,CountVectorizer\n",
        "from sklearn.naive_bayes import MultinomialNB\n",
        "from sklearn.neural_network import MLPClassifier\n",
        "from sklearn.metrics import classification_report, confusion_matrix,accuracy_score,precision_recall_curve,auc\n",
        "from sklearn.ensemble import RandomForestClassifier"
      ],
      "metadata": {
        "id": "l4b3EZxi6W2l"
      },
      "execution_count": null,
      "outputs": []
    },
    {
      "cell_type": "code",
      "source": [
        "from urllib.parse import urlparse\n",
        "import mlflow\n",
        "import mlflow.sklearn"
      ],
      "metadata": {
        "id": "yz0gbcvi2lCj"
      },
      "execution_count": null,
      "outputs": []
    },
    {
      "cell_type": "markdown",
      "source": [
        "## Loading training, validation, test data"
      ],
      "metadata": {
        "id": "iU4OeFANwmws"
      }
    },
    {
      "cell_type": "code",
      "source": [
        "train=pd.read_csv(\"Training Data.csv\")\n",
        "val=pd.read_csv(\"Validation Data.csv\")\n",
        "test=pd.read_csv(\"Test Data.csv\")"
      ],
      "metadata": {
        "id": "D2YgvPlXqCij"
      },
      "execution_count": null,
      "outputs": []
    },
    {
      "cell_type": "code",
      "source": [
        "train.head()"
      ],
      "metadata": {
        "colab": {
          "base_uri": "https://localhost:8080/",
          "height": 206
        },
        "id": "vruRCffoqTI5",
        "outputId": "de6417d0-a66d-4fb1-c70b-4672572e28c6"
      },
      "execution_count": null,
      "outputs": [
        {
          "output_type": "execute_result",
          "data": {
            "text/plain": [
              "                                        Message  Label\n",
              "0                         send yetty number pls      0\n",
              "1  1 000 cash 2 000 prize claim call09050000327      1\n",
              "2     hey babe going ever figure going new year      0\n",
              "3                    let use next week princess      0\n",
              "4  nice talking please dont forget pix want see      0"
            ],
            "text/html": [
              "\n",
              "  <div id=\"df-31fda0c6-2c67-4959-8bc0-eb91de4c958f\">\n",
              "    <div class=\"colab-df-container\">\n",
              "      <div>\n",
              "<style scoped>\n",
              "    .dataframe tbody tr th:only-of-type {\n",
              "        vertical-align: middle;\n",
              "    }\n",
              "\n",
              "    .dataframe tbody tr th {\n",
              "        vertical-align: top;\n",
              "    }\n",
              "\n",
              "    .dataframe thead th {\n",
              "        text-align: right;\n",
              "    }\n",
              "</style>\n",
              "<table border=\"1\" class=\"dataframe\">\n",
              "  <thead>\n",
              "    <tr style=\"text-align: right;\">\n",
              "      <th></th>\n",
              "      <th>Message</th>\n",
              "      <th>Label</th>\n",
              "    </tr>\n",
              "  </thead>\n",
              "  <tbody>\n",
              "    <tr>\n",
              "      <th>0</th>\n",
              "      <td>send yetty number pls</td>\n",
              "      <td>0</td>\n",
              "    </tr>\n",
              "    <tr>\n",
              "      <th>1</th>\n",
              "      <td>1 000 cash 2 000 prize claim call09050000327</td>\n",
              "      <td>1</td>\n",
              "    </tr>\n",
              "    <tr>\n",
              "      <th>2</th>\n",
              "      <td>hey babe going ever figure going new year</td>\n",
              "      <td>0</td>\n",
              "    </tr>\n",
              "    <tr>\n",
              "      <th>3</th>\n",
              "      <td>let use next week princess</td>\n",
              "      <td>0</td>\n",
              "    </tr>\n",
              "    <tr>\n",
              "      <th>4</th>\n",
              "      <td>nice talking please dont forget pix want see</td>\n",
              "      <td>0</td>\n",
              "    </tr>\n",
              "  </tbody>\n",
              "</table>\n",
              "</div>\n",
              "      <button class=\"colab-df-convert\" onclick=\"convertToInteractive('df-31fda0c6-2c67-4959-8bc0-eb91de4c958f')\"\n",
              "              title=\"Convert this dataframe to an interactive table.\"\n",
              "              style=\"display:none;\">\n",
              "        \n",
              "  <svg xmlns=\"http://www.w3.org/2000/svg\" height=\"24px\"viewBox=\"0 0 24 24\"\n",
              "       width=\"24px\">\n",
              "    <path d=\"M0 0h24v24H0V0z\" fill=\"none\"/>\n",
              "    <path d=\"M18.56 5.44l.94 2.06.94-2.06 2.06-.94-2.06-.94-.94-2.06-.94 2.06-2.06.94zm-11 1L8.5 8.5l.94-2.06 2.06-.94-2.06-.94L8.5 2.5l-.94 2.06-2.06.94zm10 10l.94 2.06.94-2.06 2.06-.94-2.06-.94-.94-2.06-.94 2.06-2.06.94z\"/><path d=\"M17.41 7.96l-1.37-1.37c-.4-.4-.92-.59-1.43-.59-.52 0-1.04.2-1.43.59L10.3 9.45l-7.72 7.72c-.78.78-.78 2.05 0 2.83L4 21.41c.39.39.9.59 1.41.59.51 0 1.02-.2 1.41-.59l7.78-7.78 2.81-2.81c.8-.78.8-2.07 0-2.86zM5.41 20L4 18.59l7.72-7.72 1.47 1.35L5.41 20z\"/>\n",
              "  </svg>\n",
              "      </button>\n",
              "      \n",
              "  <style>\n",
              "    .colab-df-container {\n",
              "      display:flex;\n",
              "      flex-wrap:wrap;\n",
              "      gap: 12px;\n",
              "    }\n",
              "\n",
              "    .colab-df-convert {\n",
              "      background-color: #E8F0FE;\n",
              "      border: none;\n",
              "      border-radius: 50%;\n",
              "      cursor: pointer;\n",
              "      display: none;\n",
              "      fill: #1967D2;\n",
              "      height: 32px;\n",
              "      padding: 0 0 0 0;\n",
              "      width: 32px;\n",
              "    }\n",
              "\n",
              "    .colab-df-convert:hover {\n",
              "      background-color: #E2EBFA;\n",
              "      box-shadow: 0px 1px 2px rgba(60, 64, 67, 0.3), 0px 1px 3px 1px rgba(60, 64, 67, 0.15);\n",
              "      fill: #174EA6;\n",
              "    }\n",
              "\n",
              "    [theme=dark] .colab-df-convert {\n",
              "      background-color: #3B4455;\n",
              "      fill: #D2E3FC;\n",
              "    }\n",
              "\n",
              "    [theme=dark] .colab-df-convert:hover {\n",
              "      background-color: #434B5C;\n",
              "      box-shadow: 0px 1px 3px 1px rgba(0, 0, 0, 0.15);\n",
              "      filter: drop-shadow(0px 1px 2px rgba(0, 0, 0, 0.3));\n",
              "      fill: #FFFFFF;\n",
              "    }\n",
              "  </style>\n",
              "\n",
              "      <script>\n",
              "        const buttonEl =\n",
              "          document.querySelector('#df-31fda0c6-2c67-4959-8bc0-eb91de4c958f button.colab-df-convert');\n",
              "        buttonEl.style.display =\n",
              "          google.colab.kernel.accessAllowed ? 'block' : 'none';\n",
              "\n",
              "        async function convertToInteractive(key) {\n",
              "          const element = document.querySelector('#df-31fda0c6-2c67-4959-8bc0-eb91de4c958f');\n",
              "          const dataTable =\n",
              "            await google.colab.kernel.invokeFunction('convertToInteractive',\n",
              "                                                     [key], {});\n",
              "          if (!dataTable) return;\n",
              "\n",
              "          const docLinkHtml = 'Like what you see? Visit the ' +\n",
              "            '<a target=\"_blank\" href=https://colab.research.google.com/notebooks/data_table.ipynb>data table notebook</a>'\n",
              "            + ' to learn more about interactive tables.';\n",
              "          element.innerHTML = '';\n",
              "          dataTable['output_type'] = 'display_data';\n",
              "          await google.colab.output.renderOutput(dataTable, element);\n",
              "          const docLink = document.createElement('div');\n",
              "          docLink.innerHTML = docLinkHtml;\n",
              "          element.appendChild(docLink);\n",
              "        }\n",
              "      </script>\n",
              "    </div>\n",
              "  </div>\n",
              "  "
            ]
          },
          "metadata": {},
          "execution_count": 8
        }
      ]
    },
    {
      "cell_type": "code",
      "source": [
        "val.head()"
      ],
      "metadata": {
        "colab": {
          "base_uri": "https://localhost:8080/",
          "height": 206
        },
        "id": "NPIZekE0qVUS",
        "outputId": "78a83e85-d914-44c9-a765-d7d9518602e0"
      },
      "execution_count": null,
      "outputs": [
        {
          "output_type": "execute_result",
          "data": {
            "text/plain": [
              "                                             Message  Label\n",
              "0                           da happy sit together na      0\n",
              "1  2nd attempt contract u week top prize either 1...      1\n",
              "2                          text carlos let know hang      0\n",
              "3                        shant disturb u anymore jia      0\n",
              "4  hello u u 2 u b moving flat co need arrange pi...      0"
            ],
            "text/html": [
              "\n",
              "  <div id=\"df-fbe1c705-6b7b-447d-b12c-3645b364aaca\">\n",
              "    <div class=\"colab-df-container\">\n",
              "      <div>\n",
              "<style scoped>\n",
              "    .dataframe tbody tr th:only-of-type {\n",
              "        vertical-align: middle;\n",
              "    }\n",
              "\n",
              "    .dataframe tbody tr th {\n",
              "        vertical-align: top;\n",
              "    }\n",
              "\n",
              "    .dataframe thead th {\n",
              "        text-align: right;\n",
              "    }\n",
              "</style>\n",
              "<table border=\"1\" class=\"dataframe\">\n",
              "  <thead>\n",
              "    <tr style=\"text-align: right;\">\n",
              "      <th></th>\n",
              "      <th>Message</th>\n",
              "      <th>Label</th>\n",
              "    </tr>\n",
              "  </thead>\n",
              "  <tbody>\n",
              "    <tr>\n",
              "      <th>0</th>\n",
              "      <td>da happy sit together na</td>\n",
              "      <td>0</td>\n",
              "    </tr>\n",
              "    <tr>\n",
              "      <th>1</th>\n",
              "      <td>2nd attempt contract u week top prize either 1...</td>\n",
              "      <td>1</td>\n",
              "    </tr>\n",
              "    <tr>\n",
              "      <th>2</th>\n",
              "      <td>text carlos let know hang</td>\n",
              "      <td>0</td>\n",
              "    </tr>\n",
              "    <tr>\n",
              "      <th>3</th>\n",
              "      <td>shant disturb u anymore jia</td>\n",
              "      <td>0</td>\n",
              "    </tr>\n",
              "    <tr>\n",
              "      <th>4</th>\n",
              "      <td>hello u u 2 u b moving flat co need arrange pi...</td>\n",
              "      <td>0</td>\n",
              "    </tr>\n",
              "  </tbody>\n",
              "</table>\n",
              "</div>\n",
              "      <button class=\"colab-df-convert\" onclick=\"convertToInteractive('df-fbe1c705-6b7b-447d-b12c-3645b364aaca')\"\n",
              "              title=\"Convert this dataframe to an interactive table.\"\n",
              "              style=\"display:none;\">\n",
              "        \n",
              "  <svg xmlns=\"http://www.w3.org/2000/svg\" height=\"24px\"viewBox=\"0 0 24 24\"\n",
              "       width=\"24px\">\n",
              "    <path d=\"M0 0h24v24H0V0z\" fill=\"none\"/>\n",
              "    <path d=\"M18.56 5.44l.94 2.06.94-2.06 2.06-.94-2.06-.94-.94-2.06-.94 2.06-2.06.94zm-11 1L8.5 8.5l.94-2.06 2.06-.94-2.06-.94L8.5 2.5l-.94 2.06-2.06.94zm10 10l.94 2.06.94-2.06 2.06-.94-2.06-.94-.94-2.06-.94 2.06-2.06.94z\"/><path d=\"M17.41 7.96l-1.37-1.37c-.4-.4-.92-.59-1.43-.59-.52 0-1.04.2-1.43.59L10.3 9.45l-7.72 7.72c-.78.78-.78 2.05 0 2.83L4 21.41c.39.39.9.59 1.41.59.51 0 1.02-.2 1.41-.59l7.78-7.78 2.81-2.81c.8-.78.8-2.07 0-2.86zM5.41 20L4 18.59l7.72-7.72 1.47 1.35L5.41 20z\"/>\n",
              "  </svg>\n",
              "      </button>\n",
              "      \n",
              "  <style>\n",
              "    .colab-df-container {\n",
              "      display:flex;\n",
              "      flex-wrap:wrap;\n",
              "      gap: 12px;\n",
              "    }\n",
              "\n",
              "    .colab-df-convert {\n",
              "      background-color: #E8F0FE;\n",
              "      border: none;\n",
              "      border-radius: 50%;\n",
              "      cursor: pointer;\n",
              "      display: none;\n",
              "      fill: #1967D2;\n",
              "      height: 32px;\n",
              "      padding: 0 0 0 0;\n",
              "      width: 32px;\n",
              "    }\n",
              "\n",
              "    .colab-df-convert:hover {\n",
              "      background-color: #E2EBFA;\n",
              "      box-shadow: 0px 1px 2px rgba(60, 64, 67, 0.3), 0px 1px 3px 1px rgba(60, 64, 67, 0.15);\n",
              "      fill: #174EA6;\n",
              "    }\n",
              "\n",
              "    [theme=dark] .colab-df-convert {\n",
              "      background-color: #3B4455;\n",
              "      fill: #D2E3FC;\n",
              "    }\n",
              "\n",
              "    [theme=dark] .colab-df-convert:hover {\n",
              "      background-color: #434B5C;\n",
              "      box-shadow: 0px 1px 3px 1px rgba(0, 0, 0, 0.15);\n",
              "      filter: drop-shadow(0px 1px 2px rgba(0, 0, 0, 0.3));\n",
              "      fill: #FFFFFF;\n",
              "    }\n",
              "  </style>\n",
              "\n",
              "      <script>\n",
              "        const buttonEl =\n",
              "          document.querySelector('#df-fbe1c705-6b7b-447d-b12c-3645b364aaca button.colab-df-convert');\n",
              "        buttonEl.style.display =\n",
              "          google.colab.kernel.accessAllowed ? 'block' : 'none';\n",
              "\n",
              "        async function convertToInteractive(key) {\n",
              "          const element = document.querySelector('#df-fbe1c705-6b7b-447d-b12c-3645b364aaca');\n",
              "          const dataTable =\n",
              "            await google.colab.kernel.invokeFunction('convertToInteractive',\n",
              "                                                     [key], {});\n",
              "          if (!dataTable) return;\n",
              "\n",
              "          const docLinkHtml = 'Like what you see? Visit the ' +\n",
              "            '<a target=\"_blank\" href=https://colab.research.google.com/notebooks/data_table.ipynb>data table notebook</a>'\n",
              "            + ' to learn more about interactive tables.';\n",
              "          element.innerHTML = '';\n",
              "          dataTable['output_type'] = 'display_data';\n",
              "          await google.colab.output.renderOutput(dataTable, element);\n",
              "          const docLink = document.createElement('div');\n",
              "          docLink.innerHTML = docLinkHtml;\n",
              "          element.appendChild(docLink);\n",
              "        }\n",
              "      </script>\n",
              "    </div>\n",
              "  </div>\n",
              "  "
            ]
          },
          "metadata": {},
          "execution_count": 9
        }
      ]
    },
    {
      "cell_type": "code",
      "source": [
        "test.head()"
      ],
      "metadata": {
        "colab": {
          "base_uri": "https://localhost:8080/",
          "height": 206
        },
        "id": "70O7Zmn9qWko",
        "outputId": "572134be-3da9-4bbf-879d-788daca83130"
      },
      "execution_count": null,
      "outputs": [
        {
          "output_type": "execute_result",
          "data": {
            "text/plain": [
              "                                             Message  Label\n",
              "0  watching tv lor funny bluff 4 wat izzit thk im...      0\n",
              "1  well done 4 costa del sol holiday 5000 await c...      1\n",
              "2  sm ac sptv new jersey devil detroit red wing p...      1\n",
              "3                                  love working home      0\n",
              "4                   get ready put excellent sub face      0"
            ],
            "text/html": [
              "\n",
              "  <div id=\"df-467e7769-6322-4747-91a4-ae00fb4b512c\">\n",
              "    <div class=\"colab-df-container\">\n",
              "      <div>\n",
              "<style scoped>\n",
              "    .dataframe tbody tr th:only-of-type {\n",
              "        vertical-align: middle;\n",
              "    }\n",
              "\n",
              "    .dataframe tbody tr th {\n",
              "        vertical-align: top;\n",
              "    }\n",
              "\n",
              "    .dataframe thead th {\n",
              "        text-align: right;\n",
              "    }\n",
              "</style>\n",
              "<table border=\"1\" class=\"dataframe\">\n",
              "  <thead>\n",
              "    <tr style=\"text-align: right;\">\n",
              "      <th></th>\n",
              "      <th>Message</th>\n",
              "      <th>Label</th>\n",
              "    </tr>\n",
              "  </thead>\n",
              "  <tbody>\n",
              "    <tr>\n",
              "      <th>0</th>\n",
              "      <td>watching tv lor funny bluff 4 wat izzit thk im...</td>\n",
              "      <td>0</td>\n",
              "    </tr>\n",
              "    <tr>\n",
              "      <th>1</th>\n",
              "      <td>well done 4 costa del sol holiday 5000 await c...</td>\n",
              "      <td>1</td>\n",
              "    </tr>\n",
              "    <tr>\n",
              "      <th>2</th>\n",
              "      <td>sm ac sptv new jersey devil detroit red wing p...</td>\n",
              "      <td>1</td>\n",
              "    </tr>\n",
              "    <tr>\n",
              "      <th>3</th>\n",
              "      <td>love working home</td>\n",
              "      <td>0</td>\n",
              "    </tr>\n",
              "    <tr>\n",
              "      <th>4</th>\n",
              "      <td>get ready put excellent sub face</td>\n",
              "      <td>0</td>\n",
              "    </tr>\n",
              "  </tbody>\n",
              "</table>\n",
              "</div>\n",
              "      <button class=\"colab-df-convert\" onclick=\"convertToInteractive('df-467e7769-6322-4747-91a4-ae00fb4b512c')\"\n",
              "              title=\"Convert this dataframe to an interactive table.\"\n",
              "              style=\"display:none;\">\n",
              "        \n",
              "  <svg xmlns=\"http://www.w3.org/2000/svg\" height=\"24px\"viewBox=\"0 0 24 24\"\n",
              "       width=\"24px\">\n",
              "    <path d=\"M0 0h24v24H0V0z\" fill=\"none\"/>\n",
              "    <path d=\"M18.56 5.44l.94 2.06.94-2.06 2.06-.94-2.06-.94-.94-2.06-.94 2.06-2.06.94zm-11 1L8.5 8.5l.94-2.06 2.06-.94-2.06-.94L8.5 2.5l-.94 2.06-2.06.94zm10 10l.94 2.06.94-2.06 2.06-.94-2.06-.94-.94-2.06-.94 2.06-2.06.94z\"/><path d=\"M17.41 7.96l-1.37-1.37c-.4-.4-.92-.59-1.43-.59-.52 0-1.04.2-1.43.59L10.3 9.45l-7.72 7.72c-.78.78-.78 2.05 0 2.83L4 21.41c.39.39.9.59 1.41.59.51 0 1.02-.2 1.41-.59l7.78-7.78 2.81-2.81c.8-.78.8-2.07 0-2.86zM5.41 20L4 18.59l7.72-7.72 1.47 1.35L5.41 20z\"/>\n",
              "  </svg>\n",
              "      </button>\n",
              "      \n",
              "  <style>\n",
              "    .colab-df-container {\n",
              "      display:flex;\n",
              "      flex-wrap:wrap;\n",
              "      gap: 12px;\n",
              "    }\n",
              "\n",
              "    .colab-df-convert {\n",
              "      background-color: #E8F0FE;\n",
              "      border: none;\n",
              "      border-radius: 50%;\n",
              "      cursor: pointer;\n",
              "      display: none;\n",
              "      fill: #1967D2;\n",
              "      height: 32px;\n",
              "      padding: 0 0 0 0;\n",
              "      width: 32px;\n",
              "    }\n",
              "\n",
              "    .colab-df-convert:hover {\n",
              "      background-color: #E2EBFA;\n",
              "      box-shadow: 0px 1px 2px rgba(60, 64, 67, 0.3), 0px 1px 3px 1px rgba(60, 64, 67, 0.15);\n",
              "      fill: #174EA6;\n",
              "    }\n",
              "\n",
              "    [theme=dark] .colab-df-convert {\n",
              "      background-color: #3B4455;\n",
              "      fill: #D2E3FC;\n",
              "    }\n",
              "\n",
              "    [theme=dark] .colab-df-convert:hover {\n",
              "      background-color: #434B5C;\n",
              "      box-shadow: 0px 1px 3px 1px rgba(0, 0, 0, 0.15);\n",
              "      filter: drop-shadow(0px 1px 2px rgba(0, 0, 0, 0.3));\n",
              "      fill: #FFFFFF;\n",
              "    }\n",
              "  </style>\n",
              "\n",
              "      <script>\n",
              "        const buttonEl =\n",
              "          document.querySelector('#df-467e7769-6322-4747-91a4-ae00fb4b512c button.colab-df-convert');\n",
              "        buttonEl.style.display =\n",
              "          google.colab.kernel.accessAllowed ? 'block' : 'none';\n",
              "\n",
              "        async function convertToInteractive(key) {\n",
              "          const element = document.querySelector('#df-467e7769-6322-4747-91a4-ae00fb4b512c');\n",
              "          const dataTable =\n",
              "            await google.colab.kernel.invokeFunction('convertToInteractive',\n",
              "                                                     [key], {});\n",
              "          if (!dataTable) return;\n",
              "\n",
              "          const docLinkHtml = 'Like what you see? Visit the ' +\n",
              "            '<a target=\"_blank\" href=https://colab.research.google.com/notebooks/data_table.ipynb>data table notebook</a>'\n",
              "            + ' to learn more about interactive tables.';\n",
              "          element.innerHTML = '';\n",
              "          dataTable['output_type'] = 'display_data';\n",
              "          await google.colab.output.renderOutput(dataTable, element);\n",
              "          const docLink = document.createElement('div');\n",
              "          docLink.innerHTML = docLinkHtml;\n",
              "          element.appendChild(docLink);\n",
              "        }\n",
              "      </script>\n",
              "    </div>\n",
              "  </div>\n",
              "  "
            ]
          },
          "metadata": {},
          "execution_count": 10
        }
      ]
    },
    {
      "cell_type": "code",
      "source": [
        "y_train,X_train=train[\"Label\"],train[\"Message\"]\n",
        "y_val,X_val=val[\"Label\"],val[\"Message\"]\n",
        "y_test,X_test=test[\"Label\"],test[\"Message\"]"
      ],
      "metadata": {
        "id": "T3GwBPTCq9Mh"
      },
      "execution_count": null,
      "outputs": []
    },
    {
      "cell_type": "markdown",
      "source": [
        "## Converting string to vectors, to give as input to the models"
      ],
      "metadata": {
        "id": "4ioyO-p5w0_V"
      }
    },
    {
      "cell_type": "code",
      "source": [
        "# replacing NAN entries by empty string\n",
        "X_train = X_train.replace(np.nan, '', regex=True)\n",
        "X_val = X_val.replace(np.nan, '', regex=True)\n",
        "X_test = X_test.replace(np.nan, '', regex=True)"
      ],
      "metadata": {
        "id": "Po9sk9V9uyhD"
      },
      "execution_count": null,
      "outputs": []
    },
    {
      "cell_type": "code",
      "source": [
        "count = CountVectorizer().fit(X_train)\n",
        "X_train = count.transform(X_train)\n",
        "X_val = count.transform(X_val)\n",
        "X_test = count.transform(X_test)"
      ],
      "metadata": {
        "id": "hNZBH3seMgMa"
      },
      "execution_count": null,
      "outputs": []
    },
    {
      "cell_type": "code",
      "source": [
        "tfidf_transformer = TfidfTransformer()\n",
        "tfidf_train = tfidf_transformer.fit_transform(X_train)\n",
        "tfidf_val = tfidf_transformer.fit_transform(X_val)\n",
        "tfidf_test = tfidf_transformer.fit_transform(X_test)"
      ],
      "metadata": {
        "id": "cN-u6hq66Iro"
      },
      "execution_count": null,
      "outputs": []
    },
    {
      "cell_type": "code",
      "source": [
        "tfidf_train.shape,tfidf_val.shape,tfidf_test.shape"
      ],
      "metadata": {
        "colab": {
          "base_uri": "https://localhost:8080/"
        },
        "id": "wemn-yWV6KUp",
        "outputId": "c479f757-06cb-4320-ee90-fac5294eba0c"
      },
      "execution_count": null,
      "outputs": [
        {
          "output_type": "execute_result",
          "data": {
            "text/plain": [
              "((4025, 6778), (711, 6778), (836, 6778))"
            ]
          },
          "metadata": {},
          "execution_count": 32
        }
      ]
    },
    {
      "cell_type": "markdown",
      "source": [
        "## Training Models"
      ],
      "metadata": {
        "id": "4vX-z4Xkw7QU"
      }
    },
    {
      "cell_type": "code",
      "source": [
        "def eval_metrics(actual, pred):\n",
        "    precision, recall, thresholds = precision_recall_curve(actual, pred)\n",
        "    auc_precision_recall = auc(recall, precision)\n",
        "    return (auc_precision_recall)"
      ],
      "metadata": {
        "id": "6XvUnZX-AyV0"
      },
      "execution_count": null,
      "outputs": []
    },
    {
      "cell_type": "code",
      "source": [
        "mlflow.sklearn.autolog()\n",
        "\n",
        "n_estimators = np.arange(200,501,100)\n",
        "max_depth = np.arange(5,8,1)\n",
        "\n",
        "for i in range(4):\n",
        "  for j in range(3):\n",
        "    clf = RandomForestClassifier(n_estimators = n_estimators[i], max_depth = max_depth[j],random_state=101)\n",
        "    clf.fit(tfidf_train, y_train)\n",
        "\n",
        "    y_pred = clf.predict(tfidf_test)\n",
        "    aucpr = eval_metrics(y_test, y_pred)\n",
        "    acc = accuracy_score(y_test, y_pred)\n",
        "\n",
        "    with mlflow.start_run(run_name=f\"n_estimators : {n_estimators[i]}, max_depth : {max_depth[j]}\"):\n",
        "      \n",
        "        mlflow.log_param(\"n_estimators\", n_estimators[i])\n",
        "        mlflow.log_param(\"max_depth\", max_depth[j])\n",
        "        mlflow.log_metric(\"accuracy\", acc)\n",
        "        mlflow.log_metric(\"AUCPR\",aucpr)\n",
        "        mlflow.sklearn.log_model(clf, \"model\")\n",
        "\n",
        "        print(\"\\nRandom Classifier Model (no_of_estimator={:f}, max_depth={:f}):\".format(n_estimators[i], max_depth[j]))\n",
        "        print(f\"Accuracy: {acc}\")\n",
        "        print(f\"AUCPR: {aucpr} \\n\\n\")\n",
        "        \n",
        "\n",
        "        tracking_url_type_store = urlparse(mlflow.get_tracking_uri()).scheme\n",
        "        mlflow.sklearn.log_model(\n",
        "            sk_model=clf,\n",
        "            artifact_path=\"sklearn-model\",\n",
        "            registered_model_name=\"random-forest-classification-model\"\n",
        "        )\n",
        "        if tracking_url_type_store != \"file\":\n",
        "          mlflow.sklearn.log_model(clf, \"model\", registered_model_name=\"Randomclassifier\")\n",
        "        else:\n",
        "          mlflow.sklearn.log_model(clf, \"model\")\n"
      ],
      "metadata": {
        "colab": {
          "base_uri": "https://localhost:8080/"
        },
        "id": "vdn8dwBlC7QF",
        "outputId": "54afa4df-455d-42dc-eda7-c491820a0cc9"
      },
      "execution_count": null,
      "outputs": [
        {
          "output_type": "stream",
          "name": "stderr",
          "text": [
            "2023/02/25 10:56:32 INFO mlflow.utils.autologging_utils: Created MLflow autologging run with ID '648555b70d9044f38994692392aee02c', which will track hyperparameters, performance metrics, model artifacts, and lineage information for the current sklearn workflow\n"
          ]
        },
        {
          "output_type": "stream",
          "name": "stdout",
          "text": [
            "\n",
            "Random Classifier Model (no_of_estimator=200.000000, max_depth=5.000000):\n",
            "Accuracy: 0.8755980861244019\n",
            "AUCPR: 0.562200956937799 \n",
            "\n",
            "\n"
          ]
        },
        {
          "output_type": "stream",
          "name": "stderr",
          "text": [
            "Successfully registered model 'random-forest-classification-model'.\n",
            "2023/02/25 10:56:44 INFO mlflow.tracking._model_registry.client: Waiting up to 300 seconds for model version to finish creation.                     Model name: random-forest-classification-model, version 1\n",
            "Created version '1' of model 'random-forest-classification-model'.\n",
            "2023/02/25 10:56:48 INFO mlflow.utils.autologging_utils: Created MLflow autologging run with ID 'e6bad2912b3a41a8a0531155e0e30747', which will track hyperparameters, performance metrics, model artifacts, and lineage information for the current sklearn workflow\n"
          ]
        },
        {
          "output_type": "stream",
          "name": "stdout",
          "text": [
            "\n",
            "Random Classifier Model (no_of_estimator=200.000000, max_depth=6.000000):\n",
            "Accuracy: 0.8767942583732058\n",
            "AUCPR: 0.5664105631210894 \n",
            "\n",
            "\n"
          ]
        },
        {
          "output_type": "stream",
          "name": "stderr",
          "text": [
            "Registered model 'random-forest-classification-model' already exists. Creating a new version of this model...\n",
            "2023/02/25 10:56:59 INFO mlflow.tracking._model_registry.client: Waiting up to 300 seconds for model version to finish creation.                     Model name: random-forest-classification-model, version 2\n",
            "Created version '2' of model 'random-forest-classification-model'.\n",
            "2023/02/25 10:57:01 INFO mlflow.utils.autologging_utils: Created MLflow autologging run with ID '1467e0f3591d4fbb8164721587f8271e', which will track hyperparameters, performance metrics, model artifacts, and lineage information for the current sklearn workflow\n"
          ]
        },
        {
          "output_type": "stream",
          "name": "stdout",
          "text": [
            "\n",
            "Random Classifier Model (no_of_estimator=200.000000, max_depth=7.000000):\n",
            "Accuracy: 0.8791866028708134\n",
            "AUCPR: 0.5748297754876702 \n",
            "\n",
            "\n"
          ]
        },
        {
          "output_type": "stream",
          "name": "stderr",
          "text": [
            "Registered model 'random-forest-classification-model' already exists. Creating a new version of this model...\n",
            "2023/02/25 10:57:11 INFO mlflow.tracking._model_registry.client: Waiting up to 300 seconds for model version to finish creation.                     Model name: random-forest-classification-model, version 3\n",
            "Created version '3' of model 'random-forest-classification-model'.\n",
            "2023/02/25 10:57:14 INFO mlflow.utils.autologging_utils: Created MLflow autologging run with ID '9193ebe0b02f4ef2b3dd2fdd87699ac5', which will track hyperparameters, performance metrics, model artifacts, and lineage information for the current sklearn workflow\n"
          ]
        },
        {
          "output_type": "stream",
          "name": "stdout",
          "text": [
            "\n",
            "Random Classifier Model (no_of_estimator=300.000000, max_depth=5.000000):\n",
            "Accuracy: 0.8755980861244019\n",
            "AUCPR: 0.562200956937799 \n",
            "\n",
            "\n"
          ]
        },
        {
          "output_type": "stream",
          "name": "stderr",
          "text": [
            "Registered model 'random-forest-classification-model' already exists. Creating a new version of this model...\n",
            "2023/02/25 10:57:26 INFO mlflow.tracking._model_registry.client: Waiting up to 300 seconds for model version to finish creation.                     Model name: random-forest-classification-model, version 4\n",
            "Created version '4' of model 'random-forest-classification-model'.\n",
            "2023/02/25 10:57:28 INFO mlflow.utils.autologging_utils: Created MLflow autologging run with ID '31b4cb82b96541e28a68f3b4850e419f', which will track hyperparameters, performance metrics, model artifacts, and lineage information for the current sklearn workflow\n"
          ]
        },
        {
          "output_type": "stream",
          "name": "stdout",
          "text": [
            "\n",
            "Random Classifier Model (no_of_estimator=300.000000, max_depth=6.000000):\n",
            "Accuracy: 0.8779904306220095\n",
            "AUCPR: 0.5706201693043799 \n",
            "\n",
            "\n"
          ]
        },
        {
          "output_type": "stream",
          "name": "stderr",
          "text": [
            "Registered model 'random-forest-classification-model' already exists. Creating a new version of this model...\n",
            "2023/02/25 10:57:39 INFO mlflow.tracking._model_registry.client: Waiting up to 300 seconds for model version to finish creation.                     Model name: random-forest-classification-model, version 5\n",
            "Created version '5' of model 'random-forest-classification-model'.\n",
            "2023/02/25 10:57:42 INFO mlflow.utils.autologging_utils: Created MLflow autologging run with ID 'b9ab1b7ecb2e44a18e84635b3dd4fd79', which will track hyperparameters, performance metrics, model artifacts, and lineage information for the current sklearn workflow\n"
          ]
        },
        {
          "output_type": "stream",
          "name": "stdout",
          "text": [
            "\n",
            "Random Classifier Model (no_of_estimator=300.000000, max_depth=7.000000):\n",
            "Accuracy: 0.8791866028708134\n",
            "AUCPR: 0.5748297754876702 \n",
            "\n",
            "\n"
          ]
        },
        {
          "output_type": "stream",
          "name": "stderr",
          "text": [
            "Registered model 'random-forest-classification-model' already exists. Creating a new version of this model...\n",
            "2023/02/25 10:57:52 INFO mlflow.tracking._model_registry.client: Waiting up to 300 seconds for model version to finish creation.                     Model name: random-forest-classification-model, version 6\n",
            "Created version '6' of model 'random-forest-classification-model'.\n",
            "2023/02/25 10:57:55 INFO mlflow.utils.autologging_utils: Created MLflow autologging run with ID '08b4ab4cfcdf4b528d1200eedc1845c8', which will track hyperparameters, performance metrics, model artifacts, and lineage information for the current sklearn workflow\n"
          ]
        },
        {
          "output_type": "stream",
          "name": "stdout",
          "text": [
            "\n",
            "Random Classifier Model (no_of_estimator=400.000000, max_depth=5.000000):\n",
            "Accuracy: 0.8755980861244019\n",
            "AUCPR: 0.562200956937799 \n",
            "\n",
            "\n"
          ]
        },
        {
          "output_type": "stream",
          "name": "stderr",
          "text": [
            "Registered model 'random-forest-classification-model' already exists. Creating a new version of this model...\n",
            "2023/02/25 10:58:07 INFO mlflow.tracking._model_registry.client: Waiting up to 300 seconds for model version to finish creation.                     Model name: random-forest-classification-model, version 7\n",
            "Created version '7' of model 'random-forest-classification-model'.\n",
            "2023/02/25 10:58:10 INFO mlflow.utils.autologging_utils: Created MLflow autologging run with ID 'f13cc0405bf647e7a45ae20d3db1abbd', which will track hyperparameters, performance metrics, model artifacts, and lineage information for the current sklearn workflow\n"
          ]
        },
        {
          "output_type": "stream",
          "name": "stdout",
          "text": [
            "\n",
            "Random Classifier Model (no_of_estimator=400.000000, max_depth=6.000000):\n",
            "Accuracy: 0.8779904306220095\n",
            "AUCPR: 0.5706201693043799 \n",
            "\n",
            "\n"
          ]
        },
        {
          "output_type": "stream",
          "name": "stderr",
          "text": [
            "Registered model 'random-forest-classification-model' already exists. Creating a new version of this model...\n",
            "2023/02/25 10:58:23 INFO mlflow.tracking._model_registry.client: Waiting up to 300 seconds for model version to finish creation.                     Model name: random-forest-classification-model, version 8\n",
            "Created version '8' of model 'random-forest-classification-model'.\n",
            "2023/02/25 10:58:25 INFO mlflow.utils.autologging_utils: Created MLflow autologging run with ID '0d9c3e9ad8134fd7a5e87a509c2f673e', which will track hyperparameters, performance metrics, model artifacts, and lineage information for the current sklearn workflow\n"
          ]
        },
        {
          "output_type": "stream",
          "name": "stdout",
          "text": [
            "\n",
            "Random Classifier Model (no_of_estimator=400.000000, max_depth=7.000000):\n",
            "Accuracy: 0.8791866028708134\n",
            "AUCPR: 0.5748297754876702 \n",
            "\n",
            "\n"
          ]
        },
        {
          "output_type": "stream",
          "name": "stderr",
          "text": [
            "Registered model 'random-forest-classification-model' already exists. Creating a new version of this model...\n",
            "2023/02/25 10:58:37 INFO mlflow.tracking._model_registry.client: Waiting up to 300 seconds for model version to finish creation.                     Model name: random-forest-classification-model, version 9\n",
            "Created version '9' of model 'random-forest-classification-model'.\n",
            "2023/02/25 10:58:40 INFO mlflow.utils.autologging_utils: Created MLflow autologging run with ID 'd8daab061a1440e0b15d4914bb3c690c', which will track hyperparameters, performance metrics, model artifacts, and lineage information for the current sklearn workflow\n"
          ]
        },
        {
          "output_type": "stream",
          "name": "stdout",
          "text": [
            "\n",
            "Random Classifier Model (no_of_estimator=500.000000, max_depth=5.000000):\n",
            "Accuracy: 0.8755980861244019\n",
            "AUCPR: 0.562200956937799 \n",
            "\n",
            "\n"
          ]
        },
        {
          "output_type": "stream",
          "name": "stderr",
          "text": [
            "Registered model 'random-forest-classification-model' already exists. Creating a new version of this model...\n",
            "2023/02/25 10:58:55 INFO mlflow.tracking._model_registry.client: Waiting up to 300 seconds for model version to finish creation.                     Model name: random-forest-classification-model, version 10\n",
            "Created version '10' of model 'random-forest-classification-model'.\n",
            "2023/02/25 10:58:58 INFO mlflow.utils.autologging_utils: Created MLflow autologging run with ID 'a54c911775924e7c98ce409d3f968304', which will track hyperparameters, performance metrics, model artifacts, and lineage information for the current sklearn workflow\n"
          ]
        },
        {
          "output_type": "stream",
          "name": "stdout",
          "text": [
            "\n",
            "Random Classifier Model (no_of_estimator=500.000000, max_depth=6.000000):\n",
            "Accuracy: 0.8779904306220095\n",
            "AUCPR: 0.5706201693043799 \n",
            "\n",
            "\n"
          ]
        },
        {
          "output_type": "stream",
          "name": "stderr",
          "text": [
            "Registered model 'random-forest-classification-model' already exists. Creating a new version of this model...\n",
            "2023/02/25 10:59:11 INFO mlflow.tracking._model_registry.client: Waiting up to 300 seconds for model version to finish creation.                     Model name: random-forest-classification-model, version 11\n",
            "Created version '11' of model 'random-forest-classification-model'.\n",
            "2023/02/25 10:59:13 INFO mlflow.utils.autologging_utils: Created MLflow autologging run with ID '0be0876170cf482c81a1473b3e6552b6', which will track hyperparameters, performance metrics, model artifacts, and lineage information for the current sklearn workflow\n"
          ]
        },
        {
          "output_type": "stream",
          "name": "stdout",
          "text": [
            "\n",
            "Random Classifier Model (no_of_estimator=500.000000, max_depth=7.000000):\n",
            "Accuracy: 0.8803827751196173\n",
            "AUCPR: 0.5790393816709606 \n",
            "\n",
            "\n"
          ]
        },
        {
          "output_type": "stream",
          "name": "stderr",
          "text": [
            "Registered model 'random-forest-classification-model' already exists. Creating a new version of this model...\n",
            "2023/02/25 10:59:27 INFO mlflow.tracking._model_registry.client: Waiting up to 300 seconds for model version to finish creation.                     Model name: random-forest-classification-model, version 12\n",
            "Created version '12' of model 'random-forest-classification-model'.\n"
          ]
        }
      ]
    },
    {
      "cell_type": "code",
      "source": [
        "for i in range(1,13):\n",
        "  print(\"\\n\",mlflow.tracking.MlflowClient().get_model_version(\"random-forest-classification-model\",str(i)))"
      ],
      "metadata": {
        "colab": {
          "base_uri": "https://localhost:8080/"
        },
        "id": "zlOs5HShCHMs",
        "outputId": "7ee17f46-c2ac-4994-e487-b7b5ee38c6ad"
      },
      "execution_count": null,
      "outputs": [
        {
          "output_type": "stream",
          "name": "stdout",
          "text": [
            "\n",
            " <ModelVersion: creation_timestamp=1677322604670, current_stage='None', description=None, last_updated_timestamp=1677322604670, name='random-forest-classification-model', run_id='439e18e9e51d434e81f74a0d75c4362f', run_link=None, source='file:///content/mlruns/0/439e18e9e51d434e81f74a0d75c4362f/artifacts/sklearn-model', status='READY', status_message=None, tags={}, user_id=None, version=1>\n",
            "\n",
            " <ModelVersion: creation_timestamp=1677322619446, current_stage='None', description=None, last_updated_timestamp=1677322619446, name='random-forest-classification-model', run_id='526db7f1a38b41b298e880d351cac29d', run_link=None, source='file:///content/mlruns/0/526db7f1a38b41b298e880d351cac29d/artifacts/sklearn-model', status='READY', status_message=None, tags={}, user_id=None, version=2>\n",
            "\n",
            " <ModelVersion: creation_timestamp=1677322631443, current_stage='None', description=None, last_updated_timestamp=1677322631443, name='random-forest-classification-model', run_id='2362e03095b7439e8f9b30a631f6b8f2', run_link=None, source='file:///content/mlruns/0/2362e03095b7439e8f9b30a631f6b8f2/artifacts/sklearn-model', status='READY', status_message=None, tags={}, user_id=None, version=3>\n",
            "\n",
            " <ModelVersion: creation_timestamp=1677322646089, current_stage='None', description=None, last_updated_timestamp=1677322646089, name='random-forest-classification-model', run_id='63bfd08a7a9846deb7019e8cc55712b3', run_link=None, source='file:///content/mlruns/0/63bfd08a7a9846deb7019e8cc55712b3/artifacts/sklearn-model', status='READY', status_message=None, tags={}, user_id=None, version=4>\n",
            "\n",
            " <ModelVersion: creation_timestamp=1677322659179, current_stage='None', description=None, last_updated_timestamp=1677322659179, name='random-forest-classification-model', run_id='6d1094e4d5dc48db92cb9385aff6d831', run_link=None, source='file:///content/mlruns/0/6d1094e4d5dc48db92cb9385aff6d831/artifacts/sklearn-model', status='READY', status_message=None, tags={}, user_id=None, version=5>\n",
            "\n",
            " <ModelVersion: creation_timestamp=1677322672319, current_stage='None', description=None, last_updated_timestamp=1677322672319, name='random-forest-classification-model', run_id='29ef515123ba488fba7842a2bd1e8a86', run_link=None, source='file:///content/mlruns/0/29ef515123ba488fba7842a2bd1e8a86/artifacts/sklearn-model', status='READY', status_message=None, tags={}, user_id=None, version=6>\n",
            "\n",
            " <ModelVersion: creation_timestamp=1677322687713, current_stage='None', description=None, last_updated_timestamp=1677322687713, name='random-forest-classification-model', run_id='aa9546610e2c427883d4fa37620eb8dc', run_link=None, source='file:///content/mlruns/0/aa9546610e2c427883d4fa37620eb8dc/artifacts/sklearn-model', status='READY', status_message=None, tags={}, user_id=None, version=7>\n",
            "\n",
            " <ModelVersion: creation_timestamp=1677322703084, current_stage='None', description=None, last_updated_timestamp=1677322703084, name='random-forest-classification-model', run_id='1b992d0cfd7542e3b3b23b23afa32454', run_link=None, source='file:///content/mlruns/0/1b992d0cfd7542e3b3b23b23afa32454/artifacts/sklearn-model', status='READY', status_message=None, tags={}, user_id=None, version=8>\n",
            "\n",
            " <ModelVersion: creation_timestamp=1677322717782, current_stage='None', description=None, last_updated_timestamp=1677322717782, name='random-forest-classification-model', run_id='4b9e6958d2334f448a8a4d5b5a728274', run_link=None, source='file:///content/mlruns/0/4b9e6958d2334f448a8a4d5b5a728274/artifacts/sklearn-model', status='READY', status_message=None, tags={}, user_id=None, version=9>\n",
            "\n",
            " <ModelVersion: creation_timestamp=1677322735929, current_stage='None', description=None, last_updated_timestamp=1677322735929, name='random-forest-classification-model', run_id='896652bb9fb245cc9a873771544cf3be', run_link=None, source='file:///content/mlruns/0/896652bb9fb245cc9a873771544cf3be/artifacts/sklearn-model', status='READY', status_message=None, tags={}, user_id=None, version=10>\n",
            "\n",
            " <ModelVersion: creation_timestamp=1677322751601, current_stage='None', description=None, last_updated_timestamp=1677322751601, name='random-forest-classification-model', run_id='08ad94b20285404794a3575ecdc3e771', run_link=None, source='file:///content/mlruns/0/08ad94b20285404794a3575ecdc3e771/artifacts/sklearn-model', status='READY', status_message=None, tags={}, user_id=None, version=11>\n",
            "\n",
            " <ModelVersion: creation_timestamp=1677322767325, current_stage='None', description=None, last_updated_timestamp=1677322767325, name='random-forest-classification-model', run_id='c56580a3f61a4300813f85e65a76eff4', run_link=None, source='file:///content/mlruns/0/c56580a3f61a4300813f85e65a76eff4/artifacts/sklearn-model', status='READY', status_message=None, tags={}, user_id=None, version=12>\n"
          ]
        }
      ]
    },
    {
      "cell_type": "code",
      "source": [
        "get_ipython().system_raw(\"mlflow ui --port 5000 &\")\n",
        "ngrok.kill()\n",
        "ng_token=\"2ME7aHUHn9pViBPPQmUNA8NVloG_5YLtL8jkMAbSizJ7b9PVS\"\n",
        "ngrok.set_auth_token(ng_token)\n",
        "ngrok_tunnel = ngrok.connect(addr=\"5000\", proto=\"http\", bind_tls=True)\n",
        "print(\"Track URL: \",ngrok_tunnel.public_url)"
      ],
      "metadata": {
        "id": "011hEzn4Xld8",
        "colab": {
          "base_uri": "https://localhost:8080/"
        },
        "outputId": "0d99efb1-1f5e-4cca-83b2-130c543cc18a"
      },
      "execution_count": null,
      "outputs": [
        {
          "output_type": "stream",
          "name": "stdout",
          "text": [
            "Track URL:  https://8ac0-35-201-210-190.ngrok.io\n"
          ]
        }
      ]
    },
    {
      "cell_type": "markdown",
      "source": [
        "### Model 2: Multinomial Naive Bayes"
      ],
      "metadata": {
        "id": "CuuIcCqS-XT1"
      }
    },
    {
      "cell_type": "code",
      "source": [
        "mlflow.sklearn.autolog()\n",
        "\n",
        "clf = MultinomialNB()\n",
        "clf.fit(tfidf_train, y_train)\n",
        "\n",
        "y_pred = clf.predict(tfidf_test)\n",
        "aucpr = eval_metrics(y_test, y_pred)\n",
        "acc = accuracy_score(y_test, y_pred)\n",
        "\n",
        "with mlflow.start_run(run_name=\"Multinomial Naive Bayes\"):\n",
        "\n",
        "    mlflow.log_metric(\"accuracy\", acc)\n",
        "    mlflow.log_metric(\"AUCPR\",aucpr)\n",
        "    mlflow.sklearn.log_model(clf, \"model\")\n",
        "\n",
        "    print(\"\\nMultinomial Naive Bayes\")\n",
        "    print(f\"Accuracy: {acc}\")\n",
        "    print(f\"AUCPR: {aucpr} \\n\")\n",
        "    \n",
        "\n",
        "    tracking_url_type_store = urlparse(mlflow.get_tracking_uri()).scheme\n",
        "    mlflow.sklearn.log_model(\n",
        "        sk_model=clf,\n",
        "        artifact_path=\"sklearn-model\",\n",
        "        registered_model_name=\"multinomial-nb-model\"\n",
        "    )\n",
        "    if tracking_url_type_store != \"file\":\n",
        "      mlflow.sklearn.log_model(clf, \"model\", registered_model_name=\"multinomial-nb-model\")\n",
        "    else:\n",
        "      mlflow.sklearn.log_model(clf, \"model\")\n"
      ],
      "metadata": {
        "colab": {
          "base_uri": "https://localhost:8080/"
        },
        "id": "1DNCjPmc8HFb",
        "outputId": "e587bd3d-ceff-4972-aa33-d67ef51467f1"
      },
      "execution_count": null,
      "outputs": [
        {
          "output_type": "stream",
          "name": "stderr",
          "text": [
            "2023/02/25 11:00:17 INFO mlflow.utils.autologging_utils: Created MLflow autologging run with ID '1c62b642847c4487898ce41a5969f9a5', which will track hyperparameters, performance metrics, model artifacts, and lineage information for the current sklearn workflow\n"
          ]
        },
        {
          "output_type": "stream",
          "name": "stdout",
          "text": [
            "\n",
            "Multinomial Naive Bayes\n",
            "Accuracy: 0.9617224880382775\n",
            "AUCPR: 0.8652926021347074 \n",
            "\n"
          ]
        },
        {
          "output_type": "stream",
          "name": "stderr",
          "text": [
            "Successfully registered model 'multinomial-nb-model'.\n",
            "2023/02/25 11:00:25 INFO mlflow.tracking._model_registry.client: Waiting up to 300 seconds for model version to finish creation.                     Model name: multinomial-nb-model, version 1\n",
            "Created version '1' of model 'multinomial-nb-model'.\n"
          ]
        }
      ]
    },
    {
      "cell_type": "code",
      "source": [
        "print(mlflow.tracking.MlflowClient().get_model_version(\"multinomial-nb-model\", '1'))"
      ],
      "metadata": {
        "colab": {
          "base_uri": "https://localhost:8080/"
        },
        "id": "P4P1NIkrIA40",
        "outputId": "0ede5b99-1390-44fb-8058-4f39e792d525"
      },
      "execution_count": null,
      "outputs": [
        {
          "output_type": "stream",
          "name": "stdout",
          "text": [
            "<ModelVersion: creation_timestamp=1677322825926, current_stage='None', description=None, last_updated_timestamp=1677322825926, name='multinomial-nb-model', run_id='71254120dac14a24b6b9de6b5d1ca3ad', run_link=None, source='file:///content/mlruns/0/71254120dac14a24b6b9de6b5d1ca3ad/artifacts/sklearn-model', status='READY', status_message=None, tags={}, user_id=None, version=1>\n"
          ]
        }
      ]
    },
    {
      "cell_type": "markdown",
      "source": [
        "Model 3: MLP Classifier"
      ],
      "metadata": {
        "id": "0PlnnwdtIj7d"
      }
    },
    {
      "cell_type": "code",
      "source": [
        "mlflow.sklearn.autolog()\n",
        "\n",
        "clf = MLPClassifier(random_state=101,learning_rate='adaptive')\n",
        "clf.fit(tfidf_train, y_train)\n",
        "\n",
        "y_pred = clf.predict(tfidf_test)\n",
        "aucpr = eval_metrics(y_test, y_pred)\n",
        "acc = accuracy_score(y_test, y_pred)\n",
        "conf_matrix = confusion_matrix(y_test,y_pred)\n",
        "t_n, f_p, f_n, t_p = conf_matrix.ravel()\n",
        "\n",
        "with mlflow.start_run(run_name=\"Multilayer Perceptron\"):\n",
        "\n",
        "    mlflow.log_metric(\"accuracy\", acc)\n",
        "    mlflow.log_metric(\"AUCPR\",aucpr)\n",
        "    mlflow.log_metric(\"True Negative\", t_n)\n",
        "    mlflow.log_metric(\"False Positive\", f_p)\n",
        "    mlflow.log_metric(\"False Negative\", f_n)\n",
        "    mlflow.log_metric(\"True Positive\", t_p)\n",
        "    mlflow.sklearn.log_model(clf, \"model\")\n",
        "\n",
        "    print(\"\\nMultilayer Perceptron\")\n",
        "    print(f\"Accuracy: {acc}\")\n",
        "    print(f\"AUCPR: {aucpr} \\n\")\n",
        "    \n",
        "\n",
        "    tracking_url_type_store = urlparse(mlflow.get_tracking_uri()).scheme\n",
        "    mlflow.sklearn.log_model(\n",
        "        sk_model=clf,\n",
        "        artifact_path=\"sklearn-model\",\n",
        "        registered_model_name=\"multilayer-perceptron-model\"\n",
        "    )\n",
        "    if tracking_url_type_store != \"file\":\n",
        "      mlflow.sklearn.log_model(clf, \"model\", registered_model_name=\"multilayer-perceptron-model\")\n",
        "    else:\n",
        "      mlflow.sklearn.log_model(clf, \"model\")\n"
      ],
      "metadata": {
        "colab": {
          "base_uri": "https://localhost:8080/"
        },
        "id": "si9FH6G8IL5k",
        "outputId": "053987ab-6e3e-421a-a3b9-6eaa47091a23"
      },
      "execution_count": null,
      "outputs": [
        {
          "output_type": "stream",
          "name": "stderr",
          "text": [
            "2023/02/25 11:00:48 INFO mlflow.utils.autologging_utils: Created MLflow autologging run with ID '278581571ec04aec9517ac1988cde769', which will track hyperparameters, performance metrics, model artifacts, and lineage information for the current sklearn workflow\n"
          ]
        },
        {
          "output_type": "stream",
          "name": "stdout",
          "text": [
            "\n",
            "Multilayer Perceptron\n",
            "Accuracy: 0.9844497607655502\n",
            "AUCPR: 0.943168016194332 \n",
            "\n"
          ]
        },
        {
          "output_type": "stream",
          "name": "stderr",
          "text": [
            "Successfully registered model 'multilayer-perceptron-model'.\n",
            "2023/02/25 11:01:25 INFO mlflow.tracking._model_registry.client: Waiting up to 300 seconds for model version to finish creation.                     Model name: multilayer-perceptron-model, version 1\n",
            "Created version '1' of model 'multilayer-perceptron-model'.\n"
          ]
        }
      ]
    },
    {
      "cell_type": "code",
      "source": [
        "print(mlflow.tracking.MlflowClient().get_model_version(\"multilayer-perceptron-model\", '1'))"
      ],
      "metadata": {
        "id": "js2AXmn2LM5V"
      },
      "execution_count": null,
      "outputs": []
    }
  ]
}