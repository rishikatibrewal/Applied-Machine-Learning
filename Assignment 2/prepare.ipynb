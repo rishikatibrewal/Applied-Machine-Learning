{
  "cells": [
    {
      "cell_type": "markdown",
      "metadata": {
        "id": "tK8B_ebJ71NT"
      },
      "source": [
        "# Assignment 2 : SMS Spam Classification\n",
        "# Rishika Tibrewal, MDS202135"
      ]
    },
    {
      "cell_type": "markdown",
      "metadata": {
        "id": "z7899tkOy6vA"
      },
      "source": [
        "## Importing Libraries"
      ]
    },
    {
      "cell_type": "code",
      "execution_count": 67,
      "metadata": {
        "id": "GeizOeKqnAzS"
      },
      "outputs": [],
      "source": [
        "%matplotlib inline\n",
        "import matplotlib.pyplot as plt\n",
        "import pandas as pd\n",
        "import numpy as np\n",
        "\n",
        "from sklearn.model_selection import train_test_split\n",
        "from sklearn.utils import resample"
      ]
    },
    {
      "cell_type": "markdown",
      "metadata": {
        "id": "LEoeWL0cy-qt"
      },
      "source": [
        "## Looking into the Data"
      ]
    },
    {
      "cell_type": "code",
      "execution_count": 68,
      "metadata": {
        "colab": {
          "base_uri": "https://localhost:8080/",
          "height": 206
        },
        "id": "oOfQfwYVoOvO",
        "outputId": "41a65db4-1bc6-4e30-94d9-4461c75de5e7"
      },
      "outputs": [
        {
          "data": {
            "text/html": [
              "<div>\n",
              "<style scoped>\n",
              "    .dataframe tbody tr th:only-of-type {\n",
              "        vertical-align: middle;\n",
              "    }\n",
              "\n",
              "    .dataframe tbody tr th {\n",
              "        vertical-align: top;\n",
              "    }\n",
              "\n",
              "    .dataframe thead th {\n",
              "        text-align: right;\n",
              "    }\n",
              "</style>\n",
              "<table border=\"1\" class=\"dataframe\">\n",
              "  <thead>\n",
              "    <tr style=\"text-align: right;\">\n",
              "      <th></th>\n",
              "      <th>Label</th>\n",
              "      <th>Text</th>\n",
              "    </tr>\n",
              "  </thead>\n",
              "  <tbody>\n",
              "    <tr>\n",
              "      <th>0</th>\n",
              "      <td>ham</td>\n",
              "      <td>Go until jurong point, crazy.. Available only ...</td>\n",
              "    </tr>\n",
              "    <tr>\n",
              "      <th>1</th>\n",
              "      <td>ham</td>\n",
              "      <td>Ok lar... Joking wif u oni...</td>\n",
              "    </tr>\n",
              "    <tr>\n",
              "      <th>2</th>\n",
              "      <td>spam</td>\n",
              "      <td>Free entry in 2 a wkly comp to win FA Cup fina...</td>\n",
              "    </tr>\n",
              "    <tr>\n",
              "      <th>3</th>\n",
              "      <td>ham</td>\n",
              "      <td>U dun say so early hor... U c already then say...</td>\n",
              "    </tr>\n",
              "    <tr>\n",
              "      <th>4</th>\n",
              "      <td>ham</td>\n",
              "      <td>Nah I don't think he goes to usf, he lives aro...</td>\n",
              "    </tr>\n",
              "  </tbody>\n",
              "</table>\n",
              "</div>"
            ],
            "text/plain": [
              "  Label                                               Text\n",
              "0   ham  Go until jurong point, crazy.. Available only ...\n",
              "1   ham                      Ok lar... Joking wif u oni...\n",
              "2  spam  Free entry in 2 a wkly comp to win FA Cup fina...\n",
              "3   ham  U dun say so early hor... U c already then say...\n",
              "4   ham  Nah I don't think he goes to usf, he lives aro..."
            ]
          },
          "execution_count": 68,
          "metadata": {},
          "output_type": "execute_result"
        }
      ],
      "source": [
        "raw_data = pd.read_csv('SMSSpamCollection',sep='\\t',header=None)\n",
        "raw_data.columns=['Label','Text']\n",
        "raw_data.head()"
      ]
    },
    {
      "cell_type": "code",
      "execution_count": 69,
      "metadata": {
        "colab": {
          "base_uri": "https://localhost:8080/"
        },
        "id": "TIQGXnCVv1dy",
        "outputId": "6a35dc98-fc8f-4b65-ca72-82ea6bca2970"
      },
      "outputs": [
        {
          "data": {
            "text/plain": [
              "Label    0\n",
              "Text     0\n",
              "dtype: int64"
            ]
          },
          "execution_count": 69,
          "metadata": {},
          "output_type": "execute_result"
        }
      ],
      "source": [
        "raw_data.isna().sum()"
      ]
    },
    {
      "cell_type": "code",
      "execution_count": 70,
      "metadata": {
        "colab": {
          "base_uri": "https://localhost:8080/",
          "height": 175
        },
        "id": "WxZHXc_7r6Z9",
        "outputId": "0168425a-79b6-4959-b382-af4d345d6661"
      },
      "outputs": [
        {
          "data": {
            "text/html": [
              "<div>\n",
              "<style scoped>\n",
              "    .dataframe tbody tr th:only-of-type {\n",
              "        vertical-align: middle;\n",
              "    }\n",
              "\n",
              "    .dataframe tbody tr th {\n",
              "        vertical-align: top;\n",
              "    }\n",
              "\n",
              "    .dataframe thead tr th {\n",
              "        text-align: left;\n",
              "    }\n",
              "\n",
              "    .dataframe thead tr:last-of-type th {\n",
              "        text-align: right;\n",
              "    }\n",
              "</style>\n",
              "<table border=\"1\" class=\"dataframe\">\n",
              "  <thead>\n",
              "    <tr>\n",
              "      <th></th>\n",
              "      <th colspan=\"4\" halign=\"left\">Text</th>\n",
              "    </tr>\n",
              "    <tr>\n",
              "      <th></th>\n",
              "      <th>count</th>\n",
              "      <th>unique</th>\n",
              "      <th>top</th>\n",
              "      <th>freq</th>\n",
              "    </tr>\n",
              "    <tr>\n",
              "      <th>Label</th>\n",
              "      <th></th>\n",
              "      <th></th>\n",
              "      <th></th>\n",
              "      <th></th>\n",
              "    </tr>\n",
              "  </thead>\n",
              "  <tbody>\n",
              "    <tr>\n",
              "      <th>ham</th>\n",
              "      <td>4825</td>\n",
              "      <td>4516</td>\n",
              "      <td>Sorry, I'll call later</td>\n",
              "      <td>30</td>\n",
              "    </tr>\n",
              "    <tr>\n",
              "      <th>spam</th>\n",
              "      <td>747</td>\n",
              "      <td>653</td>\n",
              "      <td>Please call our customer service representativ...</td>\n",
              "      <td>4</td>\n",
              "    </tr>\n",
              "  </tbody>\n",
              "</table>\n",
              "</div>"
            ],
            "text/plain": [
              "       Text                                                               \n",
              "      count unique                                                top freq\n",
              "Label                                                                     \n",
              "ham    4825   4516                             Sorry, I'll call later   30\n",
              "spam    747    653  Please call our customer service representativ...    4"
            ]
          },
          "execution_count": 70,
          "metadata": {},
          "output_type": "execute_result"
        }
      ],
      "source": [
        "raw_data.groupby('Label').describe()"
      ]
    },
    {
      "cell_type": "markdown",
      "metadata": {
        "id": "QOgD76pr2UtC"
      },
      "source": [
        "Assigning the label 'spam' as 1 and 'ham' as 0"
      ]
    },
    {
      "cell_type": "code",
      "execution_count": 71,
      "metadata": {
        "id": "_T7CKl4v1nBq"
      },
      "outputs": [],
      "source": [
        "raw_data.loc[raw_data.Label == 'spam', 'Label'] = 1\n",
        "raw_data.loc[raw_data.Label == 'ham', 'Label'] = 0"
      ]
    },
    {
      "cell_type": "code",
      "execution_count": 72,
      "metadata": {
        "colab": {
          "base_uri": "https://localhost:8080/",
          "height": 206
        },
        "id": "XNYQsvRI3N6C",
        "outputId": "98f0f3c1-cddb-4ed6-99ed-0ff1eb707be4"
      },
      "outputs": [
        {
          "data": {
            "text/html": [
              "<div>\n",
              "<style scoped>\n",
              "    .dataframe tbody tr th:only-of-type {\n",
              "        vertical-align: middle;\n",
              "    }\n",
              "\n",
              "    .dataframe tbody tr th {\n",
              "        vertical-align: top;\n",
              "    }\n",
              "\n",
              "    .dataframe thead th {\n",
              "        text-align: right;\n",
              "    }\n",
              "</style>\n",
              "<table border=\"1\" class=\"dataframe\">\n",
              "  <thead>\n",
              "    <tr style=\"text-align: right;\">\n",
              "      <th></th>\n",
              "      <th>Label</th>\n",
              "      <th>Text</th>\n",
              "    </tr>\n",
              "  </thead>\n",
              "  <tbody>\n",
              "    <tr>\n",
              "      <th>0</th>\n",
              "      <td>0</td>\n",
              "      <td>Go until jurong point, crazy.. Available only ...</td>\n",
              "    </tr>\n",
              "    <tr>\n",
              "      <th>1</th>\n",
              "      <td>0</td>\n",
              "      <td>Ok lar... Joking wif u oni...</td>\n",
              "    </tr>\n",
              "    <tr>\n",
              "      <th>2</th>\n",
              "      <td>1</td>\n",
              "      <td>Free entry in 2 a wkly comp to win FA Cup fina...</td>\n",
              "    </tr>\n",
              "    <tr>\n",
              "      <th>3</th>\n",
              "      <td>0</td>\n",
              "      <td>U dun say so early hor... U c already then say...</td>\n",
              "    </tr>\n",
              "    <tr>\n",
              "      <th>4</th>\n",
              "      <td>0</td>\n",
              "      <td>Nah I don't think he goes to usf, he lives aro...</td>\n",
              "    </tr>\n",
              "  </tbody>\n",
              "</table>\n",
              "</div>"
            ],
            "text/plain": [
              "  Label                                               Text\n",
              "0     0  Go until jurong point, crazy.. Available only ...\n",
              "1     0                      Ok lar... Joking wif u oni...\n",
              "2     1  Free entry in 2 a wkly comp to win FA Cup fina...\n",
              "3     0  U dun say so early hor... U c already then say...\n",
              "4     0  Nah I don't think he goes to usf, he lives aro..."
            ]
          },
          "execution_count": 72,
          "metadata": {},
          "output_type": "execute_result"
        }
      ],
      "source": [
        "raw_data.head()"
      ]
    },
    {
      "cell_type": "code",
      "execution_count": 73,
      "metadata": {},
      "outputs": [],
      "source": [
        "# spam=raw_data[raw_data[\"Label\"]==1]\n",
        "# ham=raw_data[raw_data[\"Label\"]==0]\n",
        "# spam_resamp=resample(spam,replace=True,n_samples=4825)"
      ]
    },
    {
      "cell_type": "code",
      "execution_count": 74,
      "metadata": {},
      "outputs": [],
      "source": [
        "# merged=pd.concat([spam_resamp,ham])"
      ]
    },
    {
      "cell_type": "code",
      "execution_count": 75,
      "metadata": {},
      "outputs": [],
      "source": [
        "# merged[\"Label\"].value_counts()"
      ]
    },
    {
      "cell_type": "markdown",
      "metadata": {
        "id": "bT9cPFh37jYC"
      },
      "source": [
        "## Splitting data into Training, Validation and Test Set and saving them as csv"
      ]
    },
    {
      "cell_type": "code",
      "execution_count": 76,
      "metadata": {
        "id": "UjjPaW9c4C9e"
      },
      "outputs": [],
      "source": [
        "X_train, X_test, y_train, y_test = train_test_split(raw_data.Text, raw_data['Label'], test_size=0.15, random_state=101)\n",
        "X_train, X_val, y_train, y_val = train_test_split(X_train, y_train, test_size=0.15, random_state=101)"
      ]
    },
    {
      "cell_type": "code",
      "execution_count": 77,
      "metadata": {},
      "outputs": [
        {
          "name": "stdout",
          "output_type": "stream",
          "text": [
            "Train set - number of 0s: 3479 number of 1s: 546\n",
            "Validation set - number of 0s: 614 number of 1s: 97\n",
            "Test set - number of 0s: 732 number of 1s: 104\n"
          ]
        }
      ],
      "source": [
        "## checking the data profile with seed 101\n",
        "print(\"Train set - number of 0s:\", sum(y_train == 0), \"number of 1s:\", sum(y_train == 1))\n",
        "print(\"Validation set - number of 0s:\", sum(y_val == 0), \"number of 1s:\", sum(y_val== 1))\n",
        "print(\"Test set - number of 0s:\", sum(y_test== 0), \"number of 1s:\", sum(y_test== 1))"
      ]
    },
    {
      "cell_type": "code",
      "execution_count": 78,
      "metadata": {
        "id": "C_zmtDkL5WqB"
      },
      "outputs": [],
      "source": [
        "df_train = pd.DataFrame(list(zip(X_train,y_train)),columns=[\"Text\",'Label'])\n",
        "df_test = pd.DataFrame(list(zip(X_test,y_test)),columns=[\"Text\",'Label'])\n",
        "df_val = pd.DataFrame(list(zip(X_val,y_val)),columns=[\"Text\",'Label'])\n",
        "df_val.to_csv('Data/Validation Data.csv',index=False) \n",
        "df_test.to_csv('Data/Test Data.csv',index=False) \n",
        "df_train.to_csv('Data/Training Data.csv',index=False) "
      ]
    },
    {
      "cell_type": "markdown",
      "metadata": {
        "id": "2_7d4WQX_Q7C"
      },
      "source": [
        "## Working with Git and DVC to track data"
      ]
    },
    {
      "cell_type": "code",
      "execution_count": 80,
      "metadata": {
        "colab": {
          "base_uri": "https://localhost:8080/"
        },
        "id": "OE38_4J_5tkH",
        "outputId": "36caada0-e5c5-4917-b591-8d2e5731f22c"
      },
      "outputs": [],
      "source": [
        "# ! pip install dvc\n",
        "# ! git init\n",
        "# ! dvc init"
      ]
    },
    {
      "cell_type": "code",
      "execution_count": 82,
      "metadata": {
        "colab": {
          "base_uri": "https://localhost:8080/"
        },
        "id": "02m0Urz35_1T",
        "outputId": "608ba672-b5b2-4f51-a967-561d62c8e80f"
      },
      "outputs": [],
      "source": [
        "# ! dvc add Data\n",
        "# ! git add Data.dvc\n",
        "# ! git commit -m \"Tracking Data\""
      ]
    },
    {
      "cell_type": "code",
      "execution_count": 84,
      "metadata": {},
      "outputs": [],
      "source": [
        "# ! dvc add remote -d storage gdrive://1-9G8HfilVIzrB_IjX_23lVsRAkH_eX9q\n",
        "# ! dvc push"
      ]
    },
    {
      "cell_type": "markdown",
      "metadata": {
        "id": "r0DZQSJY5fUA"
      },
      "source": [
        "### Splitting the data into three parts again"
      ]
    },
    {
      "cell_type": "code",
      "execution_count": 85,
      "metadata": {
        "id": "C4tGEyga5LRH"
      },
      "outputs": [],
      "source": [
        "X_train, X_test, y_train, y_test = train_test_split(raw_data.Text, raw_data['Label'], test_size=0.15, random_state=42)\n",
        "X_train, X_val, y_train, y_val = train_test_split(X_train, y_train, test_size=0.15, random_state=42)"
      ]
    },
    {
      "cell_type": "code",
      "execution_count": 86,
      "metadata": {},
      "outputs": [
        {
          "name": "stdout",
          "output_type": "stream",
          "text": [
            "Train set - number of 0s: 3471 number of 1s: 554\n",
            "Validation set - number of 0s: 625 number of 1s: 86\n",
            "Test set - number of 0s: 729 number of 1s: 107\n"
          ]
        }
      ],
      "source": [
        "## checking the data profile with seed 42\n",
        "print(\"Train set - number of 0s:\", sum(y_train == 0), \"number of 1s:\", sum(y_train == 1))\n",
        "print(\"Validation set - number of 0s:\", sum(y_val == 0), \"number of 1s:\", sum(y_val== 1))\n",
        "print(\"Test set - number of 0s:\", sum(y_test== 0), \"number of 1s:\", sum(y_test== 1))"
      ]
    },
    {
      "cell_type": "code",
      "execution_count": 87,
      "metadata": {},
      "outputs": [],
      "source": [
        "df_train = pd.DataFrame(list(zip(X_train,y_train)),columns=[\"Text\",'Label'])\n",
        "df_test = pd.DataFrame(list(zip(X_test,y_test)),columns=[\"Text\",'Label'])\n",
        "df_val = pd.DataFrame(list(zip(X_val,y_val)),columns=[\"Text\",'Label'])\n",
        "df_val.to_csv('Data/Validation Data.csv',index=False) \n",
        "df_test.to_csv('Data/Test Data.csv',index=False) \n",
        "df_train.to_csv('Data/Training Data.csv',index=False) "
      ]
    },
    {
      "cell_type": "code",
      "execution_count": 89,
      "metadata": {},
      "outputs": [],
      "source": [
        "# ! dvc add Data\n",
        "# ! git add Data.dvc\n",
        "# ! git commit -m \"Seed Changes\"\n",
        "# ! dvc push"
      ]
    },
    {
      "cell_type": "code",
      "execution_count": 90,
      "metadata": {},
      "outputs": [
        {
          "name": "stdout",
          "output_type": "stream",
          "text": [
            "cc8e56a Seed Changes\n",
            "4613939 Tracking Data\n",
            "74b7945 Tracking Data\n"
          ]
        }
      ],
      "source": [
        "# ! git log --oneline"
      ]
    },
    {
      "attachments": {},
      "cell_type": "markdown",
      "metadata": {},
      "source": [
        "Getting the first version i.e, seed 101"
      ]
    },
    {
      "cell_type": "code",
      "execution_count": 91,
      "metadata": {},
      "outputs": [
        {
          "name": "stderr",
          "output_type": "stream",
          "text": [
            "error: pathspec 'HEAD1' did not match any file(s) known to git\n"
          ]
        }
      ],
      "source": [
        "# ! git checkout HEAD^1 Data.dvc      \n",
        "# ! dvc checkout                                                      "
      ]
    },
    {
      "cell_type": "code",
      "execution_count": 92,
      "metadata": {},
      "outputs": [],
      "source": [
        "train = pd.read_csv('Data/Training Data.csv')\n",
        "val = pd.read_csv('Data/Validation Data.csv')\n",
        "test = pd.read_csv('Data/Test Data.csv')"
      ]
    },
    {
      "cell_type": "code",
      "execution_count": 93,
      "metadata": {
        "colab": {
          "base_uri": "https://localhost:8080/"
        },
        "id": "3HEO9zxf75Qm",
        "outputId": "c0031ee9-6e89-4ab3-cf6e-396aeaf54b13"
      },
      "outputs": [
        {
          "name": "stdout",
          "output_type": "stream",
          "text": [
            "Train set - number of 0s: 3471 number of 1s: 554\n",
            "Validation set - number of 0s: 625 number of 1s: 86\n",
            "Test set - number of 0s: 729 number of 1s: 107\n"
          ]
        }
      ],
      "source": [
        "## checking the data profile before update\n",
        "print(\"Train set - number of 0s:\", sum(train['Label'] == 0), \"number of 1s:\", sum(train['Label'] == 1))\n",
        "print(\"Validation set - number of 0s:\", sum(val['Label'] == 0), \"number of 1s:\", sum(val['Label'] == 1))\n",
        "print(\"Test set - number of 0s:\", sum(test['Label'] == 0), \"number of 1s:\", sum(test['Label'] == 1))"
      ]
    },
    {
      "attachments": {},
      "cell_type": "markdown",
      "metadata": {},
      "source": [
        "Getting the second version i.e, seed 42"
      ]
    },
    {
      "cell_type": "code",
      "execution_count": 94,
      "metadata": {},
      "outputs": [
        {
          "name": "stderr",
          "output_type": "stream",
          "text": [
            "Updated 0 paths from 8d0c209\n"
          ]
        }
      ],
      "source": [
        "# ! git checkout HEAD Data.dvc      \n",
        "# ! dvc checkout                                                      "
      ]
    },
    {
      "cell_type": "code",
      "execution_count": 95,
      "metadata": {
        "id": "H83lRi00LQ8c"
      },
      "outputs": [],
      "source": [
        "train = pd.read_csv('Data/Training Data.csv')\n",
        "val = pd.read_csv('Data/Validation Data.csv')\n",
        "test = pd.read_csv('Data/Test Data.csv')"
      ]
    },
    {
      "cell_type": "code",
      "execution_count": 96,
      "metadata": {},
      "outputs": [
        {
          "name": "stdout",
          "output_type": "stream",
          "text": [
            "Train set - number of 0s: 3471 number of 1s: 554\n",
            "Validation set - number of 0s: 625 number of 1s: 86\n",
            "Test set - number of 0s: 729 number of 1s: 107\n"
          ]
        }
      ],
      "source": [
        "## checking the data profile before update\n",
        "print(\"Train set - number of 0s:\", sum(train['Label'] == 0), \"number of 1s:\", sum(train['Label'] == 1))\n",
        "print(\"Validation set - number of 0s:\", sum(val['Label'] == 0), \"number of 1s:\", sum(val['Label'] == 1))\n",
        "print(\"Test set - number of 0s:\", sum(test['Label'] == 0), \"number of 1s:\", sum(test['Label'] == 1))"
      ]
    }
  ],
  "metadata": {
    "colab": {
      "provenance": []
    },
    "kernelspec": {
      "display_name": "base",
      "language": "python",
      "name": "python3"
    },
    "language_info": {
      "codemirror_mode": {
        "name": "ipython",
        "version": 3
      },
      "file_extension": ".py",
      "mimetype": "text/x-python",
      "name": "python",
      "nbconvert_exporter": "python",
      "pygments_lexer": "ipython3",
      "version": "3.9.13"
    },
    "vscode": {
      "interpreter": {
        "hash": "ece77b0843db71273538cad857e71b598e540eebce8583a3625d9bb208bd9e1f"
      }
    }
  },
  "nbformat": 4,
  "nbformat_minor": 0
}
