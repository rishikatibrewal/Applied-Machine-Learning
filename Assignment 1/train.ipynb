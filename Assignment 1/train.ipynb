{
  "cells": [
    {
      "cell_type": "markdown",
      "metadata": {
        "id": "7E6irwvNwfYq"
      },
      "source": [
        "# Assignment 1 : SMS Spam Classification\n",
        "# Rishika Tibrewal, MDS202135"
      ]
    },
    {
      "cell_type": "markdown",
      "metadata": {
        "id": "BnM_abBAwarO"
      },
      "source": [
        "## Importing Libraries"
      ]
    },
    {
      "cell_type": "code",
      "execution_count": 39,
      "metadata": {
        "id": "l4b3EZxi6W2l"
      },
      "outputs": [],
      "source": [
        "%matplotlib inline\n",
        "import matplotlib.pyplot as plt\n",
        "import pandas as pd\n",
        "import numpy as np\n",
        "\n",
        "from sentence_transformers import SentenceTransformer\n",
        "model = SentenceTransformer('all-MiniLM-L6-v2')\n",
        "from sklearn.linear_model import LogisticRegression\n",
        "from sklearn.svm import SVC\n",
        "from sklearn.metrics import classification_report,confusion_matrix,accuracy_score,ConfusionMatrixDisplay\n",
        "from sklearn.neural_network import MLPClassifier\n",
        "from sklearn.linear_model import LogisticRegression"
      ]
    },
    {
      "cell_type": "markdown",
      "metadata": {
        "id": "iU4OeFANwmws"
      },
      "source": [
        "## Loading training, validation, test data"
      ]
    },
    {
      "cell_type": "code",
      "execution_count": 5,
      "metadata": {
        "id": "D2YgvPlXqCij"
      },
      "outputs": [],
      "source": [
        "train=pd.read_csv(\"Training Data.csv\")\n",
        "val=pd.read_csv(\"Validation Data.csv\")\n",
        "test=pd.read_csv(\"Test Data.csv\")"
      ]
    },
    {
      "cell_type": "code",
      "execution_count": 6,
      "metadata": {
        "colab": {
          "base_uri": "https://localhost:8080/",
          "height": 206
        },
        "id": "vruRCffoqTI5",
        "outputId": "309d1b51-1fff-4e07-8990-d59f9f70e757"
      },
      "outputs": [
        {
          "data": {
            "text/html": [
              "<div>\n",
              "<style scoped>\n",
              "    .dataframe tbody tr th:only-of-type {\n",
              "        vertical-align: middle;\n",
              "    }\n",
              "\n",
              "    .dataframe tbody tr th {\n",
              "        vertical-align: top;\n",
              "    }\n",
              "\n",
              "    .dataframe thead th {\n",
              "        text-align: right;\n",
              "    }\n",
              "</style>\n",
              "<table border=\"1\" class=\"dataframe\">\n",
              "  <thead>\n",
              "    <tr style=\"text-align: right;\">\n",
              "      <th></th>\n",
              "      <th>Message</th>\n",
              "      <th>Label</th>\n",
              "    </tr>\n",
              "  </thead>\n",
              "  <tbody>\n",
              "    <tr>\n",
              "      <th>0</th>\n",
              "      <td>send yetty number pls</td>\n",
              "      <td>0</td>\n",
              "    </tr>\n",
              "    <tr>\n",
              "      <th>1</th>\n",
              "      <td>1 000 cash 2 000 prize claim call09050000327</td>\n",
              "      <td>1</td>\n",
              "    </tr>\n",
              "    <tr>\n",
              "      <th>2</th>\n",
              "      <td>hey babe going ever figure going new year</td>\n",
              "      <td>0</td>\n",
              "    </tr>\n",
              "    <tr>\n",
              "      <th>3</th>\n",
              "      <td>let use next week princess</td>\n",
              "      <td>0</td>\n",
              "    </tr>\n",
              "    <tr>\n",
              "      <th>4</th>\n",
              "      <td>nice talking please dont forget pix want see</td>\n",
              "      <td>0</td>\n",
              "    </tr>\n",
              "  </tbody>\n",
              "</table>\n",
              "</div>"
            ],
            "text/plain": [
              "                                        Message  Label\n",
              "0                         send yetty number pls      0\n",
              "1  1 000 cash 2 000 prize claim call09050000327      1\n",
              "2     hey babe going ever figure going new year      0\n",
              "3                    let use next week princess      0\n",
              "4  nice talking please dont forget pix want see      0"
            ]
          },
          "execution_count": 6,
          "metadata": {},
          "output_type": "execute_result"
        }
      ],
      "source": [
        "train.head()"
      ]
    },
    {
      "cell_type": "code",
      "execution_count": 7,
      "metadata": {
        "colab": {
          "base_uri": "https://localhost:8080/",
          "height": 206
        },
        "id": "NPIZekE0qVUS",
        "outputId": "c3125aa3-8b83-45f7-d61a-f5589828479f"
      },
      "outputs": [
        {
          "data": {
            "text/html": [
              "<div>\n",
              "<style scoped>\n",
              "    .dataframe tbody tr th:only-of-type {\n",
              "        vertical-align: middle;\n",
              "    }\n",
              "\n",
              "    .dataframe tbody tr th {\n",
              "        vertical-align: top;\n",
              "    }\n",
              "\n",
              "    .dataframe thead th {\n",
              "        text-align: right;\n",
              "    }\n",
              "</style>\n",
              "<table border=\"1\" class=\"dataframe\">\n",
              "  <thead>\n",
              "    <tr style=\"text-align: right;\">\n",
              "      <th></th>\n",
              "      <th>Message</th>\n",
              "      <th>Label</th>\n",
              "    </tr>\n",
              "  </thead>\n",
              "  <tbody>\n",
              "    <tr>\n",
              "      <th>0</th>\n",
              "      <td>da happy sit together na</td>\n",
              "      <td>0</td>\n",
              "    </tr>\n",
              "    <tr>\n",
              "      <th>1</th>\n",
              "      <td>2nd attempt contract u week top prize either 1...</td>\n",
              "      <td>1</td>\n",
              "    </tr>\n",
              "    <tr>\n",
              "      <th>2</th>\n",
              "      <td>text carlos let know hang</td>\n",
              "      <td>0</td>\n",
              "    </tr>\n",
              "    <tr>\n",
              "      <th>3</th>\n",
              "      <td>shant disturb u anymore jia</td>\n",
              "      <td>0</td>\n",
              "    </tr>\n",
              "    <tr>\n",
              "      <th>4</th>\n",
              "      <td>hello u u 2 u b moving flat co need arrange pi...</td>\n",
              "      <td>0</td>\n",
              "    </tr>\n",
              "  </tbody>\n",
              "</table>\n",
              "</div>"
            ],
            "text/plain": [
              "                                             Message  Label\n",
              "0                           da happy sit together na      0\n",
              "1  2nd attempt contract u week top prize either 1...      1\n",
              "2                          text carlos let know hang      0\n",
              "3                        shant disturb u anymore jia      0\n",
              "4  hello u u 2 u b moving flat co need arrange pi...      0"
            ]
          },
          "execution_count": 7,
          "metadata": {},
          "output_type": "execute_result"
        }
      ],
      "source": [
        "val.head()"
      ]
    },
    {
      "cell_type": "code",
      "execution_count": 8,
      "metadata": {
        "colab": {
          "base_uri": "https://localhost:8080/",
          "height": 206
        },
        "id": "70O7Zmn9qWko",
        "outputId": "03b5d2f8-834e-45a8-b80c-7fef204d2305"
      },
      "outputs": [
        {
          "data": {
            "text/html": [
              "<div>\n",
              "<style scoped>\n",
              "    .dataframe tbody tr th:only-of-type {\n",
              "        vertical-align: middle;\n",
              "    }\n",
              "\n",
              "    .dataframe tbody tr th {\n",
              "        vertical-align: top;\n",
              "    }\n",
              "\n",
              "    .dataframe thead th {\n",
              "        text-align: right;\n",
              "    }\n",
              "</style>\n",
              "<table border=\"1\" class=\"dataframe\">\n",
              "  <thead>\n",
              "    <tr style=\"text-align: right;\">\n",
              "      <th></th>\n",
              "      <th>Message</th>\n",
              "      <th>Label</th>\n",
              "    </tr>\n",
              "  </thead>\n",
              "  <tbody>\n",
              "    <tr>\n",
              "      <th>0</th>\n",
              "      <td>watching tv lor funny bluff 4 wat izzit thk im...</td>\n",
              "      <td>0</td>\n",
              "    </tr>\n",
              "    <tr>\n",
              "      <th>1</th>\n",
              "      <td>well done 4 costa del sol holiday 5000 await c...</td>\n",
              "      <td>1</td>\n",
              "    </tr>\n",
              "    <tr>\n",
              "      <th>2</th>\n",
              "      <td>sm ac sptv new jersey devil detroit red wing p...</td>\n",
              "      <td>1</td>\n",
              "    </tr>\n",
              "    <tr>\n",
              "      <th>3</th>\n",
              "      <td>love working home</td>\n",
              "      <td>0</td>\n",
              "    </tr>\n",
              "    <tr>\n",
              "      <th>4</th>\n",
              "      <td>get ready put excellent sub face</td>\n",
              "      <td>0</td>\n",
              "    </tr>\n",
              "  </tbody>\n",
              "</table>\n",
              "</div>"
            ],
            "text/plain": [
              "                                             Message  Label\n",
              "0  watching tv lor funny bluff 4 wat izzit thk im...      0\n",
              "1  well done 4 costa del sol holiday 5000 await c...      1\n",
              "2  sm ac sptv new jersey devil detroit red wing p...      1\n",
              "3                                  love working home      0\n",
              "4                   get ready put excellent sub face      0"
            ]
          },
          "execution_count": 8,
          "metadata": {},
          "output_type": "execute_result"
        }
      ],
      "source": [
        "test.head()"
      ]
    },
    {
      "cell_type": "code",
      "execution_count": 9,
      "metadata": {
        "id": "T3GwBPTCq9Mh"
      },
      "outputs": [],
      "source": [
        "y_train,X_train=train[\"Label\"],train[\"Message\"]\n",
        "y_val,X_val=val[\"Label\"],val[\"Message\"]\n",
        "y_test,X_test=test[\"Label\"],test[\"Message\"]"
      ]
    },
    {
      "cell_type": "markdown",
      "metadata": {
        "id": "4ioyO-p5w0_V"
      },
      "source": [
        "## Converting string to vectors, to give as input to the models"
      ]
    },
    {
      "cell_type": "code",
      "execution_count": 10,
      "metadata": {
        "id": "Po9sk9V9uyhD"
      },
      "outputs": [],
      "source": [
        "# replacing NAN entries by empty string\n",
        "X_train = X_train.replace(np.nan, '', regex=True)\n",
        "X_val = X_val.replace(np.nan, '', regex=True)\n",
        "X_test = X_test.replace(np.nan, '', regex=True)"
      ]
    },
    {
      "cell_type": "code",
      "execution_count": 11,
      "metadata": {},
      "outputs": [],
      "source": [
        "train_emb=model.encode(X_train)\n",
        "val_emb=model.encode(X_val)\n",
        "test_emb=model.encode(X_test)"
      ]
    },
    {
      "cell_type": "code",
      "execution_count": 12,
      "metadata": {
        "colab": {
          "base_uri": "https://localhost:8080/"
        },
        "id": "wemn-yWV6KUp",
        "outputId": "c3472301-5f5f-46cb-d679-de6b4ca5a993"
      },
      "outputs": [
        {
          "data": {
            "text/plain": [
              "((4025, 384), (711, 384), (836, 384))"
            ]
          },
          "execution_count": 12,
          "metadata": {},
          "output_type": "execute_result"
        }
      ],
      "source": [
        "train_emb.shape,val_emb.shape,test_emb.shape"
      ]
    },
    {
      "cell_type": "markdown",
      "metadata": {
        "id": "4vX-z4Xkw7QU"
      },
      "source": [
        "## Training Models"
      ]
    },
    {
      "attachments": {},
      "cell_type": "markdown",
      "metadata": {
        "id": "p9xaUpipy9Yq"
      },
      "source": [
        "# Logistic Regression"
      ]
    },
    {
      "cell_type": "code",
      "execution_count": 17,
      "metadata": {
        "colab": {
          "base_uri": "https://localhost:8080/"
        },
        "id": "sQUHbDFM6Ls7",
        "outputId": "d2fc26ee-1630-4f11-fd5d-b67f1c7e89e5"
      },
      "outputs": [
        {
          "name": "stdout",
          "output_type": "stream",
          "text": [
            "Accuracy= 98.50931677018635 %\n"
          ]
        }
      ],
      "source": [
        "lr = LogisticRegression()\n",
        "lr.fit(train_emb,y_train)\n",
        "y_pred = lr.predict(train_emb)\n",
        "print(\"Accuracy=\",accuracy_score(y_train, y_pred)*100,\"%\")"
      ]
    },
    {
      "cell_type": "code",
      "execution_count": 30,
      "metadata": {
        "colab": {
          "base_uri": "https://localhost:8080/"
        },
        "id": "G2Zkt6x3Il5u",
        "outputId": "bfed7341-b996-4498-f4f4-f32b024d1c66"
      },
      "outputs": [
        {
          "name": "stderr",
          "output_type": "stream",
          "text": [
            "c:\\Users\\Rishika Tibrewal\\OneDrive\\Desktop\\Applied-Machine-Learning\\myenv\\lib\\site-packages\\scipy\\optimize\\_linesearch.py:306: LineSearchWarning: The line search algorithm did not converge\n",
            "  warn('The line search algorithm did not converge', LineSearchWarning)\n",
            "c:\\Users\\Rishika Tibrewal\\OneDrive\\Desktop\\Applied-Machine-Learning\\myenv\\lib\\site-packages\\sklearn\\utils\\optimize.py:203: UserWarning: Line Search failed\n",
            "  warnings.warn(\"Line Search failed\")\n"
          ]
        },
        {
          "name": "stdout",
          "output_type": "stream",
          "text": [
            "Accuracy= 98.0309423347398 %\n",
            "               precision    recall  f1-score   support\n",
            "\n",
            "           0       0.98      0.99      0.99       614\n",
            "           1       0.96      0.90      0.93        97\n",
            "\n",
            "    accuracy                           0.98       711\n",
            "   macro avg       0.97      0.95      0.96       711\n",
            "weighted avg       0.98      0.98      0.98       711\n",
            "\n",
            "Accuracy= 98.0309423347398 %\n",
            "               precision    recall  f1-score   support\n",
            "\n",
            "           0       0.98      0.99      0.99       614\n",
            "           1       0.96      0.90      0.93        97\n",
            "\n",
            "    accuracy                           0.98       711\n",
            "   macro avg       0.97      0.95      0.96       711\n",
            "weighted avg       0.98      0.98      0.98       711\n",
            "\n",
            "Accuracy= 97.8902953586498 %\n",
            "               precision    recall  f1-score   support\n",
            "\n",
            "           0       0.98      0.99      0.99       614\n",
            "           1       0.95      0.90      0.92        97\n",
            "\n",
            "    accuracy                           0.98       711\n",
            "   macro avg       0.96      0.94      0.95       711\n",
            "weighted avg       0.98      0.98      0.98       711\n",
            "\n",
            "Accuracy= 98.0309423347398 %\n",
            "               precision    recall  f1-score   support\n",
            "\n",
            "           0       0.98      0.99      0.99       614\n",
            "           1       0.96      0.90      0.93        97\n",
            "\n",
            "    accuracy                           0.98       711\n",
            "   macro avg       0.97      0.95      0.96       711\n",
            "weighted avg       0.98      0.98      0.98       711\n",
            "\n",
            "Accuracy= 98.0309423347398 %\n",
            "               precision    recall  f1-score   support\n",
            "\n",
            "           0       0.98      0.99      0.99       614\n",
            "           1       0.96      0.90      0.93        97\n",
            "\n",
            "    accuracy                           0.98       711\n",
            "   macro avg       0.97      0.95      0.96       711\n",
            "weighted avg       0.98      0.98      0.98       711\n",
            "\n"
          ]
        }
      ],
      "source": [
        "sol=['newton-cg', 'lbfgs', 'liblinear', 'sag', 'saga']\n",
        "for j in sol:\n",
        "    lr = LogisticRegression(solver=j).fit(train_emb, y_train)\n",
        "    y_pred = lr.predict(val_emb)\n",
        "    print(\"Accuracy=\",accuracy_score(y_val, y_pred)*100,\"%\\n\", classification_report(y_val, y_pred))"
      ]
    },
    {
      "attachments": {},
      "cell_type": "markdown",
      "metadata": {
        "id": "z3PH1U92J6p7"
      },
      "source": [
        "solver = 'lbfgs' maximises the recall and accuracy"
      ]
    },
    {
      "cell_type": "code",
      "execution_count": 32,
      "metadata": {
        "colab": {
          "base_uri": "https://localhost:8080/"
        },
        "id": "3Vz3xlTwJcVn",
        "outputId": "1afb75f9-9ddf-4129-9ad5-f9fb9cedb239"
      },
      "outputs": [
        {
          "name": "stdout",
          "output_type": "stream",
          "text": [
            "Accuracy= 98.50931677018635 %\n",
            "               precision    recall  f1-score   support\n",
            "\n",
            "           0       0.98      1.00      0.99      3479\n",
            "           1       0.99      0.90      0.94       546\n",
            "\n",
            "    accuracy                           0.99      4025\n",
            "   macro avg       0.99      0.95      0.97      4025\n",
            "weighted avg       0.99      0.99      0.98      4025\n",
            "\n"
          ]
        }
      ],
      "source": [
        "lr = LogisticRegression(solver='lbfgs').fit(train_emb, y_train)\n",
        "y_pred = lr.predict(train_emb)\n",
        "print(\"Accuracy=\",accuracy_score(y_train, y_pred)*100,\"%\\n\", classification_report(y_train, y_pred))"
      ]
    },
    {
      "cell_type": "code",
      "execution_count": 33,
      "metadata": {
        "colab": {
          "base_uri": "https://localhost:8080/"
        },
        "id": "Cyc45-g5Kl7o",
        "outputId": "eb3b0fc3-bf41-4a56-ff3d-b371797ced0e"
      },
      "outputs": [
        {
          "name": "stdout",
          "output_type": "stream",
          "text": [
            "Accuracy= 97.60765550239235 %\n",
            "               precision    recall  f1-score   support\n",
            "\n",
            "           0       0.98      1.00      0.99       732\n",
            "           1       0.97      0.84      0.90       104\n",
            "\n",
            "    accuracy                           0.98       836\n",
            "   macro avg       0.97      0.92      0.94       836\n",
            "weighted avg       0.98      0.98      0.98       836\n",
            "\n"
          ]
        }
      ],
      "source": [
        "y_pred = lr.predict(test_emb)\n",
        "print(\"Accuracy=\",accuracy_score(y_test, y_pred)*100,\"%\\n\", classification_report(y_test, y_pred))"
      ]
    },
    {
      "cell_type": "code",
      "execution_count": 42,
      "metadata": {
        "colab": {
          "base_uri": "https://localhost:8080/",
          "height": 351
        },
        "id": "CUP1wWw96Pdg",
        "outputId": "3c2dc7b7-db8b-4e45-cf60-b32308f66524"
      },
      "outputs": [
        {
          "data": {
            "text/plain": [
              "<sklearn.metrics._plot.confusion_matrix.ConfusionMatrixDisplay at 0x24c09496cb0>"
            ]
          },
          "execution_count": 42,
          "metadata": {},
          "output_type": "execute_result"
        },
        {
          "data": {
            "image/png": "[encoded data removed]",
            "text/plain": [
              "<Figure size 640x480 with 2 Axes>"
            ]
          },
          "metadata": {},
          "output_type": "display_data"
        }
      ],
      "source": [
        "cm = confusion_matrix(y_test, y_pred, labels=lr.classes_)\n",
        "disp = ConfusionMatrixDisplay(confusion_matrix=cm, display_labels=lr.classes_)\n",
        "disp.plot()"
      ]
    },
    {
      "cell_type": "markdown",
      "metadata": {
        "id": "hDZnBJ6SCz67"
      },
      "source": [
        "# SVM"
      ]
    },
    {
      "cell_type": "code",
      "execution_count": 43,
      "metadata": {
        "colab": {
          "base_uri": "https://localhost:8080/"
        },
        "id": "Z6No4vMFCOHG",
        "outputId": "8e74a78c-efbf-4116-f970-f34a60c29fe6"
      },
      "outputs": [
        {
          "name": "stdout",
          "output_type": "stream",
          "text": [
            "Accuracy= 99.62732919254658 %\n"
          ]
        }
      ],
      "source": [
        "clf = SVC(C=1)\n",
        "clf.fit(train_emb,y_train)\n",
        "y_pred = clf.predict(train_emb)\n",
        "print(\"Accuracy=\",accuracy_score(y_train, y_pred)*100,\"%\")"
      ]
    },
    {
      "cell_type": "code",
      "execution_count": 44,
      "metadata": {
        "colab": {
          "base_uri": "https://localhost:8080/"
        },
        "id": "pu7qFnuqLwlY",
        "outputId": "fc4f15d0-eb8a-45b3-b3a2-0c8e65e530e2"
      },
      "outputs": [
        {
          "name": "stdout",
          "output_type": "stream",
          "text": [
            "Accuracy= 98.59353023909986 %\n",
            "               precision    recall  f1-score   support\n",
            "\n",
            "           0       0.99      1.00      0.99       614\n",
            "           1       0.99      0.91      0.95        97\n",
            "\n",
            "    accuracy                           0.99       711\n",
            "   macro avg       0.99      0.95      0.97       711\n",
            "weighted avg       0.99      0.99      0.99       711\n",
            "\n",
            "Accuracy= 98.73417721518987 %\n",
            "               precision    recall  f1-score   support\n",
            "\n",
            "           0       0.99      1.00      0.99       614\n",
            "           1       0.97      0.94      0.95        97\n",
            "\n",
            "    accuracy                           0.99       711\n",
            "   macro avg       0.98      0.97      0.97       711\n",
            "weighted avg       0.99      0.99      0.99       711\n",
            "\n",
            "Accuracy= 98.73417721518987 %\n",
            "               precision    recall  f1-score   support\n",
            "\n",
            "           0       0.99      1.00      0.99       614\n",
            "           1       0.97      0.94      0.95        97\n",
            "\n",
            "    accuracy                           0.99       711\n",
            "   macro avg       0.98      0.97      0.97       711\n",
            "weighted avg       0.99      0.99      0.99       711\n",
            "\n",
            "Accuracy= 98.73417721518987 %\n",
            "               precision    recall  f1-score   support\n",
            "\n",
            "           0       0.99      1.00      0.99       614\n",
            "           1       0.97      0.94      0.95        97\n",
            "\n",
            "    accuracy                           0.99       711\n",
            "   macro avg       0.98      0.97      0.97       711\n",
            "weighted avg       0.99      0.99      0.99       711\n",
            "\n",
            "Accuracy= 98.73417721518987 %\n",
            "               precision    recall  f1-score   support\n",
            "\n",
            "           0       0.99      1.00      0.99       614\n",
            "           1       0.97      0.94      0.95        97\n",
            "\n",
            "    accuracy                           0.99       711\n",
            "   macro avg       0.98      0.97      0.97       711\n",
            "weighted avg       0.99      0.99      0.99       711\n",
            "\n",
            "Accuracy= 98.73417721518987 %\n",
            "               precision    recall  f1-score   support\n",
            "\n",
            "           0       0.99      1.00      0.99       614\n",
            "           1       0.97      0.94      0.95        97\n",
            "\n",
            "    accuracy                           0.99       711\n",
            "   macro avg       0.98      0.97      0.97       711\n",
            "weighted avg       0.99      0.99      0.99       711\n",
            "\n",
            "Accuracy= 98.73417721518987 %\n",
            "               precision    recall  f1-score   support\n",
            "\n",
            "           0       0.99      1.00      0.99       614\n",
            "           1       0.97      0.94      0.95        97\n",
            "\n",
            "    accuracy                           0.99       711\n",
            "   macro avg       0.98      0.97      0.97       711\n",
            "weighted avg       0.99      0.99      0.99       711\n",
            "\n",
            "Accuracy= 98.73417721518987 %\n",
            "               precision    recall  f1-score   support\n",
            "\n",
            "           0       0.99      1.00      0.99       614\n",
            "           1       0.97      0.94      0.95        97\n",
            "\n",
            "    accuracy                           0.99       711\n",
            "   macro avg       0.98      0.97      0.97       711\n",
            "weighted avg       0.99      0.99      0.99       711\n",
            "\n",
            "Accuracy= 98.73417721518987 %\n",
            "               precision    recall  f1-score   support\n",
            "\n",
            "           0       0.99      1.00      0.99       614\n",
            "           1       0.97      0.94      0.95        97\n",
            "\n",
            "    accuracy                           0.99       711\n",
            "   macro avg       0.98      0.97      0.97       711\n",
            "weighted avg       0.99      0.99      0.99       711\n",
            "\n",
            "Accuracy= 98.73417721518987 %\n",
            "               precision    recall  f1-score   support\n",
            "\n",
            "           0       0.99      1.00      0.99       614\n",
            "           1       0.97      0.94      0.95        97\n",
            "\n",
            "    accuracy                           0.99       711\n",
            "   macro avg       0.98      0.97      0.97       711\n",
            "weighted avg       0.99      0.99      0.99       711\n",
            "\n",
            "Accuracy= 98.73417721518987 %\n",
            "               precision    recall  f1-score   support\n",
            "\n",
            "           0       0.99      1.00      0.99       614\n",
            "           1       0.97      0.94      0.95        97\n",
            "\n",
            "    accuracy                           0.99       711\n",
            "   macro avg       0.98      0.97      0.97       711\n",
            "weighted avg       0.99      0.99      0.99       711\n",
            "\n",
            "Accuracy= 98.73417721518987 %\n",
            "               precision    recall  f1-score   support\n",
            "\n",
            "           0       0.99      1.00      0.99       614\n",
            "           1       0.97      0.94      0.95        97\n",
            "\n",
            "    accuracy                           0.99       711\n",
            "   macro avg       0.98      0.97      0.97       711\n",
            "weighted avg       0.99      0.99      0.99       711\n",
            "\n",
            "Accuracy= 98.73417721518987 %\n",
            "               precision    recall  f1-score   support\n",
            "\n",
            "           0       0.99      1.00      0.99       614\n",
            "           1       0.97      0.94      0.95        97\n",
            "\n",
            "    accuracy                           0.99       711\n",
            "   macro avg       0.98      0.97      0.97       711\n",
            "weighted avg       0.99      0.99      0.99       711\n",
            "\n",
            "Accuracy= 98.73417721518987 %\n",
            "               precision    recall  f1-score   support\n",
            "\n",
            "           0       0.99      1.00      0.99       614\n",
            "           1       0.97      0.94      0.95        97\n",
            "\n",
            "    accuracy                           0.99       711\n",
            "   macro avg       0.98      0.97      0.97       711\n",
            "weighted avg       0.99      0.99      0.99       711\n",
            "\n",
            "Accuracy= 98.73417721518987 %\n",
            "               precision    recall  f1-score   support\n",
            "\n",
            "           0       0.99      1.00      0.99       614\n",
            "           1       0.97      0.94      0.95        97\n",
            "\n",
            "    accuracy                           0.99       711\n",
            "   macro avg       0.98      0.97      0.97       711\n",
            "weighted avg       0.99      0.99      0.99       711\n",
            "\n",
            "Accuracy= 98.73417721518987 %\n",
            "               precision    recall  f1-score   support\n",
            "\n",
            "           0       0.99      1.00      0.99       614\n",
            "           1       0.97      0.94      0.95        97\n",
            "\n",
            "    accuracy                           0.99       711\n",
            "   macro avg       0.98      0.97      0.97       711\n",
            "weighted avg       0.99      0.99      0.99       711\n",
            "\n",
            "Accuracy= 98.73417721518987 %\n",
            "               precision    recall  f1-score   support\n",
            "\n",
            "           0       0.99      1.00      0.99       614\n",
            "           1       0.97      0.94      0.95        97\n",
            "\n",
            "    accuracy                           0.99       711\n",
            "   macro avg       0.98      0.97      0.97       711\n",
            "weighted avg       0.99      0.99      0.99       711\n",
            "\n",
            "Accuracy= 98.73417721518987 %\n",
            "               precision    recall  f1-score   support\n",
            "\n",
            "           0       0.99      1.00      0.99       614\n",
            "           1       0.97      0.94      0.95        97\n",
            "\n",
            "    accuracy                           0.99       711\n",
            "   macro avg       0.98      0.97      0.97       711\n",
            "weighted avg       0.99      0.99      0.99       711\n",
            "\n",
            "Accuracy= 98.73417721518987 %\n",
            "               precision    recall  f1-score   support\n",
            "\n",
            "           0       0.99      1.00      0.99       614\n",
            "           1       0.97      0.94      0.95        97\n",
            "\n",
            "    accuracy                           0.99       711\n",
            "   macro avg       0.98      0.97      0.97       711\n",
            "weighted avg       0.99      0.99      0.99       711\n",
            "\n",
            "Accuracy= 98.73417721518987 %\n",
            "               precision    recall  f1-score   support\n",
            "\n",
            "           0       0.99      1.00      0.99       614\n",
            "           1       0.97      0.94      0.95        97\n",
            "\n",
            "    accuracy                           0.99       711\n",
            "   macro avg       0.98      0.97      0.97       711\n",
            "weighted avg       0.99      0.99      0.99       711\n",
            "\n"
          ]
        }
      ],
      "source": [
        "for i in range(1,2000,100):\n",
        "    clf = SVC(C=i)\n",
        "    clf.fit(train_emb, y_train)\n",
        "    y_pred = clf.predict(val_emb)\n",
        "    print(\"Accuracy=\",accuracy_score(y_val, y_pred)*100,\"%\\n\", classification_report(y_val, y_pred))"
      ]
    },
    {
      "cell_type": "markdown",
      "metadata": {
        "id": "YtfTrE3FNFMu"
      },
      "source": [
        "C=200 maximises recall and accuracy"
      ]
    },
    {
      "cell_type": "code",
      "execution_count": 45,
      "metadata": {
        "colab": {
          "base_uri": "https://localhost:8080/"
        },
        "id": "_XSb8ViMM8vZ",
        "outputId": "ef16ef2f-af49-42b0-c9ee-b8437d392bad"
      },
      "outputs": [
        {
          "name": "stdout",
          "output_type": "stream",
          "text": [
            "Accuracy= 100.0 %\n",
            "               precision    recall  f1-score   support\n",
            "\n",
            "           0       1.00      1.00      1.00      3479\n",
            "           1       1.00      1.00      1.00       546\n",
            "\n",
            "    accuracy                           1.00      4025\n",
            "   macro avg       1.00      1.00      1.00      4025\n",
            "weighted avg       1.00      1.00      1.00      4025\n",
            "\n"
          ]
        }
      ],
      "source": [
        "clf =SVC(C=200).fit(train_emb, y_train)\n",
        "y_pred = clf.predict(train_emb)\n",
        "print(\"Accuracy=\",accuracy_score(y_train, y_pred)*100,\"%\\n\", classification_report(y_train, y_pred))"
      ]
    },
    {
      "cell_type": "code",
      "execution_count": 46,
      "metadata": {
        "colab": {
          "base_uri": "https://localhost:8080/"
        },
        "id": "19Se0XXFNLbV",
        "outputId": "8ad983f2-3562-4652-f3d3-4772f77aae91"
      },
      "outputs": [
        {
          "name": "stdout",
          "output_type": "stream",
          "text": [
            "Accuracy= 98.80382775119617 %\n",
            "               precision    recall  f1-score   support\n",
            "\n",
            "           0       0.99      1.00      0.99       732\n",
            "           1       0.98      0.92      0.95       104\n",
            "\n",
            "    accuracy                           0.99       836\n",
            "   macro avg       0.98      0.96      0.97       836\n",
            "weighted avg       0.99      0.99      0.99       836\n",
            "\n"
          ]
        }
      ],
      "source": [
        "y_pred = clf.predict(test_emb)\n",
        "print(\"Accuracy=\",accuracy_score(y_test, y_pred)*100,\"%\\n\", classification_report(y_test, y_pred))"
      ]
    },
    {
      "cell_type": "code",
      "execution_count": 47,
      "metadata": {
        "colab": {
          "base_uri": "https://localhost:8080/",
          "height": 351
        },
        "id": "eXVH9Ww6NRlR",
        "outputId": "d1b3e146-6ab7-4dd9-b119-3278f8229118"
      },
      "outputs": [
        {
          "data": {
            "text/plain": [
              "<sklearn.metrics._plot.confusion_matrix.ConfusionMatrixDisplay at 0x24c09703b20>"
            ]
          },
          "execution_count": 47,
          "metadata": {},
          "output_type": "execute_result"
        },
        {
          "data": {
            "image/png": "[encoded data removed]",
            "text/plain": [
              "<Figure size 640x480 with 2 Axes>"
            ]
          },
          "metadata": {},
          "output_type": "display_data"
        }
      ],
      "source": [
        "cm = confusion_matrix(y_test, y_pred, labels=clf.classes_)\n",
        "disp = ConfusionMatrixDisplay(confusion_matrix=cm, display_labels=clf.classes_)\n",
        "disp.plot()"
      ]
    },
    {
      "cell_type": "markdown",
      "metadata": {
        "id": "A2V0PJ5KO5fW"
      },
      "source": [
        "# MLP Classifier"
      ]
    },
    {
      "cell_type": "code",
      "execution_count": 48,
      "metadata": {
        "colab": {
          "base_uri": "https://localhost:8080/"
        },
        "id": "jwFCKlO7Pch3",
        "outputId": "f2a2b339-0b62-4fbc-ef08-257eea3196c2"
      },
      "outputs": [
        {
          "name": "stdout",
          "output_type": "stream",
          "text": [
            "100.0 \n",
            "               precision    recall  f1-score   support\n",
            "\n",
            "           0       1.00      1.00      1.00      3479\n",
            "           1       1.00      1.00      1.00       546\n",
            "\n",
            "    accuracy                           1.00      4025\n",
            "   macro avg       1.00      1.00      1.00      4025\n",
            "weighted avg       1.00      1.00      1.00      4025\n",
            "\n"
          ]
        }
      ],
      "source": [
        "mlp=MLPClassifier()\n",
        "mlp.fit(train_emb, y_train)\n",
        "y_pred = mlp.predict(train_emb)\n",
        "print(accuracy_score(y_train, y_pred)*100, '\\n', classification_report(y_train, y_pred))"
      ]
    },
    {
      "cell_type": "code",
      "execution_count": 49,
      "metadata": {
        "colab": {
          "base_uri": "https://localhost:8080/"
        },
        "id": "u6hZcSUXQsDb",
        "outputId": "2ba217d7-210f-4c56-8d47-8eab8956aaf7"
      },
      "outputs": [
        {
          "name": "stdout",
          "output_type": "stream",
          "text": [
            "Accuracy= 98.17158931082982 %\n",
            "               precision    recall  f1-score   support\n",
            "\n",
            "           0       0.99      0.99      0.99       614\n",
            "           1       0.93      0.94      0.93        97\n",
            "\n",
            "    accuracy                           0.98       711\n",
            "   macro avg       0.96      0.96      0.96       711\n",
            "weighted avg       0.98      0.98      0.98       711\n",
            "\n"
          ]
        }
      ],
      "source": [
        "y_pred = mlp.predict(val_emb)\n",
        "print(\"Accuracy=\",accuracy_score(y_val, y_pred)*100,\"%\\n\", classification_report(y_val, y_pred))"
      ]
    },
    {
      "cell_type": "code",
      "execution_count": 50,
      "metadata": {
        "colab": {
          "base_uri": "https://localhost:8080/"
        },
        "id": "DBhlqswTQYvQ",
        "outputId": "701a21b2-a040-4de3-9eb6-f5b3c891a8f0"
      },
      "outputs": [
        {
          "name": "stdout",
          "output_type": "stream",
          "text": [
            "Accuracy= 98.80382775119617 %\n",
            "               precision    recall  f1-score   support\n",
            "\n",
            "           0       0.99      0.99      0.99       732\n",
            "           1       0.96      0.94      0.95       104\n",
            "\n",
            "    accuracy                           0.99       836\n",
            "   macro avg       0.98      0.97      0.97       836\n",
            "weighted avg       0.99      0.99      0.99       836\n",
            "\n"
          ]
        }
      ],
      "source": [
        "y_pred = mlp.predict(test_emb)\n",
        "print(\"Accuracy=\",accuracy_score(y_test, y_pred)*100,\"%\\n\", classification_report(y_test, y_pred))"
      ]
    },
    {
      "cell_type": "code",
      "execution_count": 52,
      "metadata": {
        "colab": {
          "base_uri": "https://localhost:8080/",
          "height": 351
        },
        "id": "zcbjWUVYQa3B",
        "outputId": "9bd8b5fa-ab51-4262-dd2c-cf311c185bc3"
      },
      "outputs": [
        {
          "data": {
            "text/plain": [
              "<sklearn.metrics._plot.confusion_matrix.ConfusionMatrixDisplay at 0x24c0979de70>"
            ]
          },
          "execution_count": 52,
          "metadata": {},
          "output_type": "execute_result"
        },
        {
          "data": {
            "image/png": "[encoded data removed]",
            "text/plain": [
              "<Figure size 640x480 with 2 Axes>"
            ]
          },
          "metadata": {},
          "output_type": "display_data"
        }
      ],
      "source": [
        "cm = confusion_matrix(y_test, y_pred, labels=mlp.classes_)\n",
        "disp = ConfusionMatrixDisplay(confusion_matrix=cm, display_labels=mlp.classes_)\n",
        "disp.plot()"
      ]
    },
    {
      "cell_type": "markdown",
      "metadata": {
        "id": "vRqLT6oM9WF1"
      },
      "source": [
        "Since our aim is to reduce FN, hence increasing recall, MLP classifier suits best, according to accuracy as well as recall criteria."
      ]
    }
  ],
  "metadata": {
    "colab": {
      "provenance": []
    },
    "kernelspec": {
      "display_name": "Python 3",
      "name": "python3"
    },
    "language_info": {
      "codemirror_mode": {
        "name": "ipython",
        "version": 3
      },
      "file_extension": ".py",
      "mimetype": "text/x-python",
      "name": "python",
      "nbconvert_exporter": "python",
      "pygments_lexer": "ipython3",
      "version": "3.10.10"
    }
  },
  "nbformat": 4,
  "nbformat_minor": 0
}
