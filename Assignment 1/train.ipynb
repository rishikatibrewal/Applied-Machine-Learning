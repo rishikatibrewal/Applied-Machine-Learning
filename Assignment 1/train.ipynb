{
  "nbformat": 4,
  "nbformat_minor": 0,
  "metadata": {
    "colab": {
      "provenance": []
    },
    "kernelspec": {
      "name": "python3",
      "display_name": "Python 3"
    },
    "language_info": {
      "name": "python"
    }
  },
  "cells": [
    {
      "cell_type": "markdown",
      "source": [
        "# Assignment 1 : SMS Spam Classification\n",
        "# Rishika Tibrewal, MDS202135"
      ],
      "metadata": {
        "id": "7E6irwvNwfYq"
      }
    },
    {
      "cell_type": "markdown",
      "source": [
        "## Importing Libraries"
      ],
      "metadata": {
        "id": "BnM_abBAwarO"
      }
    },
    {
      "cell_type": "code",
      "source": [
        "%matplotlib inline\n",
        "import matplotlib.pyplot as plt\n",
        "import pandas as pd\n",
        "import numpy as np\n",
        "\n",
        "from sklearn.feature_extraction.text import CountVectorizer,TfidfTransformer\n",
        "from sklearn.naive_bayes import MultinomialNB\n",
        "from sklearn.linear_model import LogisticRegression\n",
        "from sklearn.metrics import plot_confusion_matrix\n",
        "from sklearn.svm import SVC\n",
        "from sklearn.metrics import  classification_report, confusion_matrix,accuracy_score\n",
        "from sklearn.neural_network import MLPClassifier\n",
        "from sklearn.naive_bayes import MultinomialNB"
      ],
      "metadata": {
        "id": "l4b3EZxi6W2l"
      },
      "execution_count": 1,
      "outputs": []
    },
    {
      "cell_type": "markdown",
      "source": [
        "## Loading training, validation, test data"
      ],
      "metadata": {
        "id": "iU4OeFANwmws"
      }
    },
    {
      "cell_type": "code",
      "source": [
        "train=pd.read_csv(\"Training Data.csv\")\n",
        "val=pd.read_csv(\"Validation Data.csv\")\n",
        "test=pd.read_csv(\"Test Data.csv\")"
      ],
      "metadata": {
        "id": "D2YgvPlXqCij"
      },
      "execution_count": 2,
      "outputs": []
    },
    {
      "cell_type": "code",
      "source": [
        "train.head()"
      ],
      "metadata": {
        "colab": {
          "base_uri": "https://localhost:8080/",
          "height": 206
        },
        "id": "vruRCffoqTI5",
        "outputId": "309d1b51-1fff-4e07-8990-d59f9f70e757"
      },
      "execution_count": 3,
      "outputs": [
        {
          "output_type": "execute_result",
          "data": {
            "text/plain": [
              "                                        Message  Label\n",
              "0                         send yetty number pls      0\n",
              "1  1 000 cash 2 000 prize claim call09050000327      1\n",
              "2     hey babe going ever figure going new year      0\n",
              "3                    let use next week princess      0\n",
              "4  nice talking please dont forget pix want see      0"
            ],
            "text/html": [
              "\n",
              "  <div id=\"df-7a337032-15d5-4960-a360-9f4ae269ffc5\">\n",
              "    <div class=\"colab-df-container\">\n",
              "      <div>\n",
              "<style scoped>\n",
              "    .dataframe tbody tr th:only-of-type {\n",
              "        vertical-align: middle;\n",
              "    }\n",
              "\n",
              "    .dataframe tbody tr th {\n",
              "        vertical-align: top;\n",
              "    }\n",
              "\n",
              "    .dataframe thead th {\n",
              "        text-align: right;\n",
              "    }\n",
              "</style>\n",
              "<table border=\"1\" class=\"dataframe\">\n",
              "  <thead>\n",
              "    <tr style=\"text-align: right;\">\n",
              "      <th></th>\n",
              "      <th>Message</th>\n",
              "      <th>Label</th>\n",
              "    </tr>\n",
              "  </thead>\n",
              "  <tbody>\n",
              "    <tr>\n",
              "      <th>0</th>\n",
              "      <td>send yetty number pls</td>\n",
              "      <td>0</td>\n",
              "    </tr>\n",
              "    <tr>\n",
              "      <th>1</th>\n",
              "      <td>1 000 cash 2 000 prize claim call09050000327</td>\n",
              "      <td>1</td>\n",
              "    </tr>\n",
              "    <tr>\n",
              "      <th>2</th>\n",
              "      <td>hey babe going ever figure going new year</td>\n",
              "      <td>0</td>\n",
              "    </tr>\n",
              "    <tr>\n",
              "      <th>3</th>\n",
              "      <td>let use next week princess</td>\n",
              "      <td>0</td>\n",
              "    </tr>\n",
              "    <tr>\n",
              "      <th>4</th>\n",
              "      <td>nice talking please dont forget pix want see</td>\n",
              "      <td>0</td>\n",
              "    </tr>\n",
              "  </tbody>\n",
              "</table>\n",
              "</div>\n",
              "      <button class=\"colab-df-convert\" onclick=\"convertToInteractive('df-7a337032-15d5-4960-a360-9f4ae269ffc5')\"\n",
              "              title=\"Convert this dataframe to an interactive table.\"\n",
              "              style=\"display:none;\">\n",
              "        \n",
              "  <svg xmlns=\"http://www.w3.org/2000/svg\" height=\"24px\"viewBox=\"0 0 24 24\"\n",
              "       width=\"24px\">\n",
              "    <path d=\"M0 0h24v24H0V0z\" fill=\"none\"/>\n",
              "    <path d=\"M18.56 5.44l.94 2.06.94-2.06 2.06-.94-2.06-.94-.94-2.06-.94 2.06-2.06.94zm-11 1L8.5 8.5l.94-2.06 2.06-.94-2.06-.94L8.5 2.5l-.94 2.06-2.06.94zm10 10l.94 2.06.94-2.06 2.06-.94-2.06-.94-.94-2.06-.94 2.06-2.06.94z\"/><path d=\"M17.41 7.96l-1.37-1.37c-.4-.4-.92-.59-1.43-.59-.52 0-1.04.2-1.43.59L10.3 9.45l-7.72 7.72c-.78.78-.78 2.05 0 2.83L4 21.41c.39.39.9.59 1.41.59.51 0 1.02-.2 1.41-.59l7.78-7.78 2.81-2.81c.8-.78.8-2.07 0-2.86zM5.41 20L4 18.59l7.72-7.72 1.47 1.35L5.41 20z\"/>\n",
              "  </svg>\n",
              "      </button>\n",
              "      \n",
              "  <style>\n",
              "    .colab-df-container {\n",
              "      display:flex;\n",
              "      flex-wrap:wrap;\n",
              "      gap: 12px;\n",
              "    }\n",
              "\n",
              "    .colab-df-convert {\n",
              "      background-color: #E8F0FE;\n",
              "      border: none;\n",
              "      border-radius: 50%;\n",
              "      cursor: pointer;\n",
              "      display: none;\n",
              "      fill: #1967D2;\n",
              "      height: 32px;\n",
              "      padding: 0 0 0 0;\n",
              "      width: 32px;\n",
              "    }\n",
              "\n",
              "    .colab-df-convert:hover {\n",
              "      background-color: #E2EBFA;\n",
              "      box-shadow: 0px 1px 2px rgba(60, 64, 67, 0.3), 0px 1px 3px 1px rgba(60, 64, 67, 0.15);\n",
              "      fill: #174EA6;\n",
              "    }\n",
              "\n",
              "    [theme=dark] .colab-df-convert {\n",
              "      background-color: #3B4455;\n",
              "      fill: #D2E3FC;\n",
              "    }\n",
              "\n",
              "    [theme=dark] .colab-df-convert:hover {\n",
              "      background-color: #434B5C;\n",
              "      box-shadow: 0px 1px 3px 1px rgba(0, 0, 0, 0.15);\n",
              "      filter: drop-shadow(0px 1px 2px rgba(0, 0, 0, 0.3));\n",
              "      fill: #FFFFFF;\n",
              "    }\n",
              "  </style>\n",
              "\n",
              "      <script>\n",
              "        const buttonEl =\n",
              "          document.querySelector('#df-7a337032-15d5-4960-a360-9f4ae269ffc5 button.colab-df-convert');\n",
              "        buttonEl.style.display =\n",
              "          google.colab.kernel.accessAllowed ? 'block' : 'none';\n",
              "\n",
              "        async function convertToInteractive(key) {\n",
              "          const element = document.querySelector('#df-7a337032-15d5-4960-a360-9f4ae269ffc5');\n",
              "          const dataTable =\n",
              "            await google.colab.kernel.invokeFunction('convertToInteractive',\n",
              "                                                     [key], {});\n",
              "          if (!dataTable) return;\n",
              "\n",
              "          const docLinkHtml = 'Like what you see? Visit the ' +\n",
              "            '<a target=\"_blank\" href=https://colab.research.google.com/notebooks/data_table.ipynb>data table notebook</a>'\n",
              "            + ' to learn more about interactive tables.';\n",
              "          element.innerHTML = '';\n",
              "          dataTable['output_type'] = 'display_data';\n",
              "          await google.colab.output.renderOutput(dataTable, element);\n",
              "          const docLink = document.createElement('div');\n",
              "          docLink.innerHTML = docLinkHtml;\n",
              "          element.appendChild(docLink);\n",
              "        }\n",
              "      </script>\n",
              "    </div>\n",
              "  </div>\n",
              "  "
            ]
          },
          "metadata": {},
          "execution_count": 3
        }
      ]
    },
    {
      "cell_type": "code",
      "source": [
        "val.head()"
      ],
      "metadata": {
        "colab": {
          "base_uri": "https://localhost:8080/",
          "height": 206
        },
        "id": "NPIZekE0qVUS",
        "outputId": "c3125aa3-8b83-45f7-d61a-f5589828479f"
      },
      "execution_count": 4,
      "outputs": [
        {
          "output_type": "execute_result",
          "data": {
            "text/plain": [
              "                                             Message  Label\n",
              "0                           da happy sit together na      0\n",
              "1  2nd attempt contract u week top prize either 1...      1\n",
              "2                          text carlos let know hang      0\n",
              "3                        shant disturb u anymore jia      0\n",
              "4  hello u u 2 u b moving flat co need arrange pi...      0"
            ],
            "text/html": [
              "\n",
              "  <div id=\"df-46fcec96-627f-4dab-834c-6cc4e1c86b08\">\n",
              "    <div class=\"colab-df-container\">\n",
              "      <div>\n",
              "<style scoped>\n",
              "    .dataframe tbody tr th:only-of-type {\n",
              "        vertical-align: middle;\n",
              "    }\n",
              "\n",
              "    .dataframe tbody tr th {\n",
              "        vertical-align: top;\n",
              "    }\n",
              "\n",
              "    .dataframe thead th {\n",
              "        text-align: right;\n",
              "    }\n",
              "</style>\n",
              "<table border=\"1\" class=\"dataframe\">\n",
              "  <thead>\n",
              "    <tr style=\"text-align: right;\">\n",
              "      <th></th>\n",
              "      <th>Message</th>\n",
              "      <th>Label</th>\n",
              "    </tr>\n",
              "  </thead>\n",
              "  <tbody>\n",
              "    <tr>\n",
              "      <th>0</th>\n",
              "      <td>da happy sit together na</td>\n",
              "      <td>0</td>\n",
              "    </tr>\n",
              "    <tr>\n",
              "      <th>1</th>\n",
              "      <td>2nd attempt contract u week top prize either 1...</td>\n",
              "      <td>1</td>\n",
              "    </tr>\n",
              "    <tr>\n",
              "      <th>2</th>\n",
              "      <td>text carlos let know hang</td>\n",
              "      <td>0</td>\n",
              "    </tr>\n",
              "    <tr>\n",
              "      <th>3</th>\n",
              "      <td>shant disturb u anymore jia</td>\n",
              "      <td>0</td>\n",
              "    </tr>\n",
              "    <tr>\n",
              "      <th>4</th>\n",
              "      <td>hello u u 2 u b moving flat co need arrange pi...</td>\n",
              "      <td>0</td>\n",
              "    </tr>\n",
              "  </tbody>\n",
              "</table>\n",
              "</div>\n",
              "      <button class=\"colab-df-convert\" onclick=\"convertToInteractive('df-46fcec96-627f-4dab-834c-6cc4e1c86b08')\"\n",
              "              title=\"Convert this dataframe to an interactive table.\"\n",
              "              style=\"display:none;\">\n",
              "        \n",
              "  <svg xmlns=\"http://www.w3.org/2000/svg\" height=\"24px\"viewBox=\"0 0 24 24\"\n",
              "       width=\"24px\">\n",
              "    <path d=\"M0 0h24v24H0V0z\" fill=\"none\"/>\n",
              "    <path d=\"M18.56 5.44l.94 2.06.94-2.06 2.06-.94-2.06-.94-.94-2.06-.94 2.06-2.06.94zm-11 1L8.5 8.5l.94-2.06 2.06-.94-2.06-.94L8.5 2.5l-.94 2.06-2.06.94zm10 10l.94 2.06.94-2.06 2.06-.94-2.06-.94-.94-2.06-.94 2.06-2.06.94z\"/><path d=\"M17.41 7.96l-1.37-1.37c-.4-.4-.92-.59-1.43-.59-.52 0-1.04.2-1.43.59L10.3 9.45l-7.72 7.72c-.78.78-.78 2.05 0 2.83L4 21.41c.39.39.9.59 1.41.59.51 0 1.02-.2 1.41-.59l7.78-7.78 2.81-2.81c.8-.78.8-2.07 0-2.86zM5.41 20L4 18.59l7.72-7.72 1.47 1.35L5.41 20z\"/>\n",
              "  </svg>\n",
              "      </button>\n",
              "      \n",
              "  <style>\n",
              "    .colab-df-container {\n",
              "      display:flex;\n",
              "      flex-wrap:wrap;\n",
              "      gap: 12px;\n",
              "    }\n",
              "\n",
              "    .colab-df-convert {\n",
              "      background-color: #E8F0FE;\n",
              "      border: none;\n",
              "      border-radius: 50%;\n",
              "      cursor: pointer;\n",
              "      display: none;\n",
              "      fill: #1967D2;\n",
              "      height: 32px;\n",
              "      padding: 0 0 0 0;\n",
              "      width: 32px;\n",
              "    }\n",
              "\n",
              "    .colab-df-convert:hover {\n",
              "      background-color: #E2EBFA;\n",
              "      box-shadow: 0px 1px 2px rgba(60, 64, 67, 0.3), 0px 1px 3px 1px rgba(60, 64, 67, 0.15);\n",
              "      fill: #174EA6;\n",
              "    }\n",
              "\n",
              "    [theme=dark] .colab-df-convert {\n",
              "      background-color: #3B4455;\n",
              "      fill: #D2E3FC;\n",
              "    }\n",
              "\n",
              "    [theme=dark] .colab-df-convert:hover {\n",
              "      background-color: #434B5C;\n",
              "      box-shadow: 0px 1px 3px 1px rgba(0, 0, 0, 0.15);\n",
              "      filter: drop-shadow(0px 1px 2px rgba(0, 0, 0, 0.3));\n",
              "      fill: #FFFFFF;\n",
              "    }\n",
              "  </style>\n",
              "\n",
              "      <script>\n",
              "        const buttonEl =\n",
              "          document.querySelector('#df-46fcec96-627f-4dab-834c-6cc4e1c86b08 button.colab-df-convert');\n",
              "        buttonEl.style.display =\n",
              "          google.colab.kernel.accessAllowed ? 'block' : 'none';\n",
              "\n",
              "        async function convertToInteractive(key) {\n",
              "          const element = document.querySelector('#df-46fcec96-627f-4dab-834c-6cc4e1c86b08');\n",
              "          const dataTable =\n",
              "            await google.colab.kernel.invokeFunction('convertToInteractive',\n",
              "                                                     [key], {});\n",
              "          if (!dataTable) return;\n",
              "\n",
              "          const docLinkHtml = 'Like what you see? Visit the ' +\n",
              "            '<a target=\"_blank\" href=https://colab.research.google.com/notebooks/data_table.ipynb>data table notebook</a>'\n",
              "            + ' to learn more about interactive tables.';\n",
              "          element.innerHTML = '';\n",
              "          dataTable['output_type'] = 'display_data';\n",
              "          await google.colab.output.renderOutput(dataTable, element);\n",
              "          const docLink = document.createElement('div');\n",
              "          docLink.innerHTML = docLinkHtml;\n",
              "          element.appendChild(docLink);\n",
              "        }\n",
              "      </script>\n",
              "    </div>\n",
              "  </div>\n",
              "  "
            ]
          },
          "metadata": {},
          "execution_count": 4
        }
      ]
    },
    {
      "cell_type": "code",
      "source": [
        "test.head()"
      ],
      "metadata": {
        "colab": {
          "base_uri": "https://localhost:8080/",
          "height": 206
        },
        "id": "70O7Zmn9qWko",
        "outputId": "03b5d2f8-834e-45a8-b80c-7fef204d2305"
      },
      "execution_count": 5,
      "outputs": [
        {
          "output_type": "execute_result",
          "data": {
            "text/plain": [
              "                                             Message  Label\n",
              "0  watching tv lor funny bluff 4 wat izzit thk im...      0\n",
              "1  well done 4 costa del sol holiday 5000 await c...      1\n",
              "2  sm ac sptv new jersey devil detroit red wing p...      1\n",
              "3                                  love working home      0\n",
              "4                   get ready put excellent sub face      0"
            ],
            "text/html": [
              "\n",
              "  <div id=\"df-ebd8efa3-f3d0-4523-945a-bdea556175b8\">\n",
              "    <div class=\"colab-df-container\">\n",
              "      <div>\n",
              "<style scoped>\n",
              "    .dataframe tbody tr th:only-of-type {\n",
              "        vertical-align: middle;\n",
              "    }\n",
              "\n",
              "    .dataframe tbody tr th {\n",
              "        vertical-align: top;\n",
              "    }\n",
              "\n",
              "    .dataframe thead th {\n",
              "        text-align: right;\n",
              "    }\n",
              "</style>\n",
              "<table border=\"1\" class=\"dataframe\">\n",
              "  <thead>\n",
              "    <tr style=\"text-align: right;\">\n",
              "      <th></th>\n",
              "      <th>Message</th>\n",
              "      <th>Label</th>\n",
              "    </tr>\n",
              "  </thead>\n",
              "  <tbody>\n",
              "    <tr>\n",
              "      <th>0</th>\n",
              "      <td>watching tv lor funny bluff 4 wat izzit thk im...</td>\n",
              "      <td>0</td>\n",
              "    </tr>\n",
              "    <tr>\n",
              "      <th>1</th>\n",
              "      <td>well done 4 costa del sol holiday 5000 await c...</td>\n",
              "      <td>1</td>\n",
              "    </tr>\n",
              "    <tr>\n",
              "      <th>2</th>\n",
              "      <td>sm ac sptv new jersey devil detroit red wing p...</td>\n",
              "      <td>1</td>\n",
              "    </tr>\n",
              "    <tr>\n",
              "      <th>3</th>\n",
              "      <td>love working home</td>\n",
              "      <td>0</td>\n",
              "    </tr>\n",
              "    <tr>\n",
              "      <th>4</th>\n",
              "      <td>get ready put excellent sub face</td>\n",
              "      <td>0</td>\n",
              "    </tr>\n",
              "  </tbody>\n",
              "</table>\n",
              "</div>\n",
              "      <button class=\"colab-df-convert\" onclick=\"convertToInteractive('df-ebd8efa3-f3d0-4523-945a-bdea556175b8')\"\n",
              "              title=\"Convert this dataframe to an interactive table.\"\n",
              "              style=\"display:none;\">\n",
              "        \n",
              "  <svg xmlns=\"http://www.w3.org/2000/svg\" height=\"24px\"viewBox=\"0 0 24 24\"\n",
              "       width=\"24px\">\n",
              "    <path d=\"M0 0h24v24H0V0z\" fill=\"none\"/>\n",
              "    <path d=\"M18.56 5.44l.94 2.06.94-2.06 2.06-.94-2.06-.94-.94-2.06-.94 2.06-2.06.94zm-11 1L8.5 8.5l.94-2.06 2.06-.94-2.06-.94L8.5 2.5l-.94 2.06-2.06.94zm10 10l.94 2.06.94-2.06 2.06-.94-2.06-.94-.94-2.06-.94 2.06-2.06.94z\"/><path d=\"M17.41 7.96l-1.37-1.37c-.4-.4-.92-.59-1.43-.59-.52 0-1.04.2-1.43.59L10.3 9.45l-7.72 7.72c-.78.78-.78 2.05 0 2.83L4 21.41c.39.39.9.59 1.41.59.51 0 1.02-.2 1.41-.59l7.78-7.78 2.81-2.81c.8-.78.8-2.07 0-2.86zM5.41 20L4 18.59l7.72-7.72 1.47 1.35L5.41 20z\"/>\n",
              "  </svg>\n",
              "      </button>\n",
              "      \n",
              "  <style>\n",
              "    .colab-df-container {\n",
              "      display:flex;\n",
              "      flex-wrap:wrap;\n",
              "      gap: 12px;\n",
              "    }\n",
              "\n",
              "    .colab-df-convert {\n",
              "      background-color: #E8F0FE;\n",
              "      border: none;\n",
              "      border-radius: 50%;\n",
              "      cursor: pointer;\n",
              "      display: none;\n",
              "      fill: #1967D2;\n",
              "      height: 32px;\n",
              "      padding: 0 0 0 0;\n",
              "      width: 32px;\n",
              "    }\n",
              "\n",
              "    .colab-df-convert:hover {\n",
              "      background-color: #E2EBFA;\n",
              "      box-shadow: 0px 1px 2px rgba(60, 64, 67, 0.3), 0px 1px 3px 1px rgba(60, 64, 67, 0.15);\n",
              "      fill: #174EA6;\n",
              "    }\n",
              "\n",
              "    [theme=dark] .colab-df-convert {\n",
              "      background-color: #3B4455;\n",
              "      fill: #D2E3FC;\n",
              "    }\n",
              "\n",
              "    [theme=dark] .colab-df-convert:hover {\n",
              "      background-color: #434B5C;\n",
              "      box-shadow: 0px 1px 3px 1px rgba(0, 0, 0, 0.15);\n",
              "      filter: drop-shadow(0px 1px 2px rgba(0, 0, 0, 0.3));\n",
              "      fill: #FFFFFF;\n",
              "    }\n",
              "  </style>\n",
              "\n",
              "      <script>\n",
              "        const buttonEl =\n",
              "          document.querySelector('#df-ebd8efa3-f3d0-4523-945a-bdea556175b8 button.colab-df-convert');\n",
              "        buttonEl.style.display =\n",
              "          google.colab.kernel.accessAllowed ? 'block' : 'none';\n",
              "\n",
              "        async function convertToInteractive(key) {\n",
              "          const element = document.querySelector('#df-ebd8efa3-f3d0-4523-945a-bdea556175b8');\n",
              "          const dataTable =\n",
              "            await google.colab.kernel.invokeFunction('convertToInteractive',\n",
              "                                                     [key], {});\n",
              "          if (!dataTable) return;\n",
              "\n",
              "          const docLinkHtml = 'Like what you see? Visit the ' +\n",
              "            '<a target=\"_blank\" href=https://colab.research.google.com/notebooks/data_table.ipynb>data table notebook</a>'\n",
              "            + ' to learn more about interactive tables.';\n",
              "          element.innerHTML = '';\n",
              "          dataTable['output_type'] = 'display_data';\n",
              "          await google.colab.output.renderOutput(dataTable, element);\n",
              "          const docLink = document.createElement('div');\n",
              "          docLink.innerHTML = docLinkHtml;\n",
              "          element.appendChild(docLink);\n",
              "        }\n",
              "      </script>\n",
              "    </div>\n",
              "  </div>\n",
              "  "
            ]
          },
          "metadata": {},
          "execution_count": 5
        }
      ]
    },
    {
      "cell_type": "code",
      "source": [
        "y_train,X_train=train[\"Label\"],train[\"Message\"]\n",
        "y_val,X_val=val[\"Label\"],val[\"Message\"]\n",
        "y_test,X_test=test[\"Label\"],test[\"Message\"]"
      ],
      "metadata": {
        "id": "T3GwBPTCq9Mh"
      },
      "execution_count": 6,
      "outputs": []
    },
    {
      "cell_type": "markdown",
      "source": [
        "## Converting string to vectors, to give as input to the models"
      ],
      "metadata": {
        "id": "4ioyO-p5w0_V"
      }
    },
    {
      "cell_type": "code",
      "source": [
        "# replacing NAN entries by empty string\n",
        "X_train = X_train.replace(np.nan, '', regex=True)\n",
        "X_val = X_val.replace(np.nan, '', regex=True)\n",
        "X_test = X_test.replace(np.nan, '', regex=True)"
      ],
      "metadata": {
        "id": "Po9sk9V9uyhD"
      },
      "execution_count": 7,
      "outputs": []
    },
    {
      "cell_type": "code",
      "execution_count": 8,
      "metadata": {
        "id": "tcRuskM8QGEX"
      },
      "outputs": [],
      "source": [
        "vector = CountVectorizer().fit(X_train)\n",
        "X_train_vec=vector.transform(X_train)\n",
        "X_val_vec=vector.transform(X_val)\n",
        "X_test_vec=vector.transform(X_test)"
      ]
    },
    {
      "cell_type": "code",
      "source": [
        "len(vector.vocabulary_)"
      ],
      "metadata": {
        "colab": {
          "base_uri": "https://localhost:8080/"
        },
        "id": "nJn49qkcGYXc",
        "outputId": "966a598b-5def-4a90-e2e0-1697b14e419a"
      },
      "execution_count": 9,
      "outputs": [
        {
          "output_type": "execute_result",
          "data": {
            "text/plain": [
              "6778"
            ]
          },
          "metadata": {},
          "execution_count": 9
        }
      ]
    },
    {
      "cell_type": "code",
      "source": [
        "X_train_vec.shape"
      ],
      "metadata": {
        "colab": {
          "base_uri": "https://localhost:8080/"
        },
        "id": "76K_9F6U6FKC",
        "outputId": "a633f7a3-42bc-40b0-9858-5fb64bf54cd7"
      },
      "execution_count": 10,
      "outputs": [
        {
          "output_type": "execute_result",
          "data": {
            "text/plain": [
              "(4025, 6778)"
            ]
          },
          "metadata": {},
          "execution_count": 10
        }
      ]
    },
    {
      "cell_type": "code",
      "source": [
        "X_train_vec.nnz"
      ],
      "metadata": {
        "colab": {
          "base_uri": "https://localhost:8080/"
        },
        "id": "vYCZghAc6Fh4",
        "outputId": "14bcf808-67d6-4460-dce0-4245c55d9908"
      },
      "execution_count": 11,
      "outputs": [
        {
          "output_type": "execute_result",
          "data": {
            "text/plain": [
              "34235"
            ]
          },
          "metadata": {},
          "execution_count": 11
        }
      ]
    },
    {
      "cell_type": "code",
      "source": [
        "# Sparsity %\n",
        "X_train_vec.nnz*100/(X_train_vec.shape[0]*X_train_vec.shape[1])"
      ],
      "metadata": {
        "colab": {
          "base_uri": "https://localhost:8080/"
        },
        "id": "WfexYBlW6Hg8",
        "outputId": "3c29e8d5-6d54-4829-e8b2-1b8b5b473a4d"
      },
      "execution_count": 12,
      "outputs": [
        {
          "output_type": "execute_result",
          "data": {
            "text/plain": [
              "0.1254881980246651"
            ]
          },
          "metadata": {},
          "execution_count": 12
        }
      ]
    },
    {
      "cell_type": "code",
      "source": [
        "X_val_vec.shape"
      ],
      "metadata": {
        "colab": {
          "base_uri": "https://localhost:8080/"
        },
        "id": "aECxWcecve8v",
        "outputId": "d656a7dc-a607-4213-826a-ad49ea36dc61"
      },
      "execution_count": 13,
      "outputs": [
        {
          "output_type": "execute_result",
          "data": {
            "text/plain": [
              "(711, 6778)"
            ]
          },
          "metadata": {},
          "execution_count": 13
        }
      ]
    },
    {
      "cell_type": "code",
      "source": [
        "X_val_vec.nnz"
      ],
      "metadata": {
        "colab": {
          "base_uri": "https://localhost:8080/"
        },
        "id": "Bfj6YKnPvf5C",
        "outputId": "553f87dc-0113-4112-8382-ea95744abd16"
      },
      "execution_count": 14,
      "outputs": [
        {
          "output_type": "execute_result",
          "data": {
            "text/plain": [
              "5517"
            ]
          },
          "metadata": {},
          "execution_count": 14
        }
      ]
    },
    {
      "cell_type": "code",
      "source": [
        "# Sparsity %\n",
        "X_val_vec.nnz*100/(X_val_vec.shape[0]*X_val_vec.shape[1])"
      ],
      "metadata": {
        "colab": {
          "base_uri": "https://localhost:8080/"
        },
        "id": "AkDtH-8XvgpH",
        "outputId": "daafa51a-5475-4fda-a769-d2857ffe9bd0"
      },
      "execution_count": 15,
      "outputs": [
        {
          "output_type": "execute_result",
          "data": {
            "text/plain": [
              "0.11448057938751956"
            ]
          },
          "metadata": {},
          "execution_count": 15
        }
      ]
    },
    {
      "cell_type": "code",
      "source": [
        "X_test_vec.shape"
      ],
      "metadata": {
        "colab": {
          "base_uri": "https://localhost:8080/"
        },
        "id": "6xKZVqjjvtFs",
        "outputId": "360ddd99-dd65-495e-8622-d60b6b241e40"
      },
      "execution_count": 16,
      "outputs": [
        {
          "output_type": "execute_result",
          "data": {
            "text/plain": [
              "(836, 6778)"
            ]
          },
          "metadata": {},
          "execution_count": 16
        }
      ]
    },
    {
      "cell_type": "code",
      "source": [
        "X_test_vec.nnz"
      ],
      "metadata": {
        "colab": {
          "base_uri": "https://localhost:8080/"
        },
        "id": "dMYJYN3IvttH",
        "outputId": "34b4a333-49b1-495c-ecd0-7c49d4a31778"
      },
      "execution_count": 17,
      "outputs": [
        {
          "output_type": "execute_result",
          "data": {
            "text/plain": [
              "5946"
            ]
          },
          "metadata": {},
          "execution_count": 17
        }
      ]
    },
    {
      "cell_type": "code",
      "source": [
        "# Sparsity %\n",
        "X_test_vec.nnz*100/(X_test_vec.shape[0]*X_test_vec.shape[1])"
      ],
      "metadata": {
        "colab": {
          "base_uri": "https://localhost:8080/"
        },
        "id": "Qzs7yoqKvvY3",
        "outputId": "6af3d769-2ab3-4244-d83b-1e198e684dbb"
      },
      "execution_count": 18,
      "outputs": [
        {
          "output_type": "execute_result",
          "data": {
            "text/plain": [
              "0.10493420170238359"
            ]
          },
          "metadata": {},
          "execution_count": 18
        }
      ]
    },
    {
      "cell_type": "code",
      "source": [
        "tfidf_transformer = TfidfTransformer()\n",
        "tfidf_train = tfidf_transformer.fit_transform(X_train_vec)\n",
        "tfidf_val = tfidf_transformer.fit_transform(X_val_vec)\n",
        "tfidf_test = tfidf_transformer.fit_transform(X_test_vec)"
      ],
      "metadata": {
        "id": "cN-u6hq66Iro"
      },
      "execution_count": 19,
      "outputs": []
    },
    {
      "cell_type": "code",
      "source": [
        "tfidf_train.shape,tfidf_val.shape,tfidf_test.shape"
      ],
      "metadata": {
        "colab": {
          "base_uri": "https://localhost:8080/"
        },
        "id": "wemn-yWV6KUp",
        "outputId": "c3472301-5f5f-46cb-d679-de6b4ca5a993"
      },
      "execution_count": 20,
      "outputs": [
        {
          "output_type": "execute_result",
          "data": {
            "text/plain": [
              "((4025, 6778), (711, 6778), (836, 6778))"
            ]
          },
          "metadata": {},
          "execution_count": 20
        }
      ]
    },
    {
      "cell_type": "markdown",
      "source": [
        "## Training Models"
      ],
      "metadata": {
        "id": "4vX-z4Xkw7QU"
      }
    },
    {
      "cell_type": "markdown",
      "source": [
        "# Multinomial Naive Bayes"
      ],
      "metadata": {
        "id": "p9xaUpipy9Yq"
      }
    },
    {
      "cell_type": "code",
      "source": [
        "mnb = MultinomialNB()\n",
        "mnb.fit(tfidf_train,y_train)\n",
        "y_pred = mnb.predict(tfidf_train)\n",
        "print(\"Accuracy=\",accuracy_score(y_train, y_pred)*100,\"%\")"
      ],
      "metadata": {
        "colab": {
          "base_uri": "https://localhost:8080/"
        },
        "id": "sQUHbDFM6Ls7",
        "outputId": "d2fc26ee-1630-4f11-fd5d-b67f1c7e89e5"
      },
      "execution_count": 21,
      "outputs": [
        {
          "output_type": "stream",
          "name": "stdout",
          "text": [
            "Accuracy= 98.16149068322981 %\n"
          ]
        }
      ]
    },
    {
      "cell_type": "code",
      "source": [
        "for i in np.arange(0.25, 2.25, 0.25):\n",
        "    mnb = MultinomialNB(alpha=i).fit(tfidf_train, y_train)\n",
        "    y_pred = mnb.predict(tfidf_val)\n",
        "    print(\"Accuracy=\",accuracy_score(y_val, y_pred)*100,\"%\\n\", classification_report(y_val, y_pred))"
      ],
      "metadata": {
        "colab": {
          "base_uri": "https://localhost:8080/"
        },
        "id": "G2Zkt6x3Il5u",
        "outputId": "bfed7341-b996-4498-f4f4-f32b024d1c66"
      },
      "execution_count": 22,
      "outputs": [
        {
          "output_type": "stream",
          "name": "stdout",
          "text": [
            "Accuracy= 98.31223628691983 %\n",
            "               precision    recall  f1-score   support\n",
            "\n",
            "           0       0.98      1.00      0.99       614\n",
            "           1       1.00      0.88      0.93        97\n",
            "\n",
            "    accuracy                           0.98       711\n",
            "   macro avg       0.99      0.94      0.96       711\n",
            "weighted avg       0.98      0.98      0.98       711\n",
            "\n",
            "Accuracy= 97.8902953586498 %\n",
            "               precision    recall  f1-score   support\n",
            "\n",
            "           0       0.98      1.00      0.99       614\n",
            "           1       1.00      0.85      0.92        97\n",
            "\n",
            "    accuracy                           0.98       711\n",
            "   macro avg       0.99      0.92      0.95       711\n",
            "weighted avg       0.98      0.98      0.98       711\n",
            "\n",
            "Accuracy= 97.32770745428974 %\n",
            "               precision    recall  f1-score   support\n",
            "\n",
            "           0       0.97      1.00      0.98       614\n",
            "           1       1.00      0.80      0.89        97\n",
            "\n",
            "    accuracy                           0.97       711\n",
            "   macro avg       0.98      0.90      0.94       711\n",
            "weighted avg       0.97      0.97      0.97       711\n",
            "\n",
            "Accuracy= 96.76511954992968 %\n",
            "               precision    recall  f1-score   support\n",
            "\n",
            "           0       0.96      1.00      0.98       614\n",
            "           1       1.00      0.76      0.87        97\n",
            "\n",
            "    accuracy                           0.97       711\n",
            "   macro avg       0.98      0.88      0.92       711\n",
            "weighted avg       0.97      0.97      0.97       711\n",
            "\n",
            "Accuracy= 96.34317862165963 %\n",
            "               precision    recall  f1-score   support\n",
            "\n",
            "           0       0.96      1.00      0.98       614\n",
            "           1       1.00      0.73      0.85        97\n",
            "\n",
            "    accuracy                           0.96       711\n",
            "   macro avg       0.98      0.87      0.91       711\n",
            "weighted avg       0.96      0.96      0.96       711\n",
            "\n",
            "Accuracy= 95.78059071729957 %\n",
            "               precision    recall  f1-score   support\n",
            "\n",
            "           0       0.95      1.00      0.98       614\n",
            "           1       1.00      0.69      0.82        97\n",
            "\n",
            "    accuracy                           0.96       711\n",
            "   macro avg       0.98      0.85      0.90       711\n",
            "weighted avg       0.96      0.96      0.95       711\n",
            "\n",
            "Accuracy= 95.78059071729957 %\n",
            "               precision    recall  f1-score   support\n",
            "\n",
            "           0       0.95      1.00      0.98       614\n",
            "           1       1.00      0.69      0.82        97\n",
            "\n",
            "    accuracy                           0.96       711\n",
            "   macro avg       0.98      0.85      0.90       711\n",
            "weighted avg       0.96      0.96      0.95       711\n",
            "\n",
            "Accuracy= 95.0773558368495 %\n",
            "               precision    recall  f1-score   support\n",
            "\n",
            "           0       0.95      1.00      0.97       614\n",
            "           1       1.00      0.64      0.78        97\n",
            "\n",
            "    accuracy                           0.95       711\n",
            "   macro avg       0.97      0.82      0.88       711\n",
            "weighted avg       0.95      0.95      0.95       711\n",
            "\n"
          ]
        }
      ]
    },
    {
      "cell_type": "markdown",
      "source": [
        "alpha=0.25 maximises the recall and accuracy"
      ],
      "metadata": {
        "id": "z3PH1U92J6p7"
      }
    },
    {
      "cell_type": "code",
      "source": [
        "mnb = MultinomialNB(alpha=0.25).fit(tfidf_train, y_train)\n",
        "y_pred = mnb.predict(tfidf_train)\n",
        "print(\"Accuracy=\",accuracy_score(y_train, y_pred)*100,\"%\\n\", classification_report(y_train, y_pred))"
      ],
      "metadata": {
        "colab": {
          "base_uri": "https://localhost:8080/"
        },
        "id": "3Vz3xlTwJcVn",
        "outputId": "1afb75f9-9ddf-4129-9ad5-f9fb9cedb239"
      },
      "execution_count": 23,
      "outputs": [
        {
          "output_type": "stream",
          "name": "stdout",
          "text": [
            "Accuracy= 99.6024844720497 %\n",
            "               precision    recall  f1-score   support\n",
            "\n",
            "           0       1.00      1.00      1.00      3479\n",
            "           1       1.00      0.97      0.99       546\n",
            "\n",
            "    accuracy                           1.00      4025\n",
            "   macro avg       1.00      0.99      0.99      4025\n",
            "weighted avg       1.00      1.00      1.00      4025\n",
            "\n"
          ]
        }
      ]
    },
    {
      "cell_type": "code",
      "source": [
        "y_pred = mnb.predict(tfidf_test)\n",
        "print(\"Accuracy=\",accuracy_score(y_test, y_pred)*100,\"%\\n\", classification_report(y_test, y_pred))"
      ],
      "metadata": {
        "colab": {
          "base_uri": "https://localhost:8080/"
        },
        "id": "Cyc45-g5Kl7o",
        "outputId": "eb3b0fc3-bf41-4a56-ff3d-b371797ced0e"
      },
      "execution_count": 24,
      "outputs": [
        {
          "output_type": "stream",
          "name": "stdout",
          "text": [
            "Accuracy= 97.84688995215312 %\n",
            "               precision    recall  f1-score   support\n",
            "\n",
            "           0       0.98      0.99      0.99       732\n",
            "           1       0.96      0.87      0.91       104\n",
            "\n",
            "    accuracy                           0.98       836\n",
            "   macro avg       0.97      0.93      0.95       836\n",
            "weighted avg       0.98      0.98      0.98       836\n",
            "\n"
          ]
        }
      ]
    },
    {
      "cell_type": "code",
      "source": [
        "plot_confusion_matrix(mnb ,tfidf_test,y_test,display_labels=['no','yes'])"
      ],
      "metadata": {
        "colab": {
          "base_uri": "https://localhost:8080/",
          "height": 351
        },
        "id": "CUP1wWw96Pdg",
        "outputId": "3c2dc7b7-db8b-4e45-cf60-b32308f66524"
      },
      "execution_count": 25,
      "outputs": [
        {
          "output_type": "stream",
          "name": "stderr",
          "text": [
            "/usr/local/lib/python3.8/dist-packages/sklearn/utils/deprecation.py:87: FutureWarning: Function plot_confusion_matrix is deprecated; Function `plot_confusion_matrix` is deprecated in 1.0 and will be removed in 1.2. Use one of the class methods: ConfusionMatrixDisplay.from_predictions or ConfusionMatrixDisplay.from_estimator.\n",
            "  warnings.warn(msg, category=FutureWarning)\n"
          ]
        },
        {
          "output_type": "execute_result",
          "data": {
            "text/plain": [
              "<sklearn.metrics._plot.confusion_matrix.ConfusionMatrixDisplay at 0x7f75f718ce80>"
            ]
          },
          "metadata": {},
          "execution_count": 25
        },
        {
          "output_type": "display_data",
          "data": {
            "text/plain": [
              "<Figure size 432x288 with 2 Axes>"
            ],
            "image/png": "[encoded data removed]"
          },
          "metadata": {
            "needs_background": "light"
          }
        }
      ]
    },
    {
      "cell_type": "markdown",
      "source": [
        "# SVM"
      ],
      "metadata": {
        "id": "hDZnBJ6SCz67"
      }
    },
    {
      "cell_type": "code",
      "source": [
        "clf = SVC(C=1)\n",
        "clf.fit(tfidf_train,y_train)\n",
        "y_pred = clf.predict(tfidf_train)\n",
        "print(\"Accuracy=\",accuracy_score(y_train, y_pred)*100,\"%\")"
      ],
      "metadata": {
        "colab": {
          "base_uri": "https://localhost:8080/"
        },
        "id": "Z6No4vMFCOHG",
        "outputId": "8e74a78c-efbf-4116-f970-f34a60c29fe6"
      },
      "execution_count": 26,
      "outputs": [
        {
          "output_type": "stream",
          "name": "stdout",
          "text": [
            "Accuracy= 99.77639751552795 %\n"
          ]
        }
      ]
    },
    {
      "cell_type": "code",
      "source": [
        "for i in range(1,2000,100):\n",
        "    clf = SVC(C=i)\n",
        "    clf.fit(tfidf_train, y_train)\n",
        "    y_pred = clf.predict(tfidf_val)\n",
        "    print(\"Accuracy=\",accuracy_score(y_val, y_pred)*100,\"%\\n\", classification_report(y_val, y_pred))"
      ],
      "metadata": {
        "colab": {
          "base_uri": "https://localhost:8080/"
        },
        "id": "pu7qFnuqLwlY",
        "outputId": "fc4f15d0-eb8a-45b3-b3a2-0c8e65e530e2"
      },
      "execution_count": 27,
      "outputs": [
        {
          "output_type": "stream",
          "name": "stdout",
          "text": [
            "Accuracy= 98.31223628691983 %\n",
            "               precision    recall  f1-score   support\n",
            "\n",
            "           0       0.98      1.00      0.99       614\n",
            "           1       1.00      0.88      0.93        97\n",
            "\n",
            "    accuracy                           0.98       711\n",
            "   macro avg       0.99      0.94      0.96       711\n",
            "weighted avg       0.98      0.98      0.98       711\n",
            "\n",
            "Accuracy= 98.59353023909986 %\n",
            "               precision    recall  f1-score   support\n",
            "\n",
            "           0       0.98      1.00      0.99       614\n",
            "           1       1.00      0.90      0.95        97\n",
            "\n",
            "    accuracy                           0.99       711\n",
            "   macro avg       0.99      0.95      0.97       711\n",
            "weighted avg       0.99      0.99      0.99       711\n",
            "\n",
            "Accuracy= 98.59353023909986 %\n",
            "               precision    recall  f1-score   support\n",
            "\n",
            "           0       0.98      1.00      0.99       614\n",
            "           1       1.00      0.90      0.95        97\n",
            "\n",
            "    accuracy                           0.99       711\n",
            "   macro avg       0.99      0.95      0.97       711\n",
            "weighted avg       0.99      0.99      0.99       711\n",
            "\n",
            "Accuracy= 98.59353023909986 %\n",
            "               precision    recall  f1-score   support\n",
            "\n",
            "           0       0.98      1.00      0.99       614\n",
            "           1       1.00      0.90      0.95        97\n",
            "\n",
            "    accuracy                           0.99       711\n",
            "   macro avg       0.99      0.95      0.97       711\n",
            "weighted avg       0.99      0.99      0.99       711\n",
            "\n",
            "Accuracy= 98.59353023909986 %\n",
            "               precision    recall  f1-score   support\n",
            "\n",
            "           0       0.98      1.00      0.99       614\n",
            "           1       1.00      0.90      0.95        97\n",
            "\n",
            "    accuracy                           0.99       711\n",
            "   macro avg       0.99      0.95      0.97       711\n",
            "weighted avg       0.99      0.99      0.99       711\n",
            "\n",
            "Accuracy= 98.59353023909986 %\n",
            "               precision    recall  f1-score   support\n",
            "\n",
            "           0       0.98      1.00      0.99       614\n",
            "           1       1.00      0.90      0.95        97\n",
            "\n",
            "    accuracy                           0.99       711\n",
            "   macro avg       0.99      0.95      0.97       711\n",
            "weighted avg       0.99      0.99      0.99       711\n",
            "\n",
            "Accuracy= 98.59353023909986 %\n",
            "               precision    recall  f1-score   support\n",
            "\n",
            "           0       0.98      1.00      0.99       614\n",
            "           1       1.00      0.90      0.95        97\n",
            "\n",
            "    accuracy                           0.99       711\n",
            "   macro avg       0.99      0.95      0.97       711\n",
            "weighted avg       0.99      0.99      0.99       711\n",
            "\n",
            "Accuracy= 98.59353023909986 %\n",
            "               precision    recall  f1-score   support\n",
            "\n",
            "           0       0.98      1.00      0.99       614\n",
            "           1       1.00      0.90      0.95        97\n",
            "\n",
            "    accuracy                           0.99       711\n",
            "   macro avg       0.99      0.95      0.97       711\n",
            "weighted avg       0.99      0.99      0.99       711\n",
            "\n",
            "Accuracy= 98.59353023909986 %\n",
            "               precision    recall  f1-score   support\n",
            "\n",
            "           0       0.98      1.00      0.99       614\n",
            "           1       1.00      0.90      0.95        97\n",
            "\n",
            "    accuracy                           0.99       711\n",
            "   macro avg       0.99      0.95      0.97       711\n",
            "weighted avg       0.99      0.99      0.99       711\n",
            "\n",
            "Accuracy= 98.59353023909986 %\n",
            "               precision    recall  f1-score   support\n",
            "\n",
            "           0       0.98      1.00      0.99       614\n",
            "           1       1.00      0.90      0.95        97\n",
            "\n",
            "    accuracy                           0.99       711\n",
            "   macro avg       0.99      0.95      0.97       711\n",
            "weighted avg       0.99      0.99      0.99       711\n",
            "\n",
            "Accuracy= 98.59353023909986 %\n",
            "               precision    recall  f1-score   support\n",
            "\n",
            "           0       0.98      1.00      0.99       614\n",
            "           1       1.00      0.90      0.95        97\n",
            "\n",
            "    accuracy                           0.99       711\n",
            "   macro avg       0.99      0.95      0.97       711\n",
            "weighted avg       0.99      0.99      0.99       711\n",
            "\n",
            "Accuracy= 98.59353023909986 %\n",
            "               precision    recall  f1-score   support\n",
            "\n",
            "           0       0.98      1.00      0.99       614\n",
            "           1       1.00      0.90      0.95        97\n",
            "\n",
            "    accuracy                           0.99       711\n",
            "   macro avg       0.99      0.95      0.97       711\n",
            "weighted avg       0.99      0.99      0.99       711\n",
            "\n",
            "Accuracy= 98.59353023909986 %\n",
            "               precision    recall  f1-score   support\n",
            "\n",
            "           0       0.98      1.00      0.99       614\n",
            "           1       1.00      0.90      0.95        97\n",
            "\n",
            "    accuracy                           0.99       711\n",
            "   macro avg       0.99      0.95      0.97       711\n",
            "weighted avg       0.99      0.99      0.99       711\n",
            "\n",
            "Accuracy= 98.59353023909986 %\n",
            "               precision    recall  f1-score   support\n",
            "\n",
            "           0       0.98      1.00      0.99       614\n",
            "           1       1.00      0.90      0.95        97\n",
            "\n",
            "    accuracy                           0.99       711\n",
            "   macro avg       0.99      0.95      0.97       711\n",
            "weighted avg       0.99      0.99      0.99       711\n",
            "\n",
            "Accuracy= 98.59353023909986 %\n",
            "               precision    recall  f1-score   support\n",
            "\n",
            "           0       0.98      1.00      0.99       614\n",
            "           1       1.00      0.90      0.95        97\n",
            "\n",
            "    accuracy                           0.99       711\n",
            "   macro avg       0.99      0.95      0.97       711\n",
            "weighted avg       0.99      0.99      0.99       711\n",
            "\n",
            "Accuracy= 98.59353023909986 %\n",
            "               precision    recall  f1-score   support\n",
            "\n",
            "           0       0.98      1.00      0.99       614\n",
            "           1       1.00      0.90      0.95        97\n",
            "\n",
            "    accuracy                           0.99       711\n",
            "   macro avg       0.99      0.95      0.97       711\n",
            "weighted avg       0.99      0.99      0.99       711\n",
            "\n",
            "Accuracy= 98.59353023909986 %\n",
            "               precision    recall  f1-score   support\n",
            "\n",
            "           0       0.98      1.00      0.99       614\n",
            "           1       1.00      0.90      0.95        97\n",
            "\n",
            "    accuracy                           0.99       711\n",
            "   macro avg       0.99      0.95      0.97       711\n",
            "weighted avg       0.99      0.99      0.99       711\n",
            "\n",
            "Accuracy= 98.59353023909986 %\n",
            "               precision    recall  f1-score   support\n",
            "\n",
            "           0       0.98      1.00      0.99       614\n",
            "           1       1.00      0.90      0.95        97\n",
            "\n",
            "    accuracy                           0.99       711\n",
            "   macro avg       0.99      0.95      0.97       711\n",
            "weighted avg       0.99      0.99      0.99       711\n",
            "\n",
            "Accuracy= 98.59353023909986 %\n",
            "               precision    recall  f1-score   support\n",
            "\n",
            "           0       0.98      1.00      0.99       614\n",
            "           1       1.00      0.90      0.95        97\n",
            "\n",
            "    accuracy                           0.99       711\n",
            "   macro avg       0.99      0.95      0.97       711\n",
            "weighted avg       0.99      0.99      0.99       711\n",
            "\n",
            "Accuracy= 98.59353023909986 %\n",
            "               precision    recall  f1-score   support\n",
            "\n",
            "           0       0.98      1.00      0.99       614\n",
            "           1       1.00      0.90      0.95        97\n",
            "\n",
            "    accuracy                           0.99       711\n",
            "   macro avg       0.99      0.95      0.97       711\n",
            "weighted avg       0.99      0.99      0.99       711\n",
            "\n"
          ]
        }
      ]
    },
    {
      "cell_type": "markdown",
      "source": [
        "C=200 maximises recall and accuracy"
      ],
      "metadata": {
        "id": "YtfTrE3FNFMu"
      }
    },
    {
      "cell_type": "code",
      "source": [
        "clf =SVC(C=200).fit(tfidf_train, y_train)\n",
        "y_pred = clf.predict(tfidf_train)\n",
        "print(\"Accuracy=\",accuracy_score(y_train, y_pred)*100,\"%\\n\", classification_report(y_train, y_pred))"
      ],
      "metadata": {
        "colab": {
          "base_uri": "https://localhost:8080/"
        },
        "id": "_XSb8ViMM8vZ",
        "outputId": "ef16ef2f-af49-42b0-c9ee-b8437d392bad"
      },
      "execution_count": 28,
      "outputs": [
        {
          "output_type": "stream",
          "name": "stdout",
          "text": [
            "Accuracy= 100.0 %\n",
            "               precision    recall  f1-score   support\n",
            "\n",
            "           0       1.00      1.00      1.00      3479\n",
            "           1       1.00      1.00      1.00       546\n",
            "\n",
            "    accuracy                           1.00      4025\n",
            "   macro avg       1.00      1.00      1.00      4025\n",
            "weighted avg       1.00      1.00      1.00      4025\n",
            "\n"
          ]
        }
      ]
    },
    {
      "cell_type": "code",
      "source": [
        "y_pred = clf.predict(tfidf_test)\n",
        "print(\"Accuracy=\",accuracy_score(y_test, y_pred)*100,\"%\\n\", classification_report(y_test, y_pred))"
      ],
      "metadata": {
        "colab": {
          "base_uri": "https://localhost:8080/"
        },
        "id": "19Se0XXFNLbV",
        "outputId": "8ad983f2-3562-4652-f3d3-4772f77aae91"
      },
      "execution_count": 29,
      "outputs": [
        {
          "output_type": "stream",
          "name": "stdout",
          "text": [
            "Accuracy= 97.96650717703349 %\n",
            "               precision    recall  f1-score   support\n",
            "\n",
            "           0       0.98      1.00      0.99       732\n",
            "           1       0.98      0.86      0.91       104\n",
            "\n",
            "    accuracy                           0.98       836\n",
            "   macro avg       0.98      0.93      0.95       836\n",
            "weighted avg       0.98      0.98      0.98       836\n",
            "\n"
          ]
        }
      ]
    },
    {
      "cell_type": "code",
      "source": [
        "plot_confusion_matrix(clf ,tfidf_test,y_test,display_labels=['no','yes'])"
      ],
      "metadata": {
        "colab": {
          "base_uri": "https://localhost:8080/",
          "height": 351
        },
        "id": "eXVH9Ww6NRlR",
        "outputId": "d1b3e146-6ab7-4dd9-b119-3278f8229118"
      },
      "execution_count": 30,
      "outputs": [
        {
          "output_type": "stream",
          "name": "stderr",
          "text": [
            "/usr/local/lib/python3.8/dist-packages/sklearn/utils/deprecation.py:87: FutureWarning: Function plot_confusion_matrix is deprecated; Function `plot_confusion_matrix` is deprecated in 1.0 and will be removed in 1.2. Use one of the class methods: ConfusionMatrixDisplay.from_predictions or ConfusionMatrixDisplay.from_estimator.\n",
            "  warnings.warn(msg, category=FutureWarning)\n"
          ]
        },
        {
          "output_type": "execute_result",
          "data": {
            "text/plain": [
              "<sklearn.metrics._plot.confusion_matrix.ConfusionMatrixDisplay at 0x7f75bab85e80>"
            ]
          },
          "metadata": {},
          "execution_count": 30
        },
        {
          "output_type": "display_data",
          "data": {
            "text/plain": [
              "<Figure size 432x288 with 2 Axes>"
            ],
            "image/png": "[encoded data removed]"
          },
          "metadata": {
            "needs_background": "light"
          }
        }
      ]
    },
    {
      "cell_type": "markdown",
      "source": [
        "# MLP Classifier"
      ],
      "metadata": {
        "id": "A2V0PJ5KO5fW"
      }
    },
    {
      "cell_type": "code",
      "source": [
        "mlp=MLPClassifier()\n",
        "mlp.fit(tfidf_train, y_train)\n",
        "y_pred = mlp.predict(tfidf_train)\n",
        "print(accuracy_score(y_train, y_pred)*100, '\\n', classification_report(y_train, y_pred))"
      ],
      "metadata": {
        "colab": {
          "base_uri": "https://localhost:8080/"
        },
        "id": "jwFCKlO7Pch3",
        "outputId": "f2a2b339-0b62-4fbc-ef08-257eea3196c2"
      },
      "execution_count": 31,
      "outputs": [
        {
          "output_type": "stream",
          "name": "stdout",
          "text": [
            "100.0 \n",
            "               precision    recall  f1-score   support\n",
            "\n",
            "           0       1.00      1.00      1.00      3479\n",
            "           1       1.00      1.00      1.00       546\n",
            "\n",
            "    accuracy                           1.00      4025\n",
            "   macro avg       1.00      1.00      1.00      4025\n",
            "weighted avg       1.00      1.00      1.00      4025\n",
            "\n"
          ]
        }
      ]
    },
    {
      "cell_type": "code",
      "source": [
        "y_pred = mlp.predict(tfidf_val)\n",
        "print(\"Accuracy=\",accuracy_score(y_val, y_pred)*100,\"%\\n\", classification_report(y_val, y_pred))"
      ],
      "metadata": {
        "colab": {
          "base_uri": "https://localhost:8080/"
        },
        "id": "u6hZcSUXQsDb",
        "outputId": "2ba217d7-210f-4c56-8d47-8eab8956aaf7"
      },
      "execution_count": 32,
      "outputs": [
        {
          "output_type": "stream",
          "name": "stdout",
          "text": [
            "Accuracy= 98.59353023909986 %\n",
            "               precision    recall  f1-score   support\n",
            "\n",
            "           0       0.99      1.00      0.99       614\n",
            "           1       0.99      0.91      0.95        97\n",
            "\n",
            "    accuracy                           0.99       711\n",
            "   macro avg       0.99      0.95      0.97       711\n",
            "weighted avg       0.99      0.99      0.99       711\n",
            "\n"
          ]
        }
      ]
    },
    {
      "cell_type": "code",
      "source": [
        "y_pred = mlp.predict(tfidf_test)\n",
        "print(\"Accuracy=\",accuracy_score(y_test, y_pred)*100,\"%\\n\", classification_report(y_test, y_pred))"
      ],
      "metadata": {
        "colab": {
          "base_uri": "https://localhost:8080/"
        },
        "id": "DBhlqswTQYvQ",
        "outputId": "701a21b2-a040-4de3-9eb6-f5b3c891a8f0"
      },
      "execution_count": 33,
      "outputs": [
        {
          "output_type": "stream",
          "name": "stdout",
          "text": [
            "Accuracy= 98.68421052631578 %\n",
            "               precision    recall  f1-score   support\n",
            "\n",
            "           0       0.99      1.00      0.99       732\n",
            "           1       0.99      0.90      0.94       104\n",
            "\n",
            "    accuracy                           0.99       836\n",
            "   macro avg       0.99      0.95      0.97       836\n",
            "weighted avg       0.99      0.99      0.99       836\n",
            "\n"
          ]
        }
      ]
    },
    {
      "cell_type": "code",
      "source": [
        "plot_confusion_matrix(mlp ,tfidf_test,y_test,display_labels=['no','yes'])"
      ],
      "metadata": {
        "colab": {
          "base_uri": "https://localhost:8080/",
          "height": 351
        },
        "id": "zcbjWUVYQa3B",
        "outputId": "9bd8b5fa-ab51-4262-dd2c-cf311c185bc3"
      },
      "execution_count": 34,
      "outputs": [
        {
          "output_type": "stream",
          "name": "stderr",
          "text": [
            "/usr/local/lib/python3.8/dist-packages/sklearn/utils/deprecation.py:87: FutureWarning: Function plot_confusion_matrix is deprecated; Function `plot_confusion_matrix` is deprecated in 1.0 and will be removed in 1.2. Use one of the class methods: ConfusionMatrixDisplay.from_predictions or ConfusionMatrixDisplay.from_estimator.\n",
            "  warnings.warn(msg, category=FutureWarning)\n"
          ]
        },
        {
          "output_type": "execute_result",
          "data": {
            "text/plain": [
              "<sklearn.metrics._plot.confusion_matrix.ConfusionMatrixDisplay at 0x7f75bab23040>"
            ]
          },
          "metadata": {},
          "execution_count": 34
        },
        {
          "output_type": "display_data",
          "data": {
            "text/plain": [
              "<Figure size 432x288 with 2 Axes>"
            ],
            "image/png": "[encoded data removed]"
          },
          "metadata": {
            "needs_background": "light"
          }
        }
      ]
    },
    {
      "cell_type": "markdown",
      "source": [
        "Since our aim is to reduce FN, hence increasing recall, MLP classifier suits best, according to accuracy as well as recall criteria."
      ],
      "metadata": {
        "id": "vRqLT6oM9WF1"
      }
    }
  ]
}