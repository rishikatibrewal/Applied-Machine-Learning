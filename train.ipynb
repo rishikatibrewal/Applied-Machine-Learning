{
 "cells": [
  {
   "cell_type": "markdown",
   "metadata": {
    "id": "7E6irwvNwfYq"
   },
   "source": [
    "# Assignment 1 : SMS Spam Classification\n",
    "# Rishika Tibrewal, MDS202135"
   ]
  },
  {
   "cell_type": "markdown",
   "metadata": {
    "id": "BnM_abBAwarO"
   },
   "source": [
    "## Importing Libraries"
   ]
  },
  {
   "cell_type": "code",
   "execution_count": 287,
   "metadata": {
    "id": "l4b3EZxi6W2l"
   },
   "outputs": [],
   "source": [
    "%matplotlib inline\n",
    "import matplotlib.pyplot as plt\n",
    "import pandas as pd\n",
    "import numpy as np\n",
    "\n",
    "from sklearn.feature_extraction.text import CountVectorizer,TfidfTransformer\n",
    "from sklearn.naive_bayes import MultinomialNB\n",
    "from sklearn.linear_model import LogisticRegression\n",
    "from sklearn.metrics import plot_confusion_matrix\n",
    "from sklearn.svm import SVC\n",
    "from sklearn.metrics import  classification_report, confusion_matrix,accuracy_score\n",
    "from sklearn.neural_network import MLPClassifier\n",
    "from sklearn.naive_bayes import MultinomialNB"
   ]
  },
  {
   "cell_type": "markdown",
   "metadata": {
    "id": "iU4OeFANwmws"
   },
   "source": [
    "## Loading training, validation, test data"
   ]
  },
  {
   "cell_type": "code",
   "execution_count": 187,
   "metadata": {
    "id": "D2YgvPlXqCij"
   },
   "outputs": [],
   "source": [
    "train=pd.read_csv(\"Training Data.csv\")\n",
    "val=pd.read_csv(\"Validation Data.csv\")\n",
    "test=pd.read_csv(\"Test Data.csv\")"
   ]
  },
  {
   "cell_type": "code",
   "execution_count": 188,
   "metadata": {
    "colab": {
     "base_uri": "https://localhost:8080/",
     "height": 206
    },
    "id": "vruRCffoqTI5",
    "outputId": "7215d5f7-ace9-49b0-eaf0-526eaa709c5c"
   },
   "outputs": [
    {
     "data": {
      "text/html": [
       "\n",
       "  <div id=\"df-bd9abd16-4227-4217-b8a1-37cacb9590fa\">\n",
       "    <div class=\"colab-df-container\">\n",
       "      <div>\n",
       "<style scoped>\n",
       "    .dataframe tbody tr th:only-of-type {\n",
       "        vertical-align: middle;\n",
       "    }\n",
       "\n",
       "    .dataframe tbody tr th {\n",
       "        vertical-align: top;\n",
       "    }\n",
       "\n",
       "    .dataframe thead th {\n",
       "        text-align: right;\n",
       "    }\n",
       "</style>\n",
       "<table border=\"1\" class=\"dataframe\">\n",
       "  <thead>\n",
       "    <tr style=\"text-align: right;\">\n",
       "      <th></th>\n",
       "      <th>Message</th>\n",
       "      <th>Label</th>\n",
       "    </tr>\n",
       "  </thead>\n",
       "  <tbody>\n",
       "    <tr>\n",
       "      <th>0</th>\n",
       "      <td>send yetty number pls</td>\n",
       "      <td>0</td>\n",
       "    </tr>\n",
       "    <tr>\n",
       "      <th>1</th>\n",
       "      <td>1 000 cash 2 000 prize claim call09050000327</td>\n",
       "      <td>1</td>\n",
       "    </tr>\n",
       "    <tr>\n",
       "      <th>2</th>\n",
       "      <td>hey babe going ever figure going new year</td>\n",
       "      <td>0</td>\n",
       "    </tr>\n",
       "    <tr>\n",
       "      <th>3</th>\n",
       "      <td>let use next week princess</td>\n",
       "      <td>0</td>\n",
       "    </tr>\n",
       "    <tr>\n",
       "      <th>4</th>\n",
       "      <td>nice talking please dont forget pix want see</td>\n",
       "      <td>0</td>\n",
       "    </tr>\n",
       "  </tbody>\n",
       "</table>\n",
       "</div>\n",
       "      <button class=\"colab-df-convert\" onclick=\"convertToInteractive('df-bd9abd16-4227-4217-b8a1-37cacb9590fa')\"\n",
       "              title=\"Convert this dataframe to an interactive table.\"\n",
       "              style=\"display:none;\">\n",
       "        \n",
       "  <svg xmlns=\"http://www.w3.org/2000/svg\" height=\"24px\"viewBox=\"0 0 24 24\"\n",
       "       width=\"24px\">\n",
       "    <path d=\"M0 0h24v24H0V0z\" fill=\"none\"/>\n",
       "    <path d=\"M18.56 5.44l.94 2.06.94-2.06 2.06-.94-2.06-.94-.94-2.06-.94 2.06-2.06.94zm-11 1L8.5 8.5l.94-2.06 2.06-.94-2.06-.94L8.5 2.5l-.94 2.06-2.06.94zm10 10l.94 2.06.94-2.06 2.06-.94-2.06-.94-.94-2.06-.94 2.06-2.06.94z\"/><path d=\"M17.41 7.96l-1.37-1.37c-.4-.4-.92-.59-1.43-.59-.52 0-1.04.2-1.43.59L10.3 9.45l-7.72 7.72c-.78.78-.78 2.05 0 2.83L4 21.41c.39.39.9.59 1.41.59.51 0 1.02-.2 1.41-.59l7.78-7.78 2.81-2.81c.8-.78.8-2.07 0-2.86zM5.41 20L4 18.59l7.72-7.72 1.47 1.35L5.41 20z\"/>\n",
       "  </svg>\n",
       "      </button>\n",
       "      \n",
       "  <style>\n",
       "    .colab-df-container {\n",
       "      display:flex;\n",
       "      flex-wrap:wrap;\n",
       "      gap: 12px;\n",
       "    }\n",
       "\n",
       "    .colab-df-convert {\n",
       "      background-color: #E8F0FE;\n",
       "      border: none;\n",
       "      border-radius: 50%;\n",
       "      cursor: pointer;\n",
       "      display: none;\n",
       "      fill: #1967D2;\n",
       "      height: 32px;\n",
       "      padding: 0 0 0 0;\n",
       "      width: 32px;\n",
       "    }\n",
       "\n",
       "    .colab-df-convert:hover {\n",
       "      background-color: #E2EBFA;\n",
       "      box-shadow: 0px 1px 2px rgba(60, 64, 67, 0.3), 0px 1px 3px 1px rgba(60, 64, 67, 0.15);\n",
       "      fill: #174EA6;\n",
       "    }\n",
       "\n",
       "    [theme=dark] .colab-df-convert {\n",
       "      background-color: #3B4455;\n",
       "      fill: #D2E3FC;\n",
       "    }\n",
       "\n",
       "    [theme=dark] .colab-df-convert:hover {\n",
       "      background-color: #434B5C;\n",
       "      box-shadow: 0px 1px 3px 1px rgba(0, 0, 0, 0.15);\n",
       "      filter: drop-shadow(0px 1px 2px rgba(0, 0, 0, 0.3));\n",
       "      fill: #FFFFFF;\n",
       "    }\n",
       "  </style>\n",
       "\n",
       "      <script>\n",
       "        const buttonEl =\n",
       "          document.querySelector('#df-bd9abd16-4227-4217-b8a1-37cacb9590fa button.colab-df-convert');\n",
       "        buttonEl.style.display =\n",
       "          google.colab.kernel.accessAllowed ? 'block' : 'none';\n",
       "\n",
       "        async function convertToInteractive(key) {\n",
       "          const element = document.querySelector('#df-bd9abd16-4227-4217-b8a1-37cacb9590fa');\n",
       "          const dataTable =\n",
       "            await google.colab.kernel.invokeFunction('convertToInteractive',\n",
       "                                                     [key], {});\n",
       "          if (!dataTable) return;\n",
       "\n",
       "          const docLinkHtml = 'Like what you see? Visit the ' +\n",
       "            '<a target=\"_blank\" href=https://colab.research.google.com/notebooks/data_table.ipynb>data table notebook</a>'\n",
       "            + ' to learn more about interactive tables.';\n",
       "          element.innerHTML = '';\n",
       "          dataTable['output_type'] = 'display_data';\n",
       "          await google.colab.output.renderOutput(dataTable, element);\n",
       "          const docLink = document.createElement('div');\n",
       "          docLink.innerHTML = docLinkHtml;\n",
       "          element.appendChild(docLink);\n",
       "        }\n",
       "      </script>\n",
       "    </div>\n",
       "  </div>\n",
       "  "
      ],
      "text/plain": [
       "                                        Message  Label\n",
       "0                         send yetty number pls      0\n",
       "1  1 000 cash 2 000 prize claim call09050000327      1\n",
       "2     hey babe going ever figure going new year      0\n",
       "3                    let use next week princess      0\n",
       "4  nice talking please dont forget pix want see      0"
      ]
     },
     "execution_count": 188,
     "metadata": {},
     "output_type": "execute_result"
    }
   ],
   "source": [
    "train.head()"
   ]
  },
  {
   "cell_type": "code",
   "execution_count": 189,
   "metadata": {
    "colab": {
     "base_uri": "https://localhost:8080/",
     "height": 206
    },
    "id": "NPIZekE0qVUS",
    "outputId": "dd091e96-630f-4e2d-f8d1-e979382932c5"
   },
   "outputs": [
    {
     "data": {
      "text/html": [
       "\n",
       "  <div id=\"df-c551781d-ff15-4178-9055-04aaf33d2b93\">\n",
       "    <div class=\"colab-df-container\">\n",
       "      <div>\n",
       "<style scoped>\n",
       "    .dataframe tbody tr th:only-of-type {\n",
       "        vertical-align: middle;\n",
       "    }\n",
       "\n",
       "    .dataframe tbody tr th {\n",
       "        vertical-align: top;\n",
       "    }\n",
       "\n",
       "    .dataframe thead th {\n",
       "        text-align: right;\n",
       "    }\n",
       "</style>\n",
       "<table border=\"1\" class=\"dataframe\">\n",
       "  <thead>\n",
       "    <tr style=\"text-align: right;\">\n",
       "      <th></th>\n",
       "      <th>Message</th>\n",
       "      <th>Label</th>\n",
       "    </tr>\n",
       "  </thead>\n",
       "  <tbody>\n",
       "    <tr>\n",
       "      <th>0</th>\n",
       "      <td>da happy sit together na</td>\n",
       "      <td>0</td>\n",
       "    </tr>\n",
       "    <tr>\n",
       "      <th>1</th>\n",
       "      <td>2nd attempt contract u week top prize either 1...</td>\n",
       "      <td>1</td>\n",
       "    </tr>\n",
       "    <tr>\n",
       "      <th>2</th>\n",
       "      <td>text carlos let know hang</td>\n",
       "      <td>0</td>\n",
       "    </tr>\n",
       "    <tr>\n",
       "      <th>3</th>\n",
       "      <td>shant disturb u anymore jia</td>\n",
       "      <td>0</td>\n",
       "    </tr>\n",
       "    <tr>\n",
       "      <th>4</th>\n",
       "      <td>hello u u 2 u b moving flat co need arrange pi...</td>\n",
       "      <td>0</td>\n",
       "    </tr>\n",
       "  </tbody>\n",
       "</table>\n",
       "</div>\n",
       "      <button class=\"colab-df-convert\" onclick=\"convertToInteractive('df-c551781d-ff15-4178-9055-04aaf33d2b93')\"\n",
       "              title=\"Convert this dataframe to an interactive table.\"\n",
       "              style=\"display:none;\">\n",
       "        \n",
       "  <svg xmlns=\"http://www.w3.org/2000/svg\" height=\"24px\"viewBox=\"0 0 24 24\"\n",
       "       width=\"24px\">\n",
       "    <path d=\"M0 0h24v24H0V0z\" fill=\"none\"/>\n",
       "    <path d=\"M18.56 5.44l.94 2.06.94-2.06 2.06-.94-2.06-.94-.94-2.06-.94 2.06-2.06.94zm-11 1L8.5 8.5l.94-2.06 2.06-.94-2.06-.94L8.5 2.5l-.94 2.06-2.06.94zm10 10l.94 2.06.94-2.06 2.06-.94-2.06-.94-.94-2.06-.94 2.06-2.06.94z\"/><path d=\"M17.41 7.96l-1.37-1.37c-.4-.4-.92-.59-1.43-.59-.52 0-1.04.2-1.43.59L10.3 9.45l-7.72 7.72c-.78.78-.78 2.05 0 2.83L4 21.41c.39.39.9.59 1.41.59.51 0 1.02-.2 1.41-.59l7.78-7.78 2.81-2.81c.8-.78.8-2.07 0-2.86zM5.41 20L4 18.59l7.72-7.72 1.47 1.35L5.41 20z\"/>\n",
       "  </svg>\n",
       "      </button>\n",
       "      \n",
       "  <style>\n",
       "    .colab-df-container {\n",
       "      display:flex;\n",
       "      flex-wrap:wrap;\n",
       "      gap: 12px;\n",
       "    }\n",
       "\n",
       "    .colab-df-convert {\n",
       "      background-color: #E8F0FE;\n",
       "      border: none;\n",
       "      border-radius: 50%;\n",
       "      cursor: pointer;\n",
       "      display: none;\n",
       "      fill: #1967D2;\n",
       "      height: 32px;\n",
       "      padding: 0 0 0 0;\n",
       "      width: 32px;\n",
       "    }\n",
       "\n",
       "    .colab-df-convert:hover {\n",
       "      background-color: #E2EBFA;\n",
       "      box-shadow: 0px 1px 2px rgba(60, 64, 67, 0.3), 0px 1px 3px 1px rgba(60, 64, 67, 0.15);\n",
       "      fill: #174EA6;\n",
       "    }\n",
       "\n",
       "    [theme=dark] .colab-df-convert {\n",
       "      background-color: #3B4455;\n",
       "      fill: #D2E3FC;\n",
       "    }\n",
       "\n",
       "    [theme=dark] .colab-df-convert:hover {\n",
       "      background-color: #434B5C;\n",
       "      box-shadow: 0px 1px 3px 1px rgba(0, 0, 0, 0.15);\n",
       "      filter: drop-shadow(0px 1px 2px rgba(0, 0, 0, 0.3));\n",
       "      fill: #FFFFFF;\n",
       "    }\n",
       "  </style>\n",
       "\n",
       "      <script>\n",
       "        const buttonEl =\n",
       "          document.querySelector('#df-c551781d-ff15-4178-9055-04aaf33d2b93 button.colab-df-convert');\n",
       "        buttonEl.style.display =\n",
       "          google.colab.kernel.accessAllowed ? 'block' : 'none';\n",
       "\n",
       "        async function convertToInteractive(key) {\n",
       "          const element = document.querySelector('#df-c551781d-ff15-4178-9055-04aaf33d2b93');\n",
       "          const dataTable =\n",
       "            await google.colab.kernel.invokeFunction('convertToInteractive',\n",
       "                                                     [key], {});\n",
       "          if (!dataTable) return;\n",
       "\n",
       "          const docLinkHtml = 'Like what you see? Visit the ' +\n",
       "            '<a target=\"_blank\" href=https://colab.research.google.com/notebooks/data_table.ipynb>data table notebook</a>'\n",
       "            + ' to learn more about interactive tables.';\n",
       "          element.innerHTML = '';\n",
       "          dataTable['output_type'] = 'display_data';\n",
       "          await google.colab.output.renderOutput(dataTable, element);\n",
       "          const docLink = document.createElement('div');\n",
       "          docLink.innerHTML = docLinkHtml;\n",
       "          element.appendChild(docLink);\n",
       "        }\n",
       "      </script>\n",
       "    </div>\n",
       "  </div>\n",
       "  "
      ],
      "text/plain": [
       "                                             Message  Label\n",
       "0                           da happy sit together na      0\n",
       "1  2nd attempt contract u week top prize either 1...      1\n",
       "2                          text carlos let know hang      0\n",
       "3                        shant disturb u anymore jia      0\n",
       "4  hello u u 2 u b moving flat co need arrange pi...      0"
      ]
     },
     "execution_count": 189,
     "metadata": {},
     "output_type": "execute_result"
    }
   ],
   "source": [
    "val.head()"
   ]
  },
  {
   "cell_type": "code",
   "execution_count": 190,
   "metadata": {
    "colab": {
     "base_uri": "https://localhost:8080/",
     "height": 206
    },
    "id": "70O7Zmn9qWko",
    "outputId": "76a44ed4-0b16-4195-a605-e68ed9102755"
   },
   "outputs": [
    {
     "data": {
      "text/html": [
       "\n",
       "  <div id=\"df-9f3e6ac1-c18f-41b9-a2a8-a02561a29c64\">\n",
       "    <div class=\"colab-df-container\">\n",
       "      <div>\n",
       "<style scoped>\n",
       "    .dataframe tbody tr th:only-of-type {\n",
       "        vertical-align: middle;\n",
       "    }\n",
       "\n",
       "    .dataframe tbody tr th {\n",
       "        vertical-align: top;\n",
       "    }\n",
       "\n",
       "    .dataframe thead th {\n",
       "        text-align: right;\n",
       "    }\n",
       "</style>\n",
       "<table border=\"1\" class=\"dataframe\">\n",
       "  <thead>\n",
       "    <tr style=\"text-align: right;\">\n",
       "      <th></th>\n",
       "      <th>Message</th>\n",
       "      <th>Label</th>\n",
       "    </tr>\n",
       "  </thead>\n",
       "  <tbody>\n",
       "    <tr>\n",
       "      <th>0</th>\n",
       "      <td>watching tv lor funny bluff 4 wat izzit thk im...</td>\n",
       "      <td>0</td>\n",
       "    </tr>\n",
       "    <tr>\n",
       "      <th>1</th>\n",
       "      <td>well done 4 costa del sol holiday 5000 await c...</td>\n",
       "      <td>1</td>\n",
       "    </tr>\n",
       "    <tr>\n",
       "      <th>2</th>\n",
       "      <td>sm ac sptv new jersey devil detroit red wing p...</td>\n",
       "      <td>1</td>\n",
       "    </tr>\n",
       "    <tr>\n",
       "      <th>3</th>\n",
       "      <td>love working home</td>\n",
       "      <td>0</td>\n",
       "    </tr>\n",
       "    <tr>\n",
       "      <th>4</th>\n",
       "      <td>get ready put excellent sub face</td>\n",
       "      <td>0</td>\n",
       "    </tr>\n",
       "  </tbody>\n",
       "</table>\n",
       "</div>\n",
       "      <button class=\"colab-df-convert\" onclick=\"convertToInteractive('df-9f3e6ac1-c18f-41b9-a2a8-a02561a29c64')\"\n",
       "              title=\"Convert this dataframe to an interactive table.\"\n",
       "              style=\"display:none;\">\n",
       "        \n",
       "  <svg xmlns=\"http://www.w3.org/2000/svg\" height=\"24px\"viewBox=\"0 0 24 24\"\n",
       "       width=\"24px\">\n",
       "    <path d=\"M0 0h24v24H0V0z\" fill=\"none\"/>\n",
       "    <path d=\"M18.56 5.44l.94 2.06.94-2.06 2.06-.94-2.06-.94-.94-2.06-.94 2.06-2.06.94zm-11 1L8.5 8.5l.94-2.06 2.06-.94-2.06-.94L8.5 2.5l-.94 2.06-2.06.94zm10 10l.94 2.06.94-2.06 2.06-.94-2.06-.94-.94-2.06-.94 2.06-2.06.94z\"/><path d=\"M17.41 7.96l-1.37-1.37c-.4-.4-.92-.59-1.43-.59-.52 0-1.04.2-1.43.59L10.3 9.45l-7.72 7.72c-.78.78-.78 2.05 0 2.83L4 21.41c.39.39.9.59 1.41.59.51 0 1.02-.2 1.41-.59l7.78-7.78 2.81-2.81c.8-.78.8-2.07 0-2.86zM5.41 20L4 18.59l7.72-7.72 1.47 1.35L5.41 20z\"/>\n",
       "  </svg>\n",
       "      </button>\n",
       "      \n",
       "  <style>\n",
       "    .colab-df-container {\n",
       "      display:flex;\n",
       "      flex-wrap:wrap;\n",
       "      gap: 12px;\n",
       "    }\n",
       "\n",
       "    .colab-df-convert {\n",
       "      background-color: #E8F0FE;\n",
       "      border: none;\n",
       "      border-radius: 50%;\n",
       "      cursor: pointer;\n",
       "      display: none;\n",
       "      fill: #1967D2;\n",
       "      height: 32px;\n",
       "      padding: 0 0 0 0;\n",
       "      width: 32px;\n",
       "    }\n",
       "\n",
       "    .colab-df-convert:hover {\n",
       "      background-color: #E2EBFA;\n",
       "      box-shadow: 0px 1px 2px rgba(60, 64, 67, 0.3), 0px 1px 3px 1px rgba(60, 64, 67, 0.15);\n",
       "      fill: #174EA6;\n",
       "    }\n",
       "\n",
       "    [theme=dark] .colab-df-convert {\n",
       "      background-color: #3B4455;\n",
       "      fill: #D2E3FC;\n",
       "    }\n",
       "\n",
       "    [theme=dark] .colab-df-convert:hover {\n",
       "      background-color: #434B5C;\n",
       "      box-shadow: 0px 1px 3px 1px rgba(0, 0, 0, 0.15);\n",
       "      filter: drop-shadow(0px 1px 2px rgba(0, 0, 0, 0.3));\n",
       "      fill: #FFFFFF;\n",
       "    }\n",
       "  </style>\n",
       "\n",
       "      <script>\n",
       "        const buttonEl =\n",
       "          document.querySelector('#df-9f3e6ac1-c18f-41b9-a2a8-a02561a29c64 button.colab-df-convert');\n",
       "        buttonEl.style.display =\n",
       "          google.colab.kernel.accessAllowed ? 'block' : 'none';\n",
       "\n",
       "        async function convertToInteractive(key) {\n",
       "          const element = document.querySelector('#df-9f3e6ac1-c18f-41b9-a2a8-a02561a29c64');\n",
       "          const dataTable =\n",
       "            await google.colab.kernel.invokeFunction('convertToInteractive',\n",
       "                                                     [key], {});\n",
       "          if (!dataTable) return;\n",
       "\n",
       "          const docLinkHtml = 'Like what you see? Visit the ' +\n",
       "            '<a target=\"_blank\" href=https://colab.research.google.com/notebooks/data_table.ipynb>data table notebook</a>'\n",
       "            + ' to learn more about interactive tables.';\n",
       "          element.innerHTML = '';\n",
       "          dataTable['output_type'] = 'display_data';\n",
       "          await google.colab.output.renderOutput(dataTable, element);\n",
       "          const docLink = document.createElement('div');\n",
       "          docLink.innerHTML = docLinkHtml;\n",
       "          element.appendChild(docLink);\n",
       "        }\n",
       "      </script>\n",
       "    </div>\n",
       "  </div>\n",
       "  "
      ],
      "text/plain": [
       "                                             Message  Label\n",
       "0  watching tv lor funny bluff 4 wat izzit thk im...      0\n",
       "1  well done 4 costa del sol holiday 5000 await c...      1\n",
       "2  sm ac sptv new jersey devil detroit red wing p...      1\n",
       "3                                  love working home      0\n",
       "4                   get ready put excellent sub face      0"
      ]
     },
     "execution_count": 190,
     "metadata": {},
     "output_type": "execute_result"
    }
   ],
   "source": [
    "test.head()"
   ]
  },
  {
   "cell_type": "code",
   "execution_count": 219,
   "metadata": {
    "id": "T3GwBPTCq9Mh"
   },
   "outputs": [],
   "source": [
    "y_train,X_train=train[\"Label\"],train[\"Message\"]\n",
    "y_val,X_val=val[\"Label\"],val[\"Message\"]\n",
    "y_test,X_test=test[\"Label\"],test[\"Message\"]"
   ]
  },
  {
   "cell_type": "markdown",
   "metadata": {
    "id": "4ioyO-p5w0_V"
   },
   "source": [
    "## Converting string to vectors, to give as input to the models"
   ]
  },
  {
   "cell_type": "code",
   "execution_count": 221,
   "metadata": {
    "id": "Po9sk9V9uyhD"
   },
   "outputs": [],
   "source": [
    "# replacing NAN entries by empty string\n",
    "X_train = X_train.replace(np.nan, '', regex=True)\n",
    "X_val = X_val.replace(np.nan, '', regex=True)\n",
    "X_test = X_test.replace(np.nan, '', regex=True)"
   ]
  },
  {
   "cell_type": "code",
   "execution_count": 222,
   "metadata": {
    "id": "tcRuskM8QGEX"
   },
   "outputs": [],
   "source": [
    "vector = CountVectorizer().fit(X_train)\n",
    "X_train_vec=vector.transform(X_train)\n",
    "X_val_vec=vector.transform(X_val)\n",
    "X_test_vec=vector.transform(X_test)"
   ]
  },
  {
   "cell_type": "code",
   "execution_count": 223,
   "metadata": {
    "colab": {
     "base_uri": "https://localhost:8080/"
    },
    "id": "nJn49qkcGYXc",
    "outputId": "cec85e5b-c4d9-4b9b-fcba-a427cf5b190d"
   },
   "outputs": [
    {
     "data": {
      "text/plain": [
       "6778"
      ]
     },
     "execution_count": 223,
     "metadata": {},
     "output_type": "execute_result"
    }
   ],
   "source": [
    "len(vector.vocabulary_)"
   ]
  },
  {
   "cell_type": "code",
   "execution_count": 224,
   "metadata": {
    "colab": {
     "base_uri": "https://localhost:8080/"
    },
    "id": "76K_9F6U6FKC",
    "outputId": "79aa7426-ff34-46a6-fdcd-bc132a7c6a79"
   },
   "outputs": [
    {
     "data": {
      "text/plain": [
       "(4025, 6778)"
      ]
     },
     "execution_count": 224,
     "metadata": {},
     "output_type": "execute_result"
    }
   ],
   "source": [
    "X_train_vec.shape"
   ]
  },
  {
   "cell_type": "code",
   "execution_count": 225,
   "metadata": {
    "colab": {
     "base_uri": "https://localhost:8080/"
    },
    "id": "vYCZghAc6Fh4",
    "outputId": "a88d53be-763f-4e51-fa7f-1bc84521fdd7"
   },
   "outputs": [
    {
     "data": {
      "text/plain": [
       "34235"
      ]
     },
     "execution_count": 225,
     "metadata": {},
     "output_type": "execute_result"
    }
   ],
   "source": [
    "X_train_vec.nnz"
   ]
  },
  {
   "cell_type": "code",
   "execution_count": 226,
   "metadata": {
    "colab": {
     "base_uri": "https://localhost:8080/"
    },
    "id": "WfexYBlW6Hg8",
    "outputId": "b2ffe9f9-e95d-4120-941d-cc5dde29eea0"
   },
   "outputs": [
    {
     "data": {
      "text/plain": [
       "0.1254881980246651"
      ]
     },
     "execution_count": 226,
     "metadata": {},
     "output_type": "execute_result"
    }
   ],
   "source": [
    "# Sparsity %\n",
    "X_train_vec.nnz*100/(X_train_vec.shape[0]*X_train_vec.shape[1])"
   ]
  },
  {
   "cell_type": "code",
   "execution_count": 227,
   "metadata": {
    "colab": {
     "base_uri": "https://localhost:8080/"
    },
    "id": "aECxWcecve8v",
    "outputId": "eac7224f-3907-478a-e6d9-e640f1dde701"
   },
   "outputs": [
    {
     "data": {
      "text/plain": [
       "(711, 6778)"
      ]
     },
     "execution_count": 227,
     "metadata": {},
     "output_type": "execute_result"
    }
   ],
   "source": [
    "X_val_vec.shape"
   ]
  },
  {
   "cell_type": "code",
   "execution_count": 228,
   "metadata": {
    "colab": {
     "base_uri": "https://localhost:8080/"
    },
    "id": "Bfj6YKnPvf5C",
    "outputId": "01a1b481-5549-4ad6-f77b-5d83f9243c4d"
   },
   "outputs": [
    {
     "data": {
      "text/plain": [
       "5517"
      ]
     },
     "execution_count": 228,
     "metadata": {},
     "output_type": "execute_result"
    }
   ],
   "source": [
    "X_val_vec.nnz"
   ]
  },
  {
   "cell_type": "code",
   "execution_count": 229,
   "metadata": {
    "colab": {
     "base_uri": "https://localhost:8080/"
    },
    "id": "AkDtH-8XvgpH",
    "outputId": "1d17c2a6-9bb1-4373-d448-b97728dabd90"
   },
   "outputs": [
    {
     "data": {
      "text/plain": [
       "0.11448057938751956"
      ]
     },
     "execution_count": 229,
     "metadata": {},
     "output_type": "execute_result"
    }
   ],
   "source": [
    "# Sparsity %\n",
    "X_val_vec.nnz*100/(X_val_vec.shape[0]*X_val_vec.shape[1])"
   ]
  },
  {
   "cell_type": "code",
   "execution_count": 230,
   "metadata": {
    "colab": {
     "base_uri": "https://localhost:8080/"
    },
    "id": "6xKZVqjjvtFs",
    "outputId": "42c430b2-66ce-4560-8a04-0cf7638c7bb7"
   },
   "outputs": [
    {
     "data": {
      "text/plain": [
       "(836, 6778)"
      ]
     },
     "execution_count": 230,
     "metadata": {},
     "output_type": "execute_result"
    }
   ],
   "source": [
    "X_test_vec.shape"
   ]
  },
  {
   "cell_type": "code",
   "execution_count": 231,
   "metadata": {
    "colab": {
     "base_uri": "https://localhost:8080/"
    },
    "id": "dMYJYN3IvttH",
    "outputId": "22d1daed-2c2b-42c4-f9ca-0a0572d5c4f7"
   },
   "outputs": [
    {
     "data": {
      "text/plain": [
       "5946"
      ]
     },
     "execution_count": 231,
     "metadata": {},
     "output_type": "execute_result"
    }
   ],
   "source": [
    "X_test_vec.nnz"
   ]
  },
  {
   "cell_type": "code",
   "execution_count": 232,
   "metadata": {
    "colab": {
     "base_uri": "https://localhost:8080/"
    },
    "id": "Qzs7yoqKvvY3",
    "outputId": "606513f8-e7f0-49ba-b1fd-46bc364056af"
   },
   "outputs": [
    {
     "data": {
      "text/plain": [
       "0.10493420170238359"
      ]
     },
     "execution_count": 232,
     "metadata": {},
     "output_type": "execute_result"
    }
   ],
   "source": [
    "# Sparsity %\n",
    "X_test_vec.nnz*100/(X_test_vec.shape[0]*X_test_vec.shape[1])"
   ]
  },
  {
   "cell_type": "code",
   "execution_count": 233,
   "metadata": {
    "id": "cN-u6hq66Iro"
   },
   "outputs": [],
   "source": [
    "tfidf_transformer = TfidfTransformer()\n",
    "tfidf_train = tfidf_transformer.fit_transform(X_train_vec)\n",
    "tfidf_val = tfidf_transformer.fit_transform(X_val_vec)\n",
    "tfidf_test = tfidf_transformer.fit_transform(X_test_vec)"
   ]
  },
  {
   "cell_type": "code",
   "execution_count": 234,
   "metadata": {
    "colab": {
     "base_uri": "https://localhost:8080/"
    },
    "id": "wemn-yWV6KUp",
    "outputId": "1e1d800b-95b5-421e-d501-0322b9bb42e2"
   },
   "outputs": [
    {
     "data": {
      "text/plain": [
       "((4025, 6778), (711, 6778), (836, 6778))"
      ]
     },
     "execution_count": 234,
     "metadata": {},
     "output_type": "execute_result"
    }
   ],
   "source": [
    "tfidf_train.shape,tfidf_val.shape,tfidf_test.shape"
   ]
  },
  {
   "cell_type": "markdown",
   "metadata": {
    "id": "4vX-z4Xkw7QU"
   },
   "source": [
    "## Training Models"
   ]
  },
  {
   "cell_type": "markdown",
   "metadata": {
    "id": "p9xaUpipy9Yq"
   },
   "source": [
    "# Multinomial Naive Bayes"
   ]
  },
  {
   "cell_type": "code",
   "execution_count": 265,
   "metadata": {
    "colab": {
     "base_uri": "https://localhost:8080/"
    },
    "id": "sQUHbDFM6Ls7",
    "outputId": "aecc049e-7f2a-4f61-d25a-f8a354dcc695"
   },
   "outputs": [
    {
     "name": "stdout",
     "output_type": "stream",
     "text": [
      "Accuracy= 98.16149068322981 %\n"
     ]
    }
   ],
   "source": [
    "mnb = MultinomialNB()\n",
    "mnb.fit(tfidf_train,y_train)\n",
    "y_pred = mnb.predict(tfidf_train)\n",
    "print(\"Accuracy=\",accuracy_score(y_train, y_pred)*100,\"%\")"
   ]
  },
  {
   "cell_type": "code",
   "execution_count": 266,
   "metadata": {
    "colab": {
     "base_uri": "https://localhost:8080/"
    },
    "id": "G2Zkt6x3Il5u",
    "outputId": "5e7d4edf-b270-4878-946b-f1b28cc855b1"
   },
   "outputs": [
    {
     "name": "stdout",
     "output_type": "stream",
     "text": [
      "Accuracy= 98.31223628691983 %\n",
      "               precision    recall  f1-score   support\n",
      "\n",
      "           0       0.98      1.00      0.99       614\n",
      "           1       1.00      0.88      0.93        97\n",
      "\n",
      "    accuracy                           0.98       711\n",
      "   macro avg       0.99      0.94      0.96       711\n",
      "weighted avg       0.98      0.98      0.98       711\n",
      "\n",
      "Accuracy= 97.8902953586498 %\n",
      "               precision    recall  f1-score   support\n",
      "\n",
      "           0       0.98      1.00      0.99       614\n",
      "           1       1.00      0.85      0.92        97\n",
      "\n",
      "    accuracy                           0.98       711\n",
      "   macro avg       0.99      0.92      0.95       711\n",
      "weighted avg       0.98      0.98      0.98       711\n",
      "\n",
      "Accuracy= 97.32770745428974 %\n",
      "               precision    recall  f1-score   support\n",
      "\n",
      "           0       0.97      1.00      0.98       614\n",
      "           1       1.00      0.80      0.89        97\n",
      "\n",
      "    accuracy                           0.97       711\n",
      "   macro avg       0.98      0.90      0.94       711\n",
      "weighted avg       0.97      0.97      0.97       711\n",
      "\n",
      "Accuracy= 96.76511954992968 %\n",
      "               precision    recall  f1-score   support\n",
      "\n",
      "           0       0.96      1.00      0.98       614\n",
      "           1       1.00      0.76      0.87        97\n",
      "\n",
      "    accuracy                           0.97       711\n",
      "   macro avg       0.98      0.88      0.92       711\n",
      "weighted avg       0.97      0.97      0.97       711\n",
      "\n",
      "Accuracy= 96.34317862165963 %\n",
      "               precision    recall  f1-score   support\n",
      "\n",
      "           0       0.96      1.00      0.98       614\n",
      "           1       1.00      0.73      0.85        97\n",
      "\n",
      "    accuracy                           0.96       711\n",
      "   macro avg       0.98      0.87      0.91       711\n",
      "weighted avg       0.96      0.96      0.96       711\n",
      "\n",
      "Accuracy= 95.78059071729957 %\n",
      "               precision    recall  f1-score   support\n",
      "\n",
      "           0       0.95      1.00      0.98       614\n",
      "           1       1.00      0.69      0.82        97\n",
      "\n",
      "    accuracy                           0.96       711\n",
      "   macro avg       0.98      0.85      0.90       711\n",
      "weighted avg       0.96      0.96      0.95       711\n",
      "\n",
      "Accuracy= 95.78059071729957 %\n",
      "               precision    recall  f1-score   support\n",
      "\n",
      "           0       0.95      1.00      0.98       614\n",
      "           1       1.00      0.69      0.82        97\n",
      "\n",
      "    accuracy                           0.96       711\n",
      "   macro avg       0.98      0.85      0.90       711\n",
      "weighted avg       0.96      0.96      0.95       711\n",
      "\n",
      "Accuracy= 95.0773558368495 %\n",
      "               precision    recall  f1-score   support\n",
      "\n",
      "           0       0.95      1.00      0.97       614\n",
      "           1       1.00      0.64      0.78        97\n",
      "\n",
      "    accuracy                           0.95       711\n",
      "   macro avg       0.97      0.82      0.88       711\n",
      "weighted avg       0.95      0.95      0.95       711\n",
      "\n"
     ]
    }
   ],
   "source": [
    "for i in np.arange(0.25, 2.25, 0.25):\n",
    "    mnb = MultinomialNB(alpha=i).fit(tfidf_train, y_train)\n",
    "    y_pred = mnb.predict(tfidf_val)\n",
    "    print(\"Accuracy=\",accuracy_score(y_val, y_pred)*100,\"%\\n\", classification_report(y_val, y_pred))"
   ]
  },
  {
   "cell_type": "markdown",
   "metadata": {
    "id": "z3PH1U92J6p7"
   },
   "source": [
    "alpha=0.25 maximises the recall and accuracy"
   ]
  },
  {
   "cell_type": "code",
   "execution_count": 267,
   "metadata": {
    "colab": {
     "base_uri": "https://localhost:8080/"
    },
    "id": "3Vz3xlTwJcVn",
    "outputId": "eb842c2d-2806-479c-bb65-da99dc523fdd"
   },
   "outputs": [
    {
     "name": "stdout",
     "output_type": "stream",
     "text": [
      "Accuracy= 99.6024844720497 %\n",
      "               precision    recall  f1-score   support\n",
      "\n",
      "           0       1.00      1.00      1.00      3479\n",
      "           1       1.00      0.97      0.99       546\n",
      "\n",
      "    accuracy                           1.00      4025\n",
      "   macro avg       1.00      0.99      0.99      4025\n",
      "weighted avg       1.00      1.00      1.00      4025\n",
      "\n"
     ]
    }
   ],
   "source": [
    "mnb = MultinomialNB(alpha=0.25).fit(tfidf_train, y_train)\n",
    "y_pred = mnb.predict(tfidf_train)\n",
    "print(\"Accuracy=\",accuracy_score(y_train, y_pred)*100,\"%\\n\", classification_report(y_train, y_pred))"
   ]
  },
  {
   "cell_type": "code",
   "execution_count": 268,
   "metadata": {
    "colab": {
     "base_uri": "https://localhost:8080/"
    },
    "id": "Cyc45-g5Kl7o",
    "outputId": "2aafb02d-ef08-462b-af78-df1f2766de0e"
   },
   "outputs": [
    {
     "name": "stdout",
     "output_type": "stream",
     "text": [
      "Accuracy= 97.84688995215312 %\n",
      "               precision    recall  f1-score   support\n",
      "\n",
      "           0       0.98      0.99      0.99       732\n",
      "           1       0.96      0.87      0.91       104\n",
      "\n",
      "    accuracy                           0.98       836\n",
      "   macro avg       0.97      0.93      0.95       836\n",
      "weighted avg       0.98      0.98      0.98       836\n",
      "\n"
     ]
    }
   ],
   "source": [
    "y_pred = mnb.predict(tfidf_test)\n",
    "print(\"Accuracy=\",accuracy_score(y_test, y_pred)*100,\"%\\n\", classification_report(y_test, y_pred))"
   ]
  },
  {
   "cell_type": "code",
   "execution_count": 269,
   "metadata": {
    "colab": {
     "base_uri": "https://localhost:8080/",
     "height": 353
    },
    "id": "CUP1wWw96Pdg",
    "outputId": "a14c8a86-dbe3-48a4-abfe-99067537283a"
   },
   "outputs": [
    {
     "name": "stderr",
     "output_type": "stream",
     "text": [
      "/usr/local/lib/python3.8/dist-packages/sklearn/utils/deprecation.py:87: FutureWarning: Function plot_confusion_matrix is deprecated; Function `plot_confusion_matrix` is deprecated in 1.0 and will be removed in 1.2. Use one of the class methods: ConfusionMatrixDisplay.from_predictions or ConfusionMatrixDisplay.from_estimator.\n",
      "  warnings.warn(msg, category=FutureWarning)\n"
     ]
    },
    {
     "data": {
      "text/plain": [
       "<sklearn.metrics._plot.confusion_matrix.ConfusionMatrixDisplay at 0x7f7b0d08a4c0>"
      ]
     },
     "execution_count": 269,
     "metadata": {},
     "output_type": "execute_result"
    },
    {
     "data": {
      "image/png": "[encoded data removed]",
      "text/plain": [
       "<Figure size 432x288 with 2 Axes>"
      ]
     },
     "metadata": {
      "needs_background": "light"
     },
     "output_type": "display_data"
    }
   ],
   "source": [
    "plot_confusion_matrix(mnb ,tfidf_test,y_test,display_labels=['no','yes'])"
   ]
  },
  {
   "cell_type": "markdown",
   "metadata": {
    "id": "hDZnBJ6SCz67"
   },
   "source": [
    "# SVM"
   ]
  },
  {
   "cell_type": "code",
   "execution_count": 270,
   "metadata": {
    "colab": {
     "base_uri": "https://localhost:8080/"
    },
    "id": "Z6No4vMFCOHG",
    "outputId": "e6a33775-53cb-457b-8ab3-c1e020836c0d"
   },
   "outputs": [
    {
     "name": "stdout",
     "output_type": "stream",
     "text": [
      "Accuracy= 99.77639751552795 %\n"
     ]
    }
   ],
   "source": [
    "clf = SVC(C=1)\n",
    "clf.fit(tfidf_train,y_train)\n",
    "y_pred = clf.predict(tfidf_train)\n",
    "print(\"Accuracy=\",accuracy_score(y_train, y_pred)*100,\"%\")"
   ]
  },
  {
   "cell_type": "code",
   "execution_count": 274,
   "metadata": {
    "colab": {
     "base_uri": "https://localhost:8080/"
    },
    "id": "pu7qFnuqLwlY",
    "outputId": "4f9ef166-7d7f-430f-c6da-634441474962"
   },
   "outputs": [
    {
     "name": "stdout",
     "output_type": "stream",
     "text": [
      "Accuracy= 98.31223628691983 %\n",
      "               precision    recall  f1-score   support\n",
      "\n",
      "           0       0.98      1.00      0.99       614\n",
      "           1       1.00      0.88      0.93        97\n",
      "\n",
      "    accuracy                           0.98       711\n",
      "   macro avg       0.99      0.94      0.96       711\n",
      "weighted avg       0.98      0.98      0.98       711\n",
      "\n",
      "Accuracy= 98.59353023909986 %\n",
      "               precision    recall  f1-score   support\n",
      "\n",
      "           0       0.98      1.00      0.99       614\n",
      "           1       1.00      0.90      0.95        97\n",
      "\n",
      "    accuracy                           0.99       711\n",
      "   macro avg       0.99      0.95      0.97       711\n",
      "weighted avg       0.99      0.99      0.99       711\n",
      "\n",
      "Accuracy= 98.59353023909986 %\n",
      "               precision    recall  f1-score   support\n",
      "\n",
      "           0       0.98      1.00      0.99       614\n",
      "           1       1.00      0.90      0.95        97\n",
      "\n",
      "    accuracy                           0.99       711\n",
      "   macro avg       0.99      0.95      0.97       711\n",
      "weighted avg       0.99      0.99      0.99       711\n",
      "\n",
      "Accuracy= 98.59353023909986 %\n",
      "               precision    recall  f1-score   support\n",
      "\n",
      "           0       0.98      1.00      0.99       614\n",
      "           1       1.00      0.90      0.95        97\n",
      "\n",
      "    accuracy                           0.99       711\n",
      "   macro avg       0.99      0.95      0.97       711\n",
      "weighted avg       0.99      0.99      0.99       711\n",
      "\n",
      "Accuracy= 98.59353023909986 %\n",
      "               precision    recall  f1-score   support\n",
      "\n",
      "           0       0.98      1.00      0.99       614\n",
      "           1       1.00      0.90      0.95        97\n",
      "\n",
      "    accuracy                           0.99       711\n",
      "   macro avg       0.99      0.95      0.97       711\n",
      "weighted avg       0.99      0.99      0.99       711\n",
      "\n",
      "Accuracy= 98.59353023909986 %\n",
      "               precision    recall  f1-score   support\n",
      "\n",
      "           0       0.98      1.00      0.99       614\n",
      "           1       1.00      0.90      0.95        97\n",
      "\n",
      "    accuracy                           0.99       711\n",
      "   macro avg       0.99      0.95      0.97       711\n",
      "weighted avg       0.99      0.99      0.99       711\n",
      "\n",
      "Accuracy= 98.59353023909986 %\n",
      "               precision    recall  f1-score   support\n",
      "\n",
      "           0       0.98      1.00      0.99       614\n",
      "           1       1.00      0.90      0.95        97\n",
      "\n",
      "    accuracy                           0.99       711\n",
      "   macro avg       0.99      0.95      0.97       711\n",
      "weighted avg       0.99      0.99      0.99       711\n",
      "\n",
      "Accuracy= 98.59353023909986 %\n",
      "               precision    recall  f1-score   support\n",
      "\n",
      "           0       0.98      1.00      0.99       614\n",
      "           1       1.00      0.90      0.95        97\n",
      "\n",
      "    accuracy                           0.99       711\n",
      "   macro avg       0.99      0.95      0.97       711\n",
      "weighted avg       0.99      0.99      0.99       711\n",
      "\n",
      "Accuracy= 98.59353023909986 %\n",
      "               precision    recall  f1-score   support\n",
      "\n",
      "           0       0.98      1.00      0.99       614\n",
      "           1       1.00      0.90      0.95        97\n",
      "\n",
      "    accuracy                           0.99       711\n",
      "   macro avg       0.99      0.95      0.97       711\n",
      "weighted avg       0.99      0.99      0.99       711\n",
      "\n",
      "Accuracy= 98.59353023909986 %\n",
      "               precision    recall  f1-score   support\n",
      "\n",
      "           0       0.98      1.00      0.99       614\n",
      "           1       1.00      0.90      0.95        97\n",
      "\n",
      "    accuracy                           0.99       711\n",
      "   macro avg       0.99      0.95      0.97       711\n",
      "weighted avg       0.99      0.99      0.99       711\n",
      "\n",
      "Accuracy= 98.59353023909986 %\n",
      "               precision    recall  f1-score   support\n",
      "\n",
      "           0       0.98      1.00      0.99       614\n",
      "           1       1.00      0.90      0.95        97\n",
      "\n",
      "    accuracy                           0.99       711\n",
      "   macro avg       0.99      0.95      0.97       711\n",
      "weighted avg       0.99      0.99      0.99       711\n",
      "\n",
      "Accuracy= 98.59353023909986 %\n",
      "               precision    recall  f1-score   support\n",
      "\n",
      "           0       0.98      1.00      0.99       614\n",
      "           1       1.00      0.90      0.95        97\n",
      "\n",
      "    accuracy                           0.99       711\n",
      "   macro avg       0.99      0.95      0.97       711\n",
      "weighted avg       0.99      0.99      0.99       711\n",
      "\n",
      "Accuracy= 98.59353023909986 %\n",
      "               precision    recall  f1-score   support\n",
      "\n",
      "           0       0.98      1.00      0.99       614\n",
      "           1       1.00      0.90      0.95        97\n",
      "\n",
      "    accuracy                           0.99       711\n",
      "   macro avg       0.99      0.95      0.97       711\n",
      "weighted avg       0.99      0.99      0.99       711\n",
      "\n",
      "Accuracy= 98.59353023909986 %\n",
      "               precision    recall  f1-score   support\n",
      "\n",
      "           0       0.98      1.00      0.99       614\n",
      "           1       1.00      0.90      0.95        97\n",
      "\n",
      "    accuracy                           0.99       711\n",
      "   macro avg       0.99      0.95      0.97       711\n",
      "weighted avg       0.99      0.99      0.99       711\n",
      "\n",
      "Accuracy= 98.59353023909986 %\n",
      "               precision    recall  f1-score   support\n",
      "\n",
      "           0       0.98      1.00      0.99       614\n",
      "           1       1.00      0.90      0.95        97\n",
      "\n",
      "    accuracy                           0.99       711\n",
      "   macro avg       0.99      0.95      0.97       711\n",
      "weighted avg       0.99      0.99      0.99       711\n",
      "\n",
      "Accuracy= 98.59353023909986 %\n",
      "               precision    recall  f1-score   support\n",
      "\n",
      "           0       0.98      1.00      0.99       614\n",
      "           1       1.00      0.90      0.95        97\n",
      "\n",
      "    accuracy                           0.99       711\n",
      "   macro avg       0.99      0.95      0.97       711\n",
      "weighted avg       0.99      0.99      0.99       711\n",
      "\n",
      "Accuracy= 98.59353023909986 %\n",
      "               precision    recall  f1-score   support\n",
      "\n",
      "           0       0.98      1.00      0.99       614\n",
      "           1       1.00      0.90      0.95        97\n",
      "\n",
      "    accuracy                           0.99       711\n",
      "   macro avg       0.99      0.95      0.97       711\n",
      "weighted avg       0.99      0.99      0.99       711\n",
      "\n",
      "Accuracy= 98.59353023909986 %\n",
      "               precision    recall  f1-score   support\n",
      "\n",
      "           0       0.98      1.00      0.99       614\n",
      "           1       1.00      0.90      0.95        97\n",
      "\n",
      "    accuracy                           0.99       711\n",
      "   macro avg       0.99      0.95      0.97       711\n",
      "weighted avg       0.99      0.99      0.99       711\n",
      "\n",
      "Accuracy= 98.59353023909986 %\n",
      "               precision    recall  f1-score   support\n",
      "\n",
      "           0       0.98      1.00      0.99       614\n",
      "           1       1.00      0.90      0.95        97\n",
      "\n",
      "    accuracy                           0.99       711\n",
      "   macro avg       0.99      0.95      0.97       711\n",
      "weighted avg       0.99      0.99      0.99       711\n",
      "\n",
      "Accuracy= 98.59353023909986 %\n",
      "               precision    recall  f1-score   support\n",
      "\n",
      "           0       0.98      1.00      0.99       614\n",
      "           1       1.00      0.90      0.95        97\n",
      "\n",
      "    accuracy                           0.99       711\n",
      "   macro avg       0.99      0.95      0.97       711\n",
      "weighted avg       0.99      0.99      0.99       711\n",
      "\n"
     ]
    }
   ],
   "source": [
    "for i in range(1,2000,100):\n",
    "    clf = SVC(C=i)\n",
    "    clf.fit(tfidf_train, y_train)\n",
    "    y_pred = clf.predict(tfidf_val)\n",
    "    print(\"Accuracy=\",accuracy_score(y_val, y_pred)*100,\"%\\n\", classification_report(y_val, y_pred))"
   ]
  },
  {
   "cell_type": "markdown",
   "metadata": {
    "id": "YtfTrE3FNFMu"
   },
   "source": [
    "C=200 maximises recall and accuracy"
   ]
  },
  {
   "cell_type": "code",
   "execution_count": 283,
   "metadata": {
    "colab": {
     "base_uri": "https://localhost:8080/"
    },
    "id": "_XSb8ViMM8vZ",
    "outputId": "800721d3-f635-473e-9645-55f5834a7676"
   },
   "outputs": [
    {
     "name": "stdout",
     "output_type": "stream",
     "text": [
      "Accuracy= 100.0 %\n",
      "               precision    recall  f1-score   support\n",
      "\n",
      "           0       1.00      1.00      1.00      3479\n",
      "           1       1.00      1.00      1.00       546\n",
      "\n",
      "    accuracy                           1.00      4025\n",
      "   macro avg       1.00      1.00      1.00      4025\n",
      "weighted avg       1.00      1.00      1.00      4025\n",
      "\n"
     ]
    }
   ],
   "source": [
    "clf =SVC(C=200).fit(tfidf_train, y_train)\n",
    "y_pred = clf.predict(tfidf_train)\n",
    "print(\"Accuracy=\",accuracy_score(y_train, y_pred)*100,\"%\\n\", classification_report(y_train, y_pred))"
   ]
  },
  {
   "cell_type": "code",
   "execution_count": 285,
   "metadata": {
    "colab": {
     "base_uri": "https://localhost:8080/"
    },
    "id": "19Se0XXFNLbV",
    "outputId": "5b9a8037-5c2e-406d-ce42-68b32d6ec3fe"
   },
   "outputs": [
    {
     "name": "stdout",
     "output_type": "stream",
     "text": [
      "Accuracy= 97.96650717703349 %\n",
      "               precision    recall  f1-score   support\n",
      "\n",
      "           0       0.98      1.00      0.99       732\n",
      "           1       0.98      0.86      0.91       104\n",
      "\n",
      "    accuracy                           0.98       836\n",
      "   macro avg       0.98      0.93      0.95       836\n",
      "weighted avg       0.98      0.98      0.98       836\n",
      "\n"
     ]
    }
   ],
   "source": [
    "y_pred = clf.predict(tfidf_test)\n",
    "print(\"Accuracy=\",accuracy_score(y_test, y_pred)*100,\"%\\n\", classification_report(y_test, y_pred))"
   ]
  },
  {
   "cell_type": "code",
   "execution_count": 286,
   "metadata": {
    "colab": {
     "base_uri": "https://localhost:8080/",
     "height": 353
    },
    "id": "eXVH9Ww6NRlR",
    "outputId": "6f423bd5-5781-4e46-91ba-71e291d466f0"
   },
   "outputs": [
    {
     "name": "stderr",
     "output_type": "stream",
     "text": [
      "/usr/local/lib/python3.8/dist-packages/sklearn/utils/deprecation.py:87: FutureWarning: Function plot_confusion_matrix is deprecated; Function `plot_confusion_matrix` is deprecated in 1.0 and will be removed in 1.2. Use one of the class methods: ConfusionMatrixDisplay.from_predictions or ConfusionMatrixDisplay.from_estimator.\n",
      "  warnings.warn(msg, category=FutureWarning)\n"
     ]
    },
    {
     "data": {
      "text/plain": [
       "<sklearn.metrics._plot.confusion_matrix.ConfusionMatrixDisplay at 0x7f7b0a1e2070>"
      ]
     },
     "execution_count": 286,
     "metadata": {},
     "output_type": "execute_result"
    },
    {
     "data": {
      "image/png": "[encoded data removed]",
      "text/plain": [
       "<Figure size 432x288 with 2 Axes>"
      ]
     },
     "metadata": {
      "needs_background": "light"
     },
     "output_type": "display_data"
    }
   ],
   "source": [
    "plot_confusion_matrix(clf ,tfidf_test,y_test,display_labels=['no','yes'])"
   ]
  },
  {
   "cell_type": "markdown",
   "metadata": {
    "id": "A2V0PJ5KO5fW"
   },
   "source": [
    "# MLP Classifier"
   ]
  },
  {
   "cell_type": "code",
   "execution_count": 293,
   "metadata": {
    "colab": {
     "base_uri": "https://localhost:8080/"
    },
    "id": "jwFCKlO7Pch3",
    "outputId": "62747d57-c1f3-48e7-de5f-b9eaa327735d"
   },
   "outputs": [
    {
     "name": "stdout",
     "output_type": "stream",
     "text": [
      "100.0 \n",
      "               precision    recall  f1-score   support\n",
      "\n",
      "           0       1.00      1.00      1.00      3479\n",
      "           1       1.00      1.00      1.00       546\n",
      "\n",
      "    accuracy                           1.00      4025\n",
      "   macro avg       1.00      1.00      1.00      4025\n",
      "weighted avg       1.00      1.00      1.00      4025\n",
      "\n"
     ]
    }
   ],
   "source": [
    "mlp=MLPClassifier()\n",
    "mlp.fit(tfidf_train, y_train)\n",
    "y_pred = mlp.predict(tfidf_train)\n",
    "print(accuracy_score(y_train, y_pred)*100, '\\n', classification_report(y_train, y_pred))"
   ]
  },
  {
   "cell_type": "code",
   "execution_count": 295,
   "metadata": {
    "colab": {
     "base_uri": "https://localhost:8080/"
    },
    "id": "u6hZcSUXQsDb",
    "outputId": "e87e3601-628b-4c5a-8d2a-32e4ff216c36"
   },
   "outputs": [
    {
     "name": "stdout",
     "output_type": "stream",
     "text": [
      "Accuracy= 98.45288326300985 %\n",
      "               precision    recall  f1-score   support\n",
      "\n",
      "           0       0.99      1.00      0.99       614\n",
      "           1       0.98      0.91      0.94        97\n",
      "\n",
      "    accuracy                           0.98       711\n",
      "   macro avg       0.98      0.95      0.97       711\n",
      "weighted avg       0.98      0.98      0.98       711\n",
      "\n"
     ]
    }
   ],
   "source": [
    "y_pred = mlp.predict(tfidf_val)\n",
    "print(\"Accuracy=\",accuracy_score(y_val, y_pred)*100,\"%\\n\", classification_report(y_val, y_pred))"
   ]
  },
  {
   "cell_type": "code",
   "execution_count": 296,
   "metadata": {
    "colab": {
     "base_uri": "https://localhost:8080/"
    },
    "id": "DBhlqswTQYvQ",
    "outputId": "e1e746ce-4d73-4b64-85ca-ba2bd93dcb19"
   },
   "outputs": [
    {
     "name": "stdout",
     "output_type": "stream",
     "text": [
      "Accuracy= 98.68421052631578 %\n",
      "               precision    recall  f1-score   support\n",
      "\n",
      "           0       0.99      1.00      0.99       732\n",
      "           1       0.99      0.90      0.94       104\n",
      "\n",
      "    accuracy                           0.99       836\n",
      "   macro avg       0.99      0.95      0.97       836\n",
      "weighted avg       0.99      0.99      0.99       836\n",
      "\n"
     ]
    }
   ],
   "source": [
    "y_pred = mlp.predict(tfidf_test)\n",
    "print(\"Accuracy=\",accuracy_score(y_test, y_pred)*100,\"%\\n\", classification_report(y_test, y_pred))"
   ]
  },
  {
   "cell_type": "code",
   "execution_count": 297,
   "metadata": {
    "colab": {
     "base_uri": "https://localhost:8080/",
     "height": 353
    },
    "id": "zcbjWUVYQa3B",
    "outputId": "c467e78b-91d8-40ce-b578-c294eef98013"
   },
   "outputs": [
    {
     "name": "stderr",
     "output_type": "stream",
     "text": [
      "/usr/local/lib/python3.8/dist-packages/sklearn/utils/deprecation.py:87: FutureWarning: Function plot_confusion_matrix is deprecated; Function `plot_confusion_matrix` is deprecated in 1.0 and will be removed in 1.2. Use one of the class methods: ConfusionMatrixDisplay.from_predictions or ConfusionMatrixDisplay.from_estimator.\n",
      "  warnings.warn(msg, category=FutureWarning)\n"
     ]
    },
    {
     "data": {
      "text/plain": [
       "<sklearn.metrics._plot.confusion_matrix.ConfusionMatrixDisplay at 0x7f7b0a1bec10>"
      ]
     },
     "execution_count": 297,
     "metadata": {},
     "output_type": "execute_result"
    },
    {
     "data": {
      "image/png": "[encoded data removed]",
      "text/plain": [
       "<Figure size 432x288 with 2 Axes>"
      ]
     },
     "metadata": {
      "needs_background": "light"
     },
     "output_type": "display_data"
    }
   ],
   "source": [
    "plot_confusion_matrix(mlp ,tfidf_test,y_test,display_labels=['no','yes'])"
   ]
  },
  {
   "cell_type": "markdown",
   "metadata": {
    "id": "vRqLT6oM9WF1"
   },
   "source": [
    "Since our aim is to reduce FN, hence increasing recall, MLP classifier suits best, according to accuracy as well as recall criteria."
   ]
  }
 ],
 "metadata": {
  "colab": {
   "provenance": []
  },
  "kernelspec": {
   "display_name": "Python 3",
   "name": "python3"
  },
  "language_info": {
   "name": "python"
  }
 },
 "nbformat": 4,
 "nbformat_minor": 0
}
